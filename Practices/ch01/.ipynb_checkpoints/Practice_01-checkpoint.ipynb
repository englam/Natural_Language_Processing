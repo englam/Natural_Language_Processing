{
 "cells": [
  {
   "cell_type": "code",
   "execution_count": 3,
   "metadata": {},
   "outputs": [
    {
     "name": "stdout",
     "output_type": "stream",
     "text": [
      "*** Introductory Examples for the NLTK Book ***\n",
      "Loading text1, ..., text9 and sent1, ..., sent9\n",
      "Type the name of the text or sentence to view it.\n",
      "Type: 'texts()' or 'sents()' to list the materials.\n",
      "text1: Moby Dick by Herman Melville 1851\n",
      "text2: Sense and Sensibility by Jane Austen 1811\n",
      "text3: The Book of Genesis\n",
      "text4: Inaugural Address Corpus\n",
      "text5: Chat Corpus\n",
      "text6: Monty Python and the Holy Grail\n",
      "text7: Wall Street Journal\n",
      "text8: Personals Corpus\n",
      "text9: The Man Who Was Thursday by G . K . Chesterton 1908\n"
     ]
    }
   ],
   "source": [
    "from nltk.book import *"
   ]
  },
  {
   "cell_type": "code",
   "execution_count": 4,
   "metadata": {},
   "outputs": [
    {
     "data": {
      "text/plain": [
       "<Text: Moby Dick by Herman Melville 1851>"
      ]
     },
     "execution_count": 4,
     "metadata": {},
     "output_type": "execute_result"
    }
   ],
   "source": [
    "text1"
   ]
  },
  {
   "cell_type": "code",
   "execution_count": 5,
   "metadata": {},
   "outputs": [
    {
     "name": "stdout",
     "output_type": "stream",
     "text": [
      "Displaying 11 of 11 matches:\n",
      "ong the former , one was of a most monstrous size . ... This came towards us , \n",
      "ON OF THE PSALMS . \" Touching that monstrous bulk of the whale or ork we have r\n",
      "ll over with a heathenish array of monstrous clubs and spears . Some were thick\n",
      "d as you gazed , and wondered what monstrous cannibal and savage could ever hav\n",
      "that has survived the flood ; most monstrous and most mountainous ! That Himmal\n",
      "they might scout at Moby Dick as a monstrous fable , or still worse and more de\n",
      "th of Radney .'\" CHAPTER 55 Of the Monstrous Pictures of Whales . I shall ere l\n",
      "ing Scenes . In connexion with the monstrous pictures of whales , I am strongly\n",
      "ere to enter upon those still more monstrous stories of them which are to be fo\n",
      "ght have been rummaged out of this monstrous cabinet there is no telling . But \n",
      "of Whale - Bones ; for Whales of a monstrous size are oftentimes cast up dead u\n"
     ]
    }
   ],
   "source": [
    "text1.concordance(\"monstrous\")"
   ]
  },
  {
   "cell_type": "code",
   "execution_count": 6,
   "metadata": {},
   "outputs": [
    {
     "name": "stdout",
     "output_type": "stream",
     "text": [
      "domineering true fearless few part trustworthy loving maddens\n",
      "delightfully impalpable lamentable contemptible pitiable horrible mean\n",
      "modifies exasperate gamesome perilous abundant\n"
     ]
    }
   ],
   "source": [
    "text1.similar(\"monstrous\")"
   ]
  },
  {
   "cell_type": "code",
   "execution_count": 7,
   "metadata": {},
   "outputs": [
    {
     "name": "stdout",
     "output_type": "stream",
     "text": [
      "a_lucky be_glad am_glad a_pretty is_pretty\n"
     ]
    }
   ],
   "source": [
    "text2.common_contexts([\"monstrous\",\"very\"])"
   ]
  },
  {
   "cell_type": "markdown",
   "metadata": {},
   "source": [
    "建立圖片，說詞分布圖"
   ]
  },
  {
   "cell_type": "code",
   "execution_count": 8,
   "metadata": {},
   "outputs": [
    {
     "data": {
      "image/png": "[encoded data removed]",
      "text/plain": [
       "<matplotlib.figure.Figure at 0x1a93c50>"
      ]
     },
     "metadata": {},
     "output_type": "display_data"
    }
   ],
   "source": [
    "text4.dispersion_plot(['citizens','democracy','freedom','duties','America'])"
   ]
  },
  {
   "cell_type": "code",
   "execution_count": 10,
   "metadata": {},
   "outputs": [
    {
     "data": {
      "text/plain": [
       "5"
      ]
     },
     "execution_count": 10,
     "metadata": {},
     "output_type": "execute_result"
    }
   ],
   "source": [
    "text3.count(\"smote\")"
   ]
  },
  {
   "cell_type": "code",
   "execution_count": 11,
   "metadata": {},
   "outputs": [
    {
     "data": {
      "text/plain": [
       "1.4643016433938312"
      ]
     },
     "execution_count": 11,
     "metadata": {},
     "output_type": "execute_result"
    }
   ],
   "source": [
    "100*text4.count('a') / len(text4)"
   ]
  },
  {
   "cell_type": "code",
   "execution_count": 26,
   "metadata": {
    "collapsed": true
   },
   "outputs": [],
   "source": [
    "'''每個詞平均被用幾次'''\n",
    "def lexical_diversity(text):\n",
    "    return len(text) / len(set(text))\n",
    "\n",
    "'''特定的詞被使用多少%'''\n",
    "def percentage(count,total):\n",
    "    return 100* count / total\n"
   ]
  },
  {
   "cell_type": "code",
   "execution_count": 13,
   "metadata": {},
   "outputs": [
    {
     "data": {
      "text/plain": [
       "16.050197203298673"
      ]
     },
     "execution_count": 13,
     "metadata": {},
     "output_type": "execute_result"
    }
   ],
   "source": [
    "lexical_diversity(text3)"
   ]
  },
  {
   "cell_type": "code",
   "execution_count": 16,
   "metadata": {},
   "outputs": [
    {
     "data": {
      "text/plain": [
       "1.4643016433938312"
      ]
     },
     "execution_count": 16,
     "metadata": {},
     "output_type": "execute_result"
    }
   ],
   "source": [
    "percentage(text4.count('a'), len(text4))"
   ]
  },
  {
   "cell_type": "code",
   "execution_count": 20,
   "metadata": {
    "collapsed": true
   },
   "outputs": [],
   "source": [
    "sent1 = ['englam','Englam','me','englam','englam']"
   ]
  },
  {
   "cell_type": "code",
   "execution_count": 23,
   "metadata": {},
   "outputs": [
    {
     "data": {
      "text/plain": [
       "5"
      ]
     },
     "execution_count": 23,
     "metadata": {},
     "output_type": "execute_result"
    }
   ],
   "source": [
    "len(sent1)"
   ]
  },
  {
   "cell_type": "code",
   "execution_count": 24,
   "metadata": {},
   "outputs": [
    {
     "data": {
      "text/plain": [
       "3"
      ]
     },
     "execution_count": 24,
     "metadata": {},
     "output_type": "execute_result"
    }
   ],
   "source": [
    "len(set(sent1))"
   ]
  },
  {
   "cell_type": "code",
   "execution_count": 25,
   "metadata": {},
   "outputs": [
    {
     "data": {
      "text/plain": [
       "1.6666666666666667"
      ]
     },
     "execution_count": 25,
     "metadata": {},
     "output_type": "execute_result"
    }
   ],
   "source": [
    "lexical_diversity(sent1)"
   ]
  },
  {
   "cell_type": "code",
   "execution_count": 27,
   "metadata": {
    "collapsed": true
   },
   "outputs": [],
   "source": [
    "fdist1 = FreqDist(text1)"
   ]
  },
  {
   "cell_type": "code",
   "execution_count": 28,
   "metadata": {},
   "outputs": [
    {
     "data": {
      "text/plain": [
       "FreqDist({'smothering': 1,\n",
       "          'type': 1,\n",
       "          'birth': 10,\n",
       "          'crackers': 1,\n",
       "          'gazettes': 1,\n",
       "          'DEAD': 1,\n",
       "          'fuel': 4,\n",
       "          'Drive': 3,\n",
       "          'useful': 5,\n",
       "          'attic': 1,\n",
       "          'Spirit': 3,\n",
       "          'gets': 4,\n",
       "          'unhinged': 3,\n",
       "          'Davy': 2,\n",
       "          'Squaring': 1,\n",
       "          'Rinaldini': 1,\n",
       "          'descriptively': 1,\n",
       "          'similar': 25,\n",
       "          'phenomenon': 5,\n",
       "          'abstraction': 1,\n",
       "          'Bibliographical': 1,\n",
       "          'hearty': 8,\n",
       "          'talks': 1,\n",
       "          'embellished': 3,\n",
       "          'flour': 1,\n",
       "          'burying': 2,\n",
       "          'Why': 48,\n",
       "          'closing': 1,\n",
       "          'Cathedral': 2,\n",
       "          'prosecuted': 1,\n",
       "          'interest': 18,\n",
       "          'wore': 11,\n",
       "          'bye': 13,\n",
       "          'policeman': 1,\n",
       "          'prophesies': 1,\n",
       "          'stoopingly': 1,\n",
       "          'contracts': 1,\n",
       "          'mutineer': 2,\n",
       "          'trivial': 1,\n",
       "          'mentioning': 3,\n",
       "          'three': 237,\n",
       "          'temporary': 11,\n",
       "          'earlier': 5,\n",
       "          'handedly': 1,\n",
       "          'sleights': 1,\n",
       "          'LONG': 4,\n",
       "          '37': 1,\n",
       "          'braves': 1,\n",
       "          'rascals': 1,\n",
       "          'companies': 5,\n",
       "          'brilliance': 1,\n",
       "          'Make': 3,\n",
       "          'stole': 6,\n",
       "          'misgrown': 1,\n",
       "          'Canals': 1,\n",
       "          'flea': 2,\n",
       "          'reticule': 1,\n",
       "          'ducking': 4,\n",
       "          'objection': 2,\n",
       "          'hated': 7,\n",
       "          'eat': 11,\n",
       "          'feebler': 1,\n",
       "          'canakin': 1,\n",
       "          'chipping': 1,\n",
       "          'queerest': 3,\n",
       "          'but': 1113,\n",
       "          'Evangelists': 3,\n",
       "          'mutters': 2,\n",
       "          'Tusked': 1,\n",
       "          'admirably': 2,\n",
       "          'sleek': 2,\n",
       "          'frigid': 3,\n",
       "          'Led': 1,\n",
       "          'pistols': 2,\n",
       "          'imbedded': 2,\n",
       "          'embarks': 1,\n",
       "          'hist': 3,\n",
       "          'sudden': 42,\n",
       "          'unsaid': 1,\n",
       "          'flambeaux': 1,\n",
       "          'comforting': 1,\n",
       "          'tapering': 12,\n",
       "          'centaurs': 2,\n",
       "          'errors': 3,\n",
       "          'finally': 23,\n",
       "          'hopeless': 8,\n",
       "          'southerly': 2,\n",
       "          'urged': 3,\n",
       "          'digestion': 2,\n",
       "          'plugged': 1,\n",
       "          'embayed': 1,\n",
       "          'lonesomeness': 1,\n",
       "          'hopelessly': 4,\n",
       "          'manifold': 3,\n",
       "          'phospher': 1,\n",
       "          'premium': 2,\n",
       "          'astern': 28,\n",
       "          'endure': 10,\n",
       "          'outlet': 1,\n",
       "          'Owen': 5,\n",
       "          'cronies': 2,\n",
       "          'coupled': 3,\n",
       "          'combat': 2,\n",
       "          'shutter': 1,\n",
       "          'experiences': 5,\n",
       "          'haven': 7,\n",
       "          'ROCKS': 1,\n",
       "          'nutmeg': 1,\n",
       "          'receding': 2,\n",
       "          'maul': 6,\n",
       "          'suspicions': 5,\n",
       "          'unsuccessful': 1,\n",
       "          'country': 25,\n",
       "          'fun': 6,\n",
       "          'democratic': 2,\n",
       "          'pirouetting': 1,\n",
       "          'benediction': 3,\n",
       "          'selectest': 1,\n",
       "          'permit': 3,\n",
       "          'broker': 2,\n",
       "          'tubs': 12,\n",
       "          'teeth': 47,\n",
       "          'expensive': 2,\n",
       "          'understand': 17,\n",
       "          'caress': 1,\n",
       "          'pained': 2,\n",
       "          'unbuckling': 1,\n",
       "          'deserts': 2,\n",
       "          'knit': 1,\n",
       "          'evilly': 1,\n",
       "          'fished': 1,\n",
       "          'annihilation': 3,\n",
       "          'entreaty': 2,\n",
       "          'yea': 9,\n",
       "          'Time': 9,\n",
       "          'deaf': 3,\n",
       "          'love': 24,\n",
       "          'untouchable': 1,\n",
       "          'brine': 4,\n",
       "          'Nantucketer': 22,\n",
       "          'ulceration': 1,\n",
       "          'slide': 10,\n",
       "          'nonplussed': 1,\n",
       "          'troops': 2,\n",
       "          'furs': 1,\n",
       "          'experimental': 1,\n",
       "          'names': 12,\n",
       "          'filliping': 1,\n",
       "          'vapours': 4,\n",
       "          '68': 1,\n",
       "          'rounder': 1,\n",
       "          'Elephants': 1,\n",
       "          'good': 192,\n",
       "          'tone': 6,\n",
       "          'Jesu': 1,\n",
       "          'dam': 18,\n",
       "          'four': 74,\n",
       "          'cutlets': 1,\n",
       "          'increasing': 5,\n",
       "          'gettee': 1,\n",
       "          'Says': 2,\n",
       "          'unscrew': 2,\n",
       "          'sloped': 1,\n",
       "          'sufficient': 5,\n",
       "          'befriend': 2,\n",
       "          'dreary': 6,\n",
       "          'breeze': 20,\n",
       "          'attacked': 3,\n",
       "          'unlike': 6,\n",
       "          'gaudiest': 1,\n",
       "          'whiffs': 1,\n",
       "          'Screwed': 1,\n",
       "          'ee': 3,\n",
       "          'bethinking': 4,\n",
       "          'CONTESTED': 1,\n",
       "          'intermixed': 1,\n",
       "          'evolved': 1,\n",
       "          'oaken': 5,\n",
       "          'sights': 12,\n",
       "          'radical': 1,\n",
       "          'holding': 34,\n",
       "          'drifted': 3,\n",
       "          'rockings': 1,\n",
       "          'likeness': 6,\n",
       "          'brackish': 1,\n",
       "          'robustness': 3,\n",
       "          'frightens': 2,\n",
       "          'Mixed': 1,\n",
       "          'ventilated': 1,\n",
       "          'chariot': 2,\n",
       "          'Bear': 5,\n",
       "          'denunciations': 1,\n",
       "          'clamped': 1,\n",
       "          'clanking': 2,\n",
       "          'wheresoe': 1,\n",
       "          'bladders': 1,\n",
       "          'bone': 50,\n",
       "          'ought': 8,\n",
       "          'THRICE': 1,\n",
       "          'pit': 7,\n",
       "          'grazing': 1,\n",
       "          'attached': 20,\n",
       "          'THIS': 7,\n",
       "          'quickly': 21,\n",
       "          'democracy': 3,\n",
       "          'storm': 32,\n",
       "          'Bengal': 2,\n",
       "          'concussions': 1,\n",
       "          'milestones': 1,\n",
       "          'biggest': 2,\n",
       "          'Mast': 5,\n",
       "          'answer': 23,\n",
       "          'reappeared': 2,\n",
       "          'EZEKIEL': 1,\n",
       "          'came': 130,\n",
       "          'bridal': 4,\n",
       "          'expanses': 1,\n",
       "          'moons': 2,\n",
       "          'choice': 5,\n",
       "          'regard': 9,\n",
       "          'boneless': 3,\n",
       "          'slewing': 1,\n",
       "          'guarantees': 1,\n",
       "          'instincts': 1,\n",
       "          'commons': 1,\n",
       "          'slip': 3,\n",
       "          'matter': 86,\n",
       "          'handicrafts': 1,\n",
       "          'behooves': 3,\n",
       "          'overtake': 3,\n",
       "          'bare': 9,\n",
       "          'glaring': 2,\n",
       "          'bulge': 1,\n",
       "          'dreams': 8,\n",
       "          'Quog': 1,\n",
       "          'unsuspecting': 1,\n",
       "          'suckling': 2,\n",
       "          'stubbornly': 2,\n",
       "          'afterwards': 24,\n",
       "          'unimaginable': 5,\n",
       "          'Placing': 1,\n",
       "          'cohorts': 1,\n",
       "          'tacit': 2,\n",
       "          'SMALL': 1,\n",
       "          'unlighted': 1,\n",
       "          'topsail': 2,\n",
       "          'deepening': 1,\n",
       "          'limits': 1,\n",
       "          'tyros': 1,\n",
       "          'rich': 8,\n",
       "          'refusing': 1,\n",
       "          'mane': 2,\n",
       "          'credited': 2,\n",
       "          'graved': 1,\n",
       "          'chemistry': 1,\n",
       "          'erections': 2,\n",
       "          'dartingly': 1,\n",
       "          'le': 1,\n",
       "          'Unicorn': 1,\n",
       "          'crawling': 6,\n",
       "          'Vermonters': 1,\n",
       "          'ranging': 7,\n",
       "          'Vesuvius': 2,\n",
       "          'productive': 1,\n",
       "          'tun': 3,\n",
       "          'imitated': 1,\n",
       "          'scrapings': 1,\n",
       "          'hopped': 1,\n",
       "          'Small': 2,\n",
       "          'turbaned': 3,\n",
       "          'scrutiny': 1,\n",
       "          'sow': 2,\n",
       "          'STOWE': 1,\n",
       "          'bandaged': 3,\n",
       "          'freebooting': 1,\n",
       "          'painstaking': 1,\n",
       "          'vanished': 3,\n",
       "          'exact': 8,\n",
       "          'Archbishop': 1,\n",
       "          'barbarous': 3,\n",
       "          'doesn': 2,\n",
       "          'knowest': 6,\n",
       "          'HARRIS': 2,\n",
       "          'Ohio': 3,\n",
       "          'edict': 1,\n",
       "          'understanding': 4,\n",
       "          'stung': 2,\n",
       "          'ober': 1,\n",
       "          'Book': 4,\n",
       "          'Huggins': 2,\n",
       "          'stared': 1,\n",
       "          'weary': 16,\n",
       "          'enchantment': 1,\n",
       "          'swerve': 4,\n",
       "          'valves': 1,\n",
       "          'preaching': 3,\n",
       "          'conceals': 1,\n",
       "          'Overhearing': 2,\n",
       "          'lithe': 2,\n",
       "          'Snatch': 1,\n",
       "          'cometh': 1,\n",
       "          'jeopardy': 6,\n",
       "          'meadows': 3,\n",
       "          'Oregon': 2,\n",
       "          'colourless': 3,\n",
       "          'SURVIVORS': 1,\n",
       "          'suffused': 1,\n",
       "          'nation': 5,\n",
       "          'Softly': 1,\n",
       "          'hearers': 2,\n",
       "          'Massa': 3,\n",
       "          'leap': 10,\n",
       "          'entertaining': 2,\n",
       "          'electricity': 1,\n",
       "          'ragamuffin': 1,\n",
       "          'skelter': 2,\n",
       "          'fellow': 53,\n",
       "          'heath': 1,\n",
       "          '--\\'\"': 1,\n",
       "          'proportioned': 1,\n",
       "          'patentee': 1,\n",
       "          'si': 1,\n",
       "          'hears': 5,\n",
       "          'seize': 8,\n",
       "          'Fishes': 2,\n",
       "          'personified': 3,\n",
       "          'furnish': 9,\n",
       "          'continually': 17,\n",
       "          'curvetting': 1,\n",
       "          'laudanum': 1,\n",
       "          'papered': 3,\n",
       "          'grounds': 12,\n",
       "          'unfrequented': 1,\n",
       "          'marry': 2,\n",
       "          'Tattoo': 1,\n",
       "          'thigh': 8,\n",
       "          'Back': 8,\n",
       "          'rapping': 1,\n",
       "          'prices': 2,\n",
       "          'boards': 1,\n",
       "          'things': 132,\n",
       "          'strolled': 1,\n",
       "          'sprouts': 1,\n",
       "          'rocked': 5,\n",
       "          'artist': 4,\n",
       "          'antagonistic': 1,\n",
       "          'poorly': 1,\n",
       "          'raiment': 2,\n",
       "          'brimful': 1,\n",
       "          'Whaling': 7,\n",
       "          'overbearing': 4,\n",
       "          'grasshopper': 2,\n",
       "          'Lent': 1,\n",
       "          'spaciousness': 1,\n",
       "          'prow': 21,\n",
       "          'afloat': 12,\n",
       "          'HUMP': 2,\n",
       "          'bequeathed': 1,\n",
       "          'counterpane': 6,\n",
       "          'couples': 1,\n",
       "          'voided': 1,\n",
       "          'queen': 2,\n",
       "          'veneration': 1,\n",
       "          'wavingly': 1,\n",
       "          'bucks': 1,\n",
       "          'IV': 4,\n",
       "          'defunct': 1,\n",
       "          'accept': 1,\n",
       "          'imposed': 1,\n",
       "          'clay': 5,\n",
       "          'heeds': 2,\n",
       "          'Still': 13,\n",
       "          'diffused': 3,\n",
       "          'moulder': 1,\n",
       "          'paradise': 1,\n",
       "          'Utter': 1,\n",
       "          'cooking': 2,\n",
       "          'gardenny': 1,\n",
       "          'christenings': 1,\n",
       "          'demon': 3,\n",
       "          'Grecian': 2,\n",
       "          'piercing': 4,\n",
       "          'bucket': 15,\n",
       "          'apparelled': 2,\n",
       "          'dood': 2,\n",
       "          'tiers': 1,\n",
       "          'stories': 7,\n",
       "          'serve': 6,\n",
       "          'savageness': 1,\n",
       "          'joint': 7,\n",
       "          'Drawn': 1,\n",
       "          'ringed': 4,\n",
       "          'brit': 7,\n",
       "          'enchanter': 1,\n",
       "          'tablecloth': 1,\n",
       "          'ends': 19,\n",
       "          'Argo': 1,\n",
       "          'brave': 18,\n",
       "          'dandies': 1,\n",
       "          'noise': 12,\n",
       "          'griffin': 1,\n",
       "          'Cock': 1,\n",
       "          'shallows': 1,\n",
       "          'practically': 3,\n",
       "          'vacated': 1,\n",
       "          'manners': 1,\n",
       "          'placeless': 2,\n",
       "          'dense': 10,\n",
       "          'Mississippi': 3,\n",
       "          'chained': 2,\n",
       "          'confined': 3,\n",
       "          'bashfulness': 1,\n",
       "          'Believe': 2,\n",
       "          'girdled': 3,\n",
       "          'whaleboat': 1,\n",
       "          'OWEN': 1,\n",
       "          'offensively': 1,\n",
       "          'effulgent': 2,\n",
       "          'chamber': 3,\n",
       "          'prolonged': 11,\n",
       "          'whistling': 2,\n",
       "          'completion': 2,\n",
       "          'acquiesced': 1,\n",
       "          'alights': 1,\n",
       "          'constant': 5,\n",
       "          'generic': 4,\n",
       "          'obsolete': 2,\n",
       "          'scenes': 10,\n",
       "          'gateways': 1,\n",
       "          'MOVES': 1,\n",
       "          'edge': 7,\n",
       "          'Circassian': 1,\n",
       "          'sewing': 1,\n",
       "          'slopingly': 1,\n",
       "          'exceptionable': 1,\n",
       "          'wives': 5,\n",
       "          'zoology': 1,\n",
       "          'moccasined': 1,\n",
       "          'foamingly': 1,\n",
       "          'tindering': 1,\n",
       "          'ejaculated': 1,\n",
       "          'Moving': 1,\n",
       "          'VISITS': 1,\n",
       "          'tarred': 2,\n",
       "          'hempen': 7,\n",
       "          'nooks': 3,\n",
       "          'Had': 12,\n",
       "          'sheeted': 3,\n",
       "          'Islanders': 4,\n",
       "          'pays': 3,\n",
       "          'absolute': 4,\n",
       "          'infancy': 4,\n",
       "          'active': 8,\n",
       "          'smithies': 1,\n",
       "          'arrant': 1,\n",
       "          'casually': 2,\n",
       "          'revolve': 4,\n",
       "          'peg': 2,\n",
       "          'wrestlings': 1,\n",
       "          '85': 1,\n",
       "          'reiterated': 1,\n",
       "          'scroll': 1,\n",
       "          'Brandreth': 1,\n",
       "          'remarking': 1,\n",
       "          'opulent': 2,\n",
       "          'youthful': 2,\n",
       "          'Others': 2,\n",
       "          'judging': 2,\n",
       "          'potion': 1,\n",
       "          'unearthly': 12,\n",
       "          'wagon': 1,\n",
       "          'choking': 3,\n",
       "          'necessity': 7,\n",
       "          'rearward': 1,\n",
       "          'gentler': 1,\n",
       "          'gale': 28,\n",
       "          'Maker': 1,\n",
       "          'wherefore': 5,\n",
       "          'sceptre': 1,\n",
       "          'shrivel': 1,\n",
       "          'tangles': 2,\n",
       "          'aesthetics': 1,\n",
       "          'knowing': 16,\n",
       "          'supremacy': 3,\n",
       "          'availle': 1,\n",
       "          'Fill': 1,\n",
       "          'fool': 14,\n",
       "          'let': 120,\n",
       "          'impurities': 1,\n",
       "          'sped': 3,\n",
       "          'jumping': 2,\n",
       "          'befell': 5,\n",
       "          'least': 75,\n",
       "          'vermicelli': 1,\n",
       "          'correctly': 4,\n",
       "          'fadest': 1,\n",
       "          'Carey': 1,\n",
       "          '1772': 1,\n",
       "          'icicles': 2,\n",
       "          'guilty': 5,\n",
       "          'spouting': 11,\n",
       "          'cardinals': 1,\n",
       "          'monsieurs': 1,\n",
       "          'wonderingly': 1,\n",
       "          'bearer': 4,\n",
       "          'genteelly': 1,\n",
       "          'angular': 3,\n",
       "          'comfortable': 9,\n",
       "          'debel': 1,\n",
       "          'circumferences': 1,\n",
       "          'mandible': 1,\n",
       "          'genuine': 3,\n",
       "          'feelest': 1,\n",
       "          'rarities': 1,\n",
       "          'coalescing': 1,\n",
       "          'machine': 1,\n",
       "          'feeder': 7,\n",
       "          'dodges': 1,\n",
       "          'conquered': 3,\n",
       "          'invitingly': 1,\n",
       "          'SEAMS': 1,\n",
       "          'poised': 3,\n",
       "          '117': 1,\n",
       "          'Befooled': 1,\n",
       "          'unskilful': 1,\n",
       "          'Semiramis': 1,\n",
       "          'streamers': 1,\n",
       "          'joker': 2,\n",
       "          'javelins': 2,\n",
       "          'castaway': 3,\n",
       "          'eluding': 1,\n",
       "          'overclouded': 1,\n",
       "          'abundantly': 2,\n",
       "          'quitting': 4,\n",
       "          'Where': 29,\n",
       "          'Dardanelles': 2,\n",
       "          'casts': 3,\n",
       "          'Bout': 1,\n",
       "          'utterly': 13,\n",
       "          'COOK': 1,\n",
       "          'Latter': 1,\n",
       "          'inns': 3,\n",
       "          'exacted': 1,\n",
       "          'lie': 26,\n",
       "          'ruined': 1,\n",
       "          'spots': 3,\n",
       "          'rose': 26,\n",
       "          'walnut': 1,\n",
       "          'sentences': 2,\n",
       "          'tribes': 3,\n",
       "          'jeopardized': 3,\n",
       "          'blew': 8,\n",
       "          'scamp': 1,\n",
       "          'cub': 4,\n",
       "          'act': 30,\n",
       "          'breaks': 5,\n",
       "          'little': 247,\n",
       "          'commotion': 11,\n",
       "          'unentered': 1,\n",
       "          'ironical': 1,\n",
       "          'whirled': 4,\n",
       "          'Gliding': 1,\n",
       "          'methinks': 4,\n",
       "          'deadliest': 3,\n",
       "          'm': 28,\n",
       "          'Night': 3,\n",
       "          'weaves': 1,\n",
       "          'index': 2,\n",
       "          'denying': 3,\n",
       "          'hilarity': 1,\n",
       "          'keys': 2,\n",
       "          'undress': 1,\n",
       "          'drowns': 1,\n",
       "          'lively': 13,\n",
       "          'inducements': 2,\n",
       "          'strictest': 2,\n",
       "          'condition': 6,\n",
       "          'Loom': 1,\n",
       "          'tug': 1,\n",
       "          'repeatedly': 3,\n",
       "          'plumbs': 1,\n",
       "          'pocket': 12,\n",
       "          'demigod': 2,\n",
       "          'shoving': 1,\n",
       "          'glows': 1,\n",
       "          'spherical': 1,\n",
       "          'Gifted': 1,\n",
       "          'flourishin': 1,\n",
       "          'OFFICIO': 1,\n",
       "          'necessarily': 2,\n",
       "          'pistoles': 1,\n",
       "          'Turks': 4,\n",
       "          'note': 6,\n",
       "          'waking': 6,\n",
       "          'archangels': 1,\n",
       "          'unilluminated': 1,\n",
       "          'gasping': 4,\n",
       "          'bestowed': 8,\n",
       "          'retraced': 1,\n",
       "          'remembered': 6,\n",
       "          'blundering': 2,\n",
       "          'DON': 1,\n",
       "          'depressed': 1,\n",
       "          'results': 1,\n",
       "          'demonism': 1,\n",
       "          'Men': 7,\n",
       "          'diluvian': 1,\n",
       "          'pig': 5,\n",
       "          'variously': 3,\n",
       "          'poise': 2,\n",
       "          'Morrel': 1,\n",
       "          'roomy': 1,\n",
       "          'mirrors': 1,\n",
       "          '110': 1,\n",
       "          'gratitude': 1,\n",
       "          'splice': 5,\n",
       "          'amend': 1,\n",
       "          'hobbling': 2,\n",
       "          'spearings': 1,\n",
       "          'turns': 34,\n",
       "          'revenge': 7,\n",
       "          'Loose': 14,\n",
       "          'sharpen': 2,\n",
       "          'gamming': 1,\n",
       "          'progression': 3,\n",
       "          'uneasiness': 2,\n",
       "          'Hollanders': 1,\n",
       "          'Invisible': 1,\n",
       "          'pleasantly': 1,\n",
       "          'glitteringly': 1,\n",
       "          'scratch': 1,\n",
       "          'intermixingly': 1,\n",
       "          'intelligently': 1,\n",
       "          'uprising': 6,\n",
       "          'unassuming': 1,\n",
       "          'Aladdin': 1,\n",
       "          'blanched': 1,\n",
       "          'hartshorn': 2,\n",
       "          'array': 3,\n",
       "          'pierced': 4,\n",
       "          'hugely': 1,\n",
       "          'enhances': 2,\n",
       "          'Cods': 1,\n",
       "          'affright': 2,\n",
       "          'negatively': 1,\n",
       "          'crews': 16,\n",
       "          'evermore': 3,\n",
       "          'poverty': 1,\n",
       "          'repeated': 20,\n",
       "          'Setting': 2,\n",
       "          'terribleness': 1,\n",
       "          'However': 15,\n",
       "          'controlling': 1,\n",
       "          'cabalistically': 1,\n",
       "          'curvicues': 1,\n",
       "          'treatise': 3,\n",
       "          'exhaled': 3,\n",
       "          'unprofitable': 1,\n",
       "          'decapitating': 1,\n",
       "          'vintage': 1,\n",
       "          'oriental': 6,\n",
       "          'enemy': 5,\n",
       "          'occasion': 10,\n",
       "          'taken': 50,\n",
       "          'girl': 7,\n",
       "          '1652': 1,\n",
       "          'serpent': 4,\n",
       "          'submission': 1,\n",
       "          'hinder': 1,\n",
       "          'sheathed': 1,\n",
       "          'authorized': 1,\n",
       "          'focus': 1,\n",
       "          'fittings': 1,\n",
       "          'abaft': 2,\n",
       "          'Owing': 2,\n",
       "          'mess': 3,\n",
       "          'separate': 20,\n",
       "          'measureless': 8,\n",
       "          'begun': 4,\n",
       "          'eyeless': 1,\n",
       "          'reaching': 12,\n",
       "          'FEGEE': 1,\n",
       "          'window': 15,\n",
       "          'subterranean': 6,\n",
       "          'magnified': 2,\n",
       "          'trinity': 1,\n",
       "          'cannibal': 18,\n",
       "          'record': 7,\n",
       "          'cattle': 6,\n",
       "          'inhaled': 2,\n",
       "          'Rodmond': 1,\n",
       "          'deceitfulness': 2,\n",
       "          'Descending': 1,\n",
       "          'precede': 2,\n",
       "          'ape': 2,\n",
       "          'irradiate': 1,\n",
       "          'wastingly': 1,\n",
       "          'assembly': 1,\n",
       "          'exterior': 3,\n",
       "          'loosened': 2,\n",
       "          'approvingly': 1,\n",
       "          'Damocles': 1,\n",
       "          'skilful': 2,\n",
       "          'frankincense': 1,\n",
       "          'oust': 2,\n",
       "          'took': 49,\n",
       "          'needful': 1,\n",
       "          'swept': 9,\n",
       "          'revels': 1,\n",
       "          'turtles': 1,\n",
       "          'friendliness': 1,\n",
       "          'dignified': 1,\n",
       "          'sneezing': 1,\n",
       "          'wharf': 11,\n",
       "          'Ingin': 1,\n",
       "          'ribbed': 7,\n",
       "          '200th': 1,\n",
       "          'finest': 6,\n",
       "          'pewter': 5,\n",
       "          'beliest': 1,\n",
       "          'resist': 1,\n",
       "          'cascading': 1,\n",
       "          'sued': 1,\n",
       "          'utterance': 2,\n",
       "          'deliberate': 5,\n",
       "          'embracing': 4,\n",
       "          'Pious': 1,\n",
       "          'assailant': 2,\n",
       "          'bowsmen': 1,\n",
       "          'Wherefore': 8,\n",
       "          'leadership': 1,\n",
       "          'foundling': 2,\n",
       "          'shone': 3,\n",
       "          'outset': 3,\n",
       "          'BIT': 1,\n",
       "          'bagging': 2,\n",
       "          'confident': 4,\n",
       "          'potentates': 1,\n",
       "          'madman': 2,\n",
       "          'engaging': 1,\n",
       "          'rejoicing': 2,\n",
       "          'Aroostook': 1,\n",
       "          'further': 59,\n",
       "          'glazier': 1,\n",
       "          'tho': 1,\n",
       "          'Years': 2,\n",
       "          'fruit': 3,\n",
       "          'ducked': 1,\n",
       "          'blubbering': 1,\n",
       "          'sweetest': 2,\n",
       "          'interrupted': 4,\n",
       "          'undergraduate': 1,\n",
       "          'lipless': 1,\n",
       "          'king': 25,\n",
       "          'fattest': 1,\n",
       "          'stepped': 8,\n",
       "          'shipped': 11,\n",
       "          'advance': 21,\n",
       "          'patentees': 1,\n",
       "          'baked': 3,\n",
       "          'spies': 1,\n",
       "          ',': 18713,\n",
       "          '71': 1,\n",
       "          'files': 2,\n",
       "          'tops': 4,\n",
       "          'engage': 2,\n",
       "          'mask': 3,\n",
       "          'brawlers': 1,\n",
       "          'enjoying': 2,\n",
       "          'jub': 2,\n",
       "          'wind': 67,\n",
       "          'absorbingly': 1,\n",
       "          'bull': 12,\n",
       "          'habituated': 1,\n",
       "          'Miguel': 2,\n",
       "          'treadle': 1,\n",
       "          'protested': 1,\n",
       "          'curving': 2,\n",
       "          'knitting': 2,\n",
       "          'cheering': 5,\n",
       "          'locksmith': 1,\n",
       "          'changeful': 1,\n",
       "          'attainable': 1,\n",
       "          'narrations': 1,\n",
       "          'notified': 1,\n",
       "          'essayed': 1,\n",
       "          'Her': 3,\n",
       "          'pitiful': 3,\n",
       "          'Down': 12,\n",
       "          'committing': 2,\n",
       "          'panniers': 1,\n",
       "          'kneel': 2,\n",
       "          'HEAD': 1,\n",
       "          'parade': 1,\n",
       "          'infesting': 1,\n",
       "          'unconquering': 1,\n",
       "          'spiralizations': 1,\n",
       "          'amongst': 1,\n",
       "          'spans': 3,\n",
       "          '1729': 1,\n",
       "          'anoints': 1,\n",
       "          'accidentally': 4,\n",
       "          'rabid': 1,\n",
       "          'annuitants': 1,\n",
       "          'Seated': 1,\n",
       "          'abashed': 1,\n",
       "          'leaps': 4,\n",
       "          'grasses': 1,\n",
       "          'accommodated': 1,\n",
       "          'cocked': 1,\n",
       "          'mainmast': 10,\n",
       "          'Lents': 1,\n",
       "          'batteries': 1,\n",
       "          'unapprehensive': 1,\n",
       "          'indefiniteness': 1,\n",
       "          'pitch': 19,\n",
       "          'firmaments': 1,\n",
       "          'Water': 5,\n",
       "          'waifed': 1,\n",
       "          'launch': 1,\n",
       "          'resurrection': 6,\n",
       "          'LOST': 1,\n",
       "          'swords': 2,\n",
       "          'saith': 5,\n",
       "          'brushing': 2,\n",
       "          'perception': 1,\n",
       "          'hosts': 3,\n",
       "          'discover': 7,\n",
       "          'journeyman': 1,\n",
       "          'foulness': 1,\n",
       "          'PILOT': 1,\n",
       "          'boisterous': 3,\n",
       "          'err': 1,\n",
       "          ';*': 1,\n",
       "          'frontiers': 1,\n",
       "          'contains': 6,\n",
       "          'Turk': 5,\n",
       "          'smacking': 3,\n",
       "          'pounce': 1,\n",
       "          '!--\"': 1,\n",
       "          'Heeva': 2,\n",
       "          'Hands': 6,\n",
       "          'drawing': 32,\n",
       "          'grindstone': 2,\n",
       "          'Steel': 1,\n",
       "          'why': 71,\n",
       "          'blue': 43,\n",
       "          'bier': 1,\n",
       "          'pliable': 1,\n",
       "          'archangel': 8,\n",
       "          'tigers': 2,\n",
       "          'Whom': 1,\n",
       "          'attracted': 4,\n",
       "          'Deck': 4,\n",
       "          'it': 2209,\n",
       "          'costly': 2,\n",
       "          'frisky': 1,\n",
       "          'nearer': 15,\n",
       "          'School': 1,\n",
       "          'transparently': 1,\n",
       "          'told': 45,\n",
       "          'budge': 4,\n",
       "          'restricted': 3,\n",
       "          'also': 88,\n",
       "          'limber': 4,\n",
       "          'mast': 124,\n",
       "          'Jews': 1,\n",
       "          'purr': 1,\n",
       "          'day': 172,\n",
       "          'reminiscence': 2,\n",
       "          'slavish': 2,\n",
       "          'adopt': 1,\n",
       "          'corpusants': 6,\n",
       "          'Betty': 1,\n",
       "          'TELL': 2,\n",
       "          'radiates': 1,\n",
       "          'reservoir': 3,\n",
       "          'Englishman': 5,\n",
       "          'beaks': 2,\n",
       "          'athwartships': 1,\n",
       "          'belike': 3,\n",
       "          'landlessness': 2,\n",
       "          'Museum': 1,\n",
       "          'Derick': 12,\n",
       "          'obeying': 5,\n",
       "          'rescued': 2,\n",
       "          'with': 1659,\n",
       "          'resemblance': 6,\n",
       "          'wrapall': 1,\n",
       "          'shrouds': 8,\n",
       "          'beer': 8,\n",
       "          'aforethought': 2,\n",
       "          'looking': 68,\n",
       "          'Real': 1,\n",
       "          'perseverance': 1,\n",
       "          'trackless': 1,\n",
       "          'dies': 6,\n",
       "          'lookest': 3,\n",
       "          'porcupine': 1,\n",
       "          'infant': 1,\n",
       "          'Goney': 3,\n",
       "          'lounge': 1,\n",
       "          'wearily': 2,\n",
       "          'air': 141,\n",
       "          'incrustation': 1,\n",
       "          'sporting': 4,\n",
       "          'Cato': 1,\n",
       "          'natives': 3,\n",
       "          'Testament': 1,\n",
       "          'doubloon': 17,\n",
       "          'Candles': 1,\n",
       "          'prime': 6,\n",
       "          'commercial': 2,\n",
       "          'buttressed': 1,\n",
       "          'rakes': 1,\n",
       "          'strand': 3,\n",
       "          'chatting': 2,\n",
       "          'occult': 1,\n",
       "          'dungeoned': 1,\n",
       "          'enter': 9,\n",
       "          'straddling': 1,\n",
       "          'geologist': 1,\n",
       "          'declines': 2,\n",
       "          'palpably': 1,\n",
       "          'Angels': 1,\n",
       "          'pencil': 5,\n",
       "          'bumps': 2,\n",
       "          'Gomorrah': 3,\n",
       "          'seek': 14,\n",
       "          'Saw': 1,\n",
       "          'length': 78,\n",
       "          'jingle': 1,\n",
       "          'spout': 58,\n",
       "          'wakened': 2,\n",
       "          'Imperial': 1,\n",
       "          'grampus': 1,\n",
       "          'TALBOT': 1,\n",
       "          'elucidate': 1,\n",
       "          'streets': 15,\n",
       "          'professional': 5,\n",
       "          'poly': 1,\n",
       "          'junks': 2,\n",
       "          'men': 236,\n",
       "          'taffrail': 8,\n",
       "          'premonitory': 1,\n",
       "          'nostril': 1,\n",
       "          'woe': 25,\n",
       "          'notorious': 3,\n",
       "          'surplus': 2,\n",
       "          'sweep': 13,\n",
       "          'deviations': 1,\n",
       "          'cousin': 1,\n",
       "          'dissolve': 1,\n",
       "          'uninterrupted': 2,\n",
       "          'Suspended': 3,\n",
       "          'assumption': 1,\n",
       "          'flashes': 4,\n",
       "          'unbecomingness': 1,\n",
       "          'planed': 2,\n",
       "          'light': 77,\n",
       "          'shadiest': 1,\n",
       "          'clerical': 1,\n",
       "          'Emir': 3,\n",
       "          'irreverence': 1,\n",
       "          'loveliness': 1,\n",
       "          'nondescript': 1,\n",
       "          'Pirohitee': 1,\n",
       "          'insurance': 2,\n",
       "          'imperial': 9,\n",
       "          'silken': 3,\n",
       "          'shell': 4,\n",
       "          'calamity': 2,\n",
       "          \";'\": 4,\n",
       "          'valor': 2,\n",
       "          'halls': 3,\n",
       "          'happiness': 2,\n",
       "          'YOURS': 1,\n",
       "          'bald': 3,\n",
       "          'trace': 5,\n",
       "          'conservatories': 1,\n",
       "          'gloriously': 1,\n",
       "          'liquid': 2,\n",
       "          'fierceness': 1,\n",
       "          'hardly': 31,\n",
       "          'Saint': 1,\n",
       "          'welding': 1,\n",
       "          'malignant': 3,\n",
       "          'equal': 14,\n",
       "          'expansion': 2,\n",
       "          'authoritatively': 1,\n",
       "          'Hence': 9,\n",
       "          'mongrel': 1,\n",
       "          'kettles': 2,\n",
       "          'igniting': 2,\n",
       "          'SMOKING': 1,\n",
       "          'wine': 12,\n",
       "          'icebergs': 2,\n",
       "          'intent': 14,\n",
       "          'herein': 3,\n",
       "          'Malacca': 2,\n",
       "          ...})"
      ]
     },
     "execution_count": 28,
     "metadata": {},
     "output_type": "execute_result"
    }
   ],
   "source": [
    "fdist1"
   ]
  },
  {
   "cell_type": "code",
   "execution_count": 33,
   "metadata": {
    "collapsed": true
   },
   "outputs": [],
   "source": [
    "vocabulary1 = fdist1.keys()"
   ]
  },
  {
   "cell_type": "code",
   "execution_count": 37,
   "metadata": {},
   "outputs": [
    {
     "data": {
      "text/plain": [
       "dict_keys(['Keeping', 'grapes', 'THERE', 'formerly', 'lordly', 'type', 'birth', 'crackers', 'gazettes', 'equity', 'uplifted', 'tears', 'identify', 'nuptial', 'Drive', 'LAMB', 'oly', 'Five', 'visitation', 'attic', 'clanking', 'Spirit', 'gets', 'continuously', 'tingled', 'unhinged', 'Davy', 'Squaring', 'Rinaldini', 'descriptively', 'vain', 'handkerchief', 'Blanco', 'similar', 'phenomenon', 'Crammer', 'Bibliographical', 'hearty', 'cause', 'embellished', 'twist', 'flume', 'burying', 'brace', 'BRACTON', 'Delightful', 'Why', 'closing', 'Cathedral', 'prosecuted', 'interest', 'shelf', 'wore', 'Elephanta', 'bye', 'gaped', 'felonious', 'disputes', 'machinery', 'prophesies', 'DEAD', 'contracts', 'mutineer', 'stern', 'trivial', 'moth', 'tarpaulin', 'mentioning', 'three', 'solved', 'bawling', 'salted', 'temporary', 'earlier', 'writhed', 'momentary', 'lingering', 'sleights', 'LONG', 'Earthsman', 'almighty', 'braves', 'walrus', 'to', 'economically', 'circumnavigations', 'snowhowdahed', 'admonitory', 'rascals', 'marked', 'drown', 'companies', 'brilliance', 'Mapple', 'official', 'Make', 'peradventure', 'stole', 'misgrown', 'America', 'of', 'Canals', 'flea', 'speaker', '44', 'War', 'fashioned', 'reticule', 'precipitating', 'sockets', 'righted', 'curly', 'ducking', 'beholdest', 'objection', 'sharppointed', 'reason', 'hated', 'blistered', 'eat', 'superseded', 'Marking', 'canakin', 'humorous', 'queerest', 'but', 'dandy', 'mutters', 'corpses', 'mates', 'passionately', '113', 'ge', 'began', 'Tusked', 'admirably', 'pausing', 'Advocate', 'frigid', 'chill', 'pistols', 'settlers', 'imbedded', '400', 'GAM', 'THEN', 'grudge', 'throughout', \"!--'\", 'embarks', 'stay', 'sudden', 'unsaid', '&', 'flambeaux', 'gallied', 'comforting', 'tapering', 'muffins', 'scrawl', 'Harold', 'centaurs', 'errors', 'finally', 'Chili', 'everythings', 'hopeless', 'enormousness', 'southerly', 'inserting', 'urged', 'engaging', 'allegory', 'drift', 'digestion', 'necklace', 'embayed', 'confound', 'P', 'unstirring', 'A', 'sober', 'drunken', 'saint', 'correct', 'occurs', 'manifold', 'basket', 'shivered', 'rimmed', 'malignity', 'astern', 'grew', 'berg', 'thoughtlessness', 'launchest', 'gloomiest', 'empire', 'exterminated', 'cronies', 'chivalrous', 'combat', 'row', 'Gallipagos', 'churning', 'philanthropists', 'rears', 'exclusive', 'workmanlike', 'MORALS', 'haven', 'inconsiderable', 'cheerless', 'confederate', 'AMERICA', 'ROCKS', 'incuriously', 'toothless', 'nutmeg', 'receding', 'maul', 'suspicions', 'headsman', 'Glancing', 'endwise', 'douse', 'fun', 'democratic', 'pirouetting', 'benediction', 'selectest', 'kicking', 'permit', 'spavined', 'Tit', 'tubs', 'mutter', 'Kill', 'teeth', 'Tartarean', 'expensive', 'understand', 'caress', 'Against', 'Arched', 'hail', 'raising', 'parts', 'knit', 'arc', 'stature', 'coin', 'honeycombs', 'Froissart', 'stopping', 'tasseled', 'irresistible', 'RABELAIS', 'mentions', 'Lifted', 'annihilation', 'example', 'seldom', 'yea', 'Time', 'deaf', 'love', 'viewed', 'levelled', 'untouchable', 'Now', 'alleys', 'untottering', 'obeys', '13', 'ulceration', 'what', 'surround', 'folding', 'hereby', 'Muezzin', 'voicelessly', 'digestive', 'experimental', 'muscle', 'closeness', 'universally', 'ornamental', 'trodden', 'zones', 'names', 'poets', 'filliping', 'bearded', 'gazed', 'vapours', 'separated', 'scimetars', 'await', 'Elephants', 'good', 'fixture', 'tone', 'jettest', 'Jesu', 'dam', 'crabs', 'YOUR', 'Marine', 'opulence', 'four', 'cutlets', 'fumbled', 'abridged', 'gettee', 'countersinkers', 'Says', 'May', 'unscrew', 'masonry', 'uproar', 'sloped', 'Since', 'sufficient', 'Caramba', 'befriend', 'tragic', 'choose', 'sceptical', 'dreary', 'liar', 'unrelieved', 'logged', 'policeman', 'intensest', 'attacked', 'unlike', 'gaudiest', 'whiffs', 'Screwed', 'foundered', 'died', 'bethinking', 'CONTESTED', 'backs', 'overlapping', 'current', 'connexions', 'slow', 'confining', 'evolved', 'oaken', 'cannibally', 'sights', 'radical', 'boats', 'averted', 'advancing', 'rockings', 'tableau', 'likeness', 'finding', 'robustness', 'frightens', 'Mixed', 'claimed', 'sofa', 'relatives', 'chariot', 'Bear', 'Gnawed', 'denunciations', 'commonly', 'mind', 'charms', 'MORTAL', 'wheresoe', 'overladen', 'Finally', 'inactive', 'damaged', 'operate', 'bladders', 'hammers', 'picture', 'rumors', 'bone', 'truest', 'leather', 'ought', 'sidelingly', 'THRICE', 'pit', 'frosts', 'attached', 'THIS', 'underneath', 'democracy', 'storm', 'Bengal', 'whichever', 'concussions', 'soever', 'biggest', 'uncomfortable', 'Mast', 'answer', 'anti', 'inspectingly', 'apeak', 'EZEKIEL', 'ate', 'discoverers', 'starboard', 'bridal', 'LOUNGING', 'possesses', 'temporarily', 'curiously', 'IS', 'eminent', 'insinuates', 'bedevilling', 'capering', 'expanses', 'moons', 'Bellies', 'hypo', 'regard', 'kindling', 'desisted', 'forbids', 'cheek', \".'\", 'instincts', 'tindering', 'hooked', 'Andes', 'hickory', 'slip', 'hisself', 'estimation', 'Physeter', 'lurchingly', 'behooves', 'overtake', 'stocks', 'bare', 'imparted', 'author', 'minor', 'glaring', 'bulge', 'blindest', 'secrets', 'dreams', 'unthinking', '37', 'Quog', 'unsuspecting', 'Asphaltites', 'brack', 'suckling', 'right', 'COMMERCIAL', 'afterwards', 'unimaginable', 'likely', 'inlaying', 'males', 'Placing', 'late', 'cohorts', 'Cussed', 'continuing', 'hasty', 'PITCHING', 'unlikely', 'topsail', 'bullocks', 'sustenance', 'Signs', 'deepening', 'imported', 'changeless', 'Matse', 'analogous', 'Year', 'unfrequent', 'rich', 'refusing', 'Stubb', 'Dorchester', 'cosy', 'credited', 'Ram', 'graved', 'TROIL', 'chemistry', 'erections', 'anathemas', 'clapped', 'SHIPWRECK', 'Unicorn', 'census', 'crawling', 'lands', 'keepers', 'sounded', 'Vermonters', 'unsuccessful', 'Eddystone', 'amputated', 'undoubtedly', 'ranging', 'WAS', 'Vesuvius', 'productive', 'tun', 'imitated', 'paddle', 'catched', 'Jew', 'hopped', 'joes', 'objections', 'Small', 'turbaned', 'scrutiny', 'along', 'wreak', 'We', 'multiplied', 'sow', 'Mason', 'STOWE', 'bandaged', 'Pollard', 're', 'freebooting', 'belaying', 'painstaking', 'vanished', 'flexion', 'furthermore', 'exact', 'Gall', 'Archbishop', 'strive', 'tis', 'barbarous', 'doesn', 'admeasurements', 'allurings', 'knowest', '76', 'HARRIS', 'Ohio', 'certainly', 'understanding', 'observations', 'aboard', 'Book', 'Huggins', 'stared', 'weary', 'enchantment', 'rocks', 'wee', 'valves', 'maine', 'described', 'indirect', 'preaching', 'conceals', 'bulk', 'pickle', 'appendage', 'lithe', 'burns', 'Iroquois', 'vial', 'reddened', 'cometh', 'jeopardy', 'bluer', 'Oregon', 'rustle', 'Argo', 'colourless', 'harder', 'Monsieurs', 'devilishness', 'nation', 'Softly', 'remnant', 'invade', 'parmacetty', 'hearers', 'Massa', 'knocking', 'leap', 'propped', 'entertaining', 'kidnapped', 'electricity', 'ragamuffin', 'skelter', 'fellow', 'broken', 'heath', '--\\'\"', 'proportioned', 'bloom', 'Jeroboam', 'patentee', 'inferred', 'Cruppered', 'perfume', 'accidental', 'hears', 'seize', 'skeleton', 'Fishes', 'personified', 'furnish', 'sap', 'antlered', 'gas', 'curvetting', 'crape', 'straps', 'ignoring', 'fictitiously', 'laudanum', 'whereof', 'Step', 'grounds', 'flyin', 'marry', 'surpassed', 'conductor', 'churned', 'didn', 'Tattoo', 'Exception', 'thigh', 'FISHERMAN', 'support', 'thunder', 'prices', 'scoundrel', 'quicken', 'belonging', 'drew', 'things', 'host', 'strolled', 'undue', 'PORTUGUESE', 'His', 'magic', 'stomachs', 'counsels', 'rocked', 'artist', 'antagonistic', 'poorly', 'raiment', 'chipping', 'brimful', 'Whaling', 'reeved', 'overbearing', 'deposed', 'darkling', 'circumvention', 'sufficiently', 'elemental', 'tars', 'grasshopper', 'Lent', 'levels', 'squeeze', 'rider', 'stilly', 'afloat', 'HUMP', 'rustlings', 'bequeathed', 'counterpane', 'borrow', 'terror', 'couples', 'voided', 'faithfulness', 'STATE', 'queen', 'sing', 'unnaturally', 'veneration', 'unwarranted', 'dislocation', 'bucks', 'suddenly', 'stem', 'returne', 'embattled', 'defunct', 'accept', 'imposed', 'sucklings', 'clay', 'heeds', 'morning', 'diffused', 'TAKEN', 'moulder', 'paradise', 'mediocrity', 'numbered', 'cooking', 'scalp', 'christenings', 'undiscernible', 'deaths', 'flushed', 'bridals', 'makest', 'Prodigies', 'Grecian', 'idle', 'piercing', 'bucket', 'Fifth', 'prize', 'forsaken', 'Shipmate', 'Coopman', 'deafening', 'apparelled', 'dood', 'soused', 'Tied', 'others', 'noways', '123', 'tiers', 'stories', 'serve', 'appear', 'risk', 'joint', 'Drawn', 'enhancing', 'ringed', 'sleek', 'patrolled', 'matrimonial', 'chronometer', 'brit', 'enchanter', 'Extending', 'tablecloth', 'ends', 'revery', 'lint', 'identical', 'brave', 'wearer', 'assistants', 'imagining', 'stacks', 'premeditated', 'noise', 'fragrance', 'freed', 'Greenlandmen', 'layers', 'hangman', 'impatiently', 'bellied', 'draggingly', 'griffin', 'sheepishly', 'pugnacious', 'shallows', 'ignorant', 'invaluable', 'practically', 'baser', 'veriest', 'illuminated', 'Greedily', 'blessing', 'OTHER', 'Massacre', 'placeless', 'bet', 'aft', 'unbelief', 'ascertaining', 'hustings', 'firmament', 'conjunctures', 'Mississippi', 'chained', 'confined', 'bashfulness', 'Believe', 'girdled', 'whaleboat', 'allowances', 'arithmetic', 'mayhap', 'holier', 'OWEN', 'offensively', 'effulgent', 'Henry', 'chamber', 'prolonged', 'whistling', 'notice', 'stubbornness', 'PLACED', 'ubiquity', 'acquiesced', 'alights', 'rallies', 'constant', 'generic', 'obsolete', 'expect', 'proud', 'suspects', 'significant', 'edge', 'angularly', 'slopingly', 'Lexicon', 'Ever', 'smiting', 'Weep', 'wives', 'Split', 'roods', 'Shrouded', 'candidates', 'objects', 'divulged', 'midnight', 'elbow', 'UPON', 'cane', 'Mat', 'foamingly', 'quahogs', 'proof', 'honourable', 'VISITS', 'mumbled', 'tarred', 'ejaculation', 'tusked', 'destinations', 'hails', 'gash', 'nooks', 'surviving', 'tight', 'Had', 'husks', 'gay', 'Islanders', 'Among', 'surrenderest', 'research', 'crier', 'aimed', 'subdivided', 'pays', 'barn', 'parcel', 'substances', 'yon', 'absolute', 'ocean', 'infancy', 'active', 'smithies', 'arrant', 'inspection', 'casually', 'ajar', 'supernaturalness', 'furthest', 'peg', 'dumps', 'infants', 'Leeward', 'thinks', 'loweringly', 'chimneys', 'wrestlings', 'traits', 'Sagittarius', 'pommel', 'stages', 'meditative', 'reiterated', 'watchmen', 'scroll', 'popularize', 'pouch', 'bystanders', 'Brandreth', 'present', 'smiled', 'legs', 'prefers', 'um', 'event', '26', 'opulent', 'suckled', 'feathery', 'believing', 'shuttle', 'enclosed', 'borne', 'via', 'judging', 'potion', 'Dagon', 'unearthly', 'wagon', 'grin', 'necessity', 'Cluny', 'facetious', 'meant', 'BACK', 'Quakeress', 'haunting', 'livid', 'featured', 'charted', 'quicker', 'gentler', 'hoe', 'gale', 'Maker', 'wherefore', 'sceptre', 'unsolved', 'cave', 'shrivel', 'recluseness', 'tangles', 'HOBOMACK', 'patent', 'diver', 'serving', 'blasting', 'supremacy', 'availle', 'dartingly', 'Fill', 'Many', 'fool', 'heigh', 'states', 'footmanism', 'left', 'scream', 'giraffe', 'discernible', 'Horse', 'Some', 'humorists', 'Dying', 'impurities', 'arriving', 'sped', 'jumping', 'befell', 'muttered', 'involving', 'vermicelli', 'advice', 'correctly', 'scruples', 'Carey', '1772', 'had', 'icicles', 'guilty', 'spouting', 'cardinals', 'instinctive', 'Unappalled', 'wonderingly', '39', 'bearer', 'genteelly', 'Solander', '80', 'angular', 'dramatically', 'wantonly', 'rafts', 'comfortable', 'debel', 'backbones', 'slashing', 'Nile', 'derive', 'circumferences', 'mandible', 'genuine', 'approximate', 'immitigable', 'loyal', 'rarities', 'coalescing', 'barb', 'worst', 'machine', 'demijohn', 'salamander', 'feeder', 'mothered', 'dodges', 'swells', 'flannel', 'ICELANDIC', 'conquered', 'receives', 'plumes', 'invitingly', 'SEAMS', 'unsealed', 'poised', 'Without', 'Suppression', '117', 'WAY', '128', 'Watch', '54', 'Apply', 'Semiramis', 'comprehensible', 'bitter', 'Monadnock', 'joker', 'javelins', 'castaway', 'WHOEL', 'eluding', 'overclouded', 'emigrant', 'quitting', 'heeded', 'reeving', 'lonesomeness', 'Where', 'Dardanelles', 'alow', 'SIBBALD', 'partook', 'mistaking', 'utterly', 'hopelessly', 'Dragged', 'Only', 'COOK', 'Latter', 'inns', 'mention', 'Doubts', 'lie', 'bunk', 'ruined', 'rose', 'griffins', 'walnut', 'heartwoes', 'simultaneously', 'sentences', 'tribes', 'clothe', 'pricked', 'procedures', 'Vice', 'texture', 'jeopardized', 'sought', 'butterfly', 'skimming', 'blew', 'scamp', 'breakers', 'Boat', 'act', 'breaks', 'sprinkled', 'tape', 'talk', 'Potluck', 'Ambergris', 'unentered', 'deliberately', 'Crozetts', 'whirled', 'first', 'undeniable', 'snapping', 'deadliest', 'MATES', 'frame', 'm', 'fastenings', 'Night', 'Indolence', 'righteous', 'dad', 'gardenny', 'gloves', 'endure', 'BELFAST', 'secrecy', 'co', 'keys', 'undress', 'covers', 'drowns', 'lively', 'inducements', 'strictest', 'condition', 'guardian', 'tracings', 'mace', 'entangling', 'Loom', 'Clinging', 'flint', 'suspect', 'charts', 'outlet', 'repeatedly', 'plumbs', 'pocket', 'additional', 'wing', 'degree', 'shoving', 'glows', 'humped', 'Hampshire', 'spherical', 'Gifted', 'flourishin', 'nappishness', 'look', ',*', 'were', 'being', 'Owen', 'literal', 'mug', 'element', 'fiftieth', 'disobedience', 'crossing', 'heaps', 'Turks', 'note', 'rains', 'magnetic', 'touch', 'replenishes', 'archangels', '91', 'unilluminated', 'mournful', 'Anno', 'gasping', 'bestowed', 'retraced', 'beg', 'remembered', 'press', 'hired', 'worryings', 'blundering', 'sick', 'superfluous', 'feeding', 'weather', 'wonst', 'results', 'unfrequently', 'Twins', 'adding', 'Men', 'diluvian', 'jeering', 'pig', 'variously', 'cylinders', 'Morrel', 'BE', 'shutter', 'tapped', 'roomy', 'planned', 'mirrors', 'subsiding', 'somewhere', 'gratitude', 'cordon', 'skewers', 'fertility', 'splice', 'heedfully', 'chace', 'amend', 'functionary', 'versa', 'hobbling', 'spearings', 'transcribe', 'placid', 'turns', 'crowd', 'revenge', 'Silence', 'Loose', 'Prynne', 'imposing', 'Call', 'silent', 'sharpen', 'heathenish', 'gamming', 'progression', 'Truth', 'uneasiness', 'blacksmith', 'Hollanders', 'Invisible', 'rotation', 'pleasantly', 'mistakes', 'Kedron', 'fingers', 'glitteringly', 'surging', 'scratch', 'islets', 'Pale', 'Inquisition', 'blasts', 'uprising', 'Virgo', 'seamen', 'dragged', 'ramifying', 'unassuming', 'comprehending', 'netted', 'unsupplied', 'Grisly', 'Aladdin', 'favoured', 'profaned', 'reaches', 'array', 'Sell', 'pierced', 'hugely', 'turn', 'Seven', 'clumped', 'enhances', 'lover', 'vivid', 'encamped', 'Cods', 'affright', 'negatively', 'crews', 'evermore', 'kingdoms', 'wayward', 'outwards', 'Gurry', 'Midnight', 'reserved', 'repeated', 'down', 'terribleness', 'wad', 'foreboding', 'However', 'untidy', 'fee', 'sites', 'controlling', 'cabalistically', 'describing', 'somebody', 'banister', 'exhaled', 'FLAME', 'unprofitable', 'Swamp', 'decapitating', 'yellowish', 'collegians', 'oriental', 'tails', 'knockers', 'enemy', 'occasion', 'taken', 'juicy', 'girl', 'emoluments', 'coloured', 'overstocked', 'Indeed', '1652', 'quiver', 'snow', 'hinder', 'sheathed', 'authorized', '116', 'physiologist', 'Raising', 'occupies', 'Passage', 'roasted', 'fittings', 'festoon', 'stir', 'nor', 'subscribes', 'SHAKING', 'Owing', 'mess', 'kine', 'tendon', 'Gather', 'rowlocks', 'separate', 'measureless', 'masked', 'begun', 'Groan', 'eyeless', 'trifling', 'reaching', 'FEGEE', 'window', 'subterranean', 'strata', 'agonies', 'volcanoes', 'conceivable', 'rests', 'halfspent', 'SKRIMSHANDER', 'Tyre', 'mutually', 'cosmetic', 'suckingly', 'cannibal', 'icily', 'jubilations', 'candle', 'record', 'achieve', 'Hoisting', 'undecayed', 'cattle', 'inhaled', 'daintiest', 'presided', 'Several', 'deceitfulness', 'ghastly', 'precede', 'ape', 'irradiate', 'unprincipled', 'wastingly', 'know', 'assembly', 'universe', 'Town', 'whaleship', 'Stick', 'Damocles', 'Dismal', 'Crotch', 'Stiggs', 'heed', 'took', 'needful', 'swept', '3d', 'vats', 'broker', 'perishing', 'Pity', 'heedfulness', 'turtles', 'friendliness', 'refuse', 'fa', 'dignified', 'sneezing', 'envied', 'wharf', 'imbibing', 'ribbed', '200th', 'importing', 'medallions', 'finest', 'pewter', 'Mungo', 'Heave', 'sweeps', 'beliest', 'compunctions', 'hostilely', 'blasphemer', 'resist', 'cachalot', 'cascading', 'labelled', 'sued', 'utterance', 'trial', 'Cetology', 'deliberate', 'embracing', 'poked', 'swarming', 'meets', 'Aries', 'graded', 'Pious', 'assailant', 'sympathy', 'searching', 'Ghent', 'prescience', 'SUDDEN', 'juggler', 'moonlit', 'sartin', 'block', 'Angelo', 'bowsmen', '?--\"', 'Wherefore', 'remainder', 'leadership', 'bloodthirsty', 'drawers', 'county', 'outset', 'grass', 'bagging', 'Squall', 'Republican', 'AFFGHANISTAN', 'potentates', 'madman', 'unbuckling', 'foreshortened', 'hoar', '--', 'dissent', 'rejoicing', 'gluepots', 'compiled', 'unintermitted', 'pushes', 'aptitudes', 'waist', 'further', 'glazier', 'puncheons', 'nut', 'thrown', 'Years', 'solar', 'vortices', 'closely', 'ducked', 'gnarled', 'blubbering', 'ordering', 'lathering', 'uncracked', 'unmoor', 'sweetest', 'interrupted', 'undergraduate', 'shiverings', 'king', 'deplorably', 'fattest', 'stepped', 'hammered', 'promenade', 'genially', 'convex', 'shipped', 'precious', 'meat', 'advance', 'tee', 'itself', 'broidered', 'evilly', 'Lascars', 'spies', 'Steering', ',', 'Champagne', 'principal', 'spell', 'hurled', 'sloop', 'identity', 'courts', 'sauce', 'gladly', 'founded', 'brawlers', 'buckling', 'sat', 'jub', 'wind', 'Don', 'absorbingly', 'compendious', 'bull', 'limits', 'dines', 'habituated', 'monstrous', 'volumes', 'stultifying', 'Laws', 'untrodden', 'tack', 'posse', 'indistinctly', 'protested', 'confluent', 'curving', 'knitting', 'horrify', 'sending', 'cheering', 'stagnant', 'locksmith', 'grievous', 'discerned', 'philosophy', 'changeful', 'panel', 'attainable', 'narrations', 'Gayer', 'essayed', 'Her', 'pitiful', 'Down', 'committing', 'postponing', 'albatross', 'panniers', 'empties', 'HEAD', 'overleap', 'parade', 'attuned', 'calmness', 'infesting', 'force', 'high', 'spiralizations', 'Haul', 'wretchedly', 'spans', 'furiously', 'unsavory', 'recrossed', '1729', 'attacking', 'anoints', 'accidentally', 'tipped', 'rabid', 'annuitants', 'simplicity', 'sketches', 'Seated', 'resemble', 'drawlingly', 'abashed', 'leaps', 'abominate', 'passively', 'st', 'IBID', 'brine', 'mainmast', 'Lents', 'mankind', 'batteries', 'innocency', 'providential', 'comply', 'Portugal', 'unapprehensive', 'invisible', 'chilled', 'pitch', 'Jonas', 'Meets', 'communicates', 'drawbacks', 'launch', 'resurrection', \";--'\", 'richness', 'deafened', 'ignited', 'swords', 'saith', 'slide', 'fluking', 'BROTHER', 'largest', 'yells', 'brushing', 'habit', 'perception', 'screen', 'nonplussed', 'musically', 'ugliest', 'mirror', 'discover', 'journeyman', 'foulness', 'baling', 'PILOT', 'tyro', 'boisterous', 'joky', 'seam', 'err', 'treble', 'Mealy', 'ANIMAL', 'Right', 'sociable', 'surgeon', 'signed', ';*', 'sustain', '.--', 'Fuego', 'contains', 'Turk', 'learnt', 'bulkhead', 'Edmund', 'pounce', '!--\"', 'outer', 'vulture', 'repugnance', 'stamped', 'midships', 'Hands', 'drawing', 'patience', 'populousness', '1836', 'muffling', 'exhilarating', 'grindstone', 'Steel', 'divinely', 'why', 'dashes', 'lily', 'blue', 'responses', 'bier', 'suburban', 'archangel', 'Cruising', 'Ka', 'headland', 'tigers', 'TWISTED', 'Whom', 'whittled', 'fished', 'Ramadans', 'Setting', 'attracted', 'wake', 'hasn', 'officiating', 'it', 'Martha', 'imports', 'loaf', 'frisky', 'nearer', 'School', 'shattered', 'abhorring', 'courteous', 'WHALES', 'told', 'stringy', 'budge', 'giddily', 'restricted', 'hourly', 'BERMUDAS', 'also', 'swearing', 'backwoods', 'limber', 'mast', 'Jews', 'extinction', 'Wonderfullest', 'reminiscence', 'sufferings', 'selves', 'slavish', 'braining', 'individuality', 'worshipper', 'consent', 'ink', 'coincident', 'TELL', 'sayest', 'seams', 'pill', 'radiates', 'reservoir', 'Ah', '21st', 'committed', 'commentators', 'beaks', 'art', 'usage', 'belike', 'landlessness', 'Shark', 'waiving', 'salad', 'nourished', 'impregnated', 'Museum', 'passive', 'jewellers', 'blueness', 'Derick', 'leads', 'overgrowing', 'obeying', 'Samson', 'couple', 'virgin', 'rescued', 'partake', 'formations', 'resemblance', 'wrapall', 'herded', '90', 'aforethought', 'looking', 'Real', 'favourite', 'For', 'Tish', 'trackless', 'embodiment', 'dies', 'sipping', 'Callao', 'lookest', 'got', 'porcupine', '68', 'turnstile', 'despised', 'infant', 'Stammering', 'ECUADOR', 'father', 'prophecies', 'Goney', 'lounge', 'amongst', 'catches', 'wearily', 'housewives', 'air', 'Cancer', 'gardens', 'overawed', 'QUARTER', 'reported', 'incrustation', 'vacant', 'tastefully', 'Cato', 'Amittai', 'backwoodsman', 'continued', 'tabernacles', 'natives', 'Testament', 'EXTENDING', 'doubloon', 'crookedness', 'doxology', 'Candles', 'allowing', 'screws', 'Holding', 'Has', 'usually', 'pitching', 'REPEATED', 'Something', 'commercial', 'buttressed', 'rakes', 'strand', 'occult', 'fisherman', 'dungeoned', 'enter', 'expediency', 'straddling', 'interlude', 'inlayings', 'chasing', 'declines', 'palpably', 'Angels', 'tip', 'Grampus', 'pencil', 'genial', 'shrink', 'Commanders', 'herrings', 'suppress', 'Gomorrah', 'Versailles', 'Stone', 'suggestively', 'Hardicanutes', 'seek', 'wrecked', 'chargers', 'ignorantly', 'deified', 'phantom', 'affected', 'annihilating', 'growing', 'footfall', 'resume', 'words', 'sublimity', 'savannas', 'length', 'jingle', 'spout', 'wakened', 'Imperial', 'superlative', 'grampus', 'cheerfully', 'elucidate', 'rigged', 'Fates', 'journeys', 'streets', 'professional', 'grego', 'great', 'clingings', 'feathers', 'sanctified', 'reliably', 'sobbings', 'men', 'taffrail', 'Vedas', 'premonitory', 'saltcellar', 'engines', 'woe', 'notorious', 'gudgeon', 'aunts', 'sweep', 'deviations', 'cousin', 'sporty', 'dissolve', 'indubitably', 'joyous', 'FLAMES', 'scornful', 'uninterrupted', 'Suspended', 'Two', 'ANY', 'carried', 'assumption', 'lar', 'uninterpenetratingly', 'gained', 'roses', 'flashes', 'joyfully', 'planed', 'plunging', 'light', 'solace', 'shadiest', 'instances', 'stems', 'clerical', 'Emir', 'blessed', 'eastward', 'consulted', 'loveliness', 'nondescript', 'Pirohitee', 'fight', 'mutilated', 'softest', 'insurance', 'Bless', 'imperial', 'DISCOVERS', 'Texel', 'rejection', 'silken', 'shell', 'calamity', 'plaid', 'cylindrically', \";'\", 'affixed', 'eastwards', 'You', 'valor', 'Ecclesiastes', 'halls', 'beef', 'YOURS', 'majestically', 'clusters', 'Tash', 'overstrained', 'stateliest', 'bald', 'trace', 'real', 'conservatories', 'gloriously', 'liquid', 'fierceness', 'hardly', 'Saint', 'indefatigable', 'welding', 'transferringly', 'malignant', 'equal', 'expansion', 'boggy', 'Herr', 'consort', 'Hence', 'wondering', 'encounter', 'kettles', 'infernally', 'igniting', 'tombs', 'SMOKING', 'wine', 'prophet', 'hurried', 'shining', 'wrench', 'extremely', 'outworks', 'floods', 'herein', 'Malacca', 'isn', 'proclaimed', 'mercifully', 'slaughtering', 'communication', 'deferential', 'charter', 'flues', 'maddening', 'Those', 'constitutional', 'ATTACK', 'drought', 'Emblazonings', 'key', 'behold', 'awaken', 'built', 'agile', 'coercing', 'speckled', 'Desolation', 'teetering', 'TOP', 'Pooh', 'brotherly', 'allured', 'respiration', 'youth', 'unharming', 'decency', 'affirms', 'Vishnoo', 'scratching', 'open', 'administered', 'Petrified', 'prestige', 'dare', 'UNDER', 'Persia', 'pitchpoled', 'Butler', 'willing', ';\"--(', 'spices', 'diverged', 'driftings', 'compose', 'Lad', 'lungless', 'overheard', 'tanned', 'exhale', 'eventual', 'offer', 'spying', 'investing', 'forethrown', 'FAMOUS', 'noiselessly', 'insufficient', 'superlatively', 'February', 'lockers', 'disorderliness', 'rotund', 'nights', 'analogies', 'physical', 'acre', 'Duck', 'beaten', 'exactly', 'WHEN', 'feigned', 'Run', 'longevity', 'unshored', 'lotus', 'liquor', 'Den', 'meditation', 'Simoon', 'undiscoverable', 'them', 'reckon', 'nervous', 'mocking', 'se', 'flinging', 'statutory', 'trumps', 'remorse', 'mechanical', 'By', 'pertained', 'Venice', 'travels', 'spleen', 'commonest', 'huge', 'ee', 'JAGO', 'Flat', 'previously', 'duels', 'VIIIth', 'motives', 'aye', 'crowds', 'grooves', 'breaking', 'town', 'bright', 'amber', 'irregular', 'voluntarily', '1820', 'stingy', 'arrange', 'actions', 'diet', 'projections', 'wires', 'SPERM', 'cling', 'natures', 'danced', 'centrally', 'waters', 'architecture', 'feeling', 'migrations', 'sworn', 'understood', 'preserver', 'must', 'harpooneers', 'powerfully', 'clap', 'tantalization', 'various', 'Ashantee', 'Fishery', 'SAXON', 'conversation', 'canal', 'blasted', 'sharing', 'crime', 'seed', 'younger', 'authors', 'aggregations', 'LEANING', 'honouring', 'YORK', 'Way', 'protruded', 'PREVIOUS', 'supposes', 'riddle', 'Lank', 'chestnuts', 'operation', 'protruding', 'extravaganzas', 'fire', 'assist', 'MIRIAM', 'eccentric', 'ha', 'orgies', 'Take', 'Was', 'colossal', 'sternward', 'seasoned', 'gates', 'discoverer', 'speak', 'AFTER', 'Hereby', 'tauntingly', 'feather', 'palm', 'thoughts', 'transfix', 'lake', 'beginner', 'Above', 'bordering', 'confidentially', 'prospects', 'sinned', 'predicted', 'CEASE', 'gor', 'pleasant', 'soberly', 'degrees', 'holding', 'hilarious', 'superiority', 'drifted', 'substantiates', 'puffs', 'blisteringly', 'commenting', 'outstretched', 'FOR', 'transcendental', 'aboriginally', 'ICELAND', 'November', 'Rope', 'begat', 'Strike', 'embark', 'Sub', 'gravestone', 'Avatar', 'glide', 'back', 'honour', 'brunt', 'inscrutably', 'savagery', 'meals', 'analytic', 'adopting', 'tray', 'irresponsible', 'shadow', 'Line', 'purty', 'balmed', 'brackish', 'feature', 'remembrances', 'liveliness', 'heaviest', 'Whitehall', 'all', 'hen', 'vivifying', 'under', 'double', 'agencies', 'frowned', 'Apollo', 'fasces', 'year', 'tumult', 'fallen', 'claw', 'creative', 'APPROACHING', 'dusk', 'HATCHWAY', 'Tho', 'Greek', 'mouts', 'owe', 'seasons', 'One', 'trying', 'queer', 'fronting', 'dining', 'sensitive', 'GENESIS', 'fabricated', 'guides', 'winks', 'infecting', 'flanking', 'denominated', 'Rue', 'ostentatious', 'critically', 'originally', 'aim', 'predicament', 'dampness', 'lirra', 'magnify', 'remonstrate', 'disastrous', 'overlook', 'Bout', 'fossils', 'narrating', 'guests', 'digger', 'Hardly', 'framework', 'Strello', 'Outward', 'dropt', 'visitations', 'cob', 'Observatory', 'singing', 'Admirals', 'Plato', 'treachery', 'finical', 'prescription', 'atmospheres', 't', 'pace', 'impetuously', 'plungingly', 'jambs', 'jars', 'Lying', 'unspotted', 'Zoology', 'market', 'ineffably', 'Englander', 'expedition', 'White', 'shunning', 'dilating', 'evade', 'teaches', 'hoot', 'roots', 'WHERE', 'detects', 'butchering', 'speediest', 'maccaroni', 'calves', 'mow', 'Stand', 'entailed', 'ball', 'meagre', 'car', 'lain', 'prudently', 'wondrously', 'thinkers', 'Jollies', 'ropeyarn', 'washes', 'tempestuous', 'incapable', 'error', 'stander', 'studious', 'cheer', 'adolescence', 'reservoirs', 'engravings', 'dorsal', 'Franklin', '72', 'Pannangians', 'loathed', 'ungraspable', 'majestic', 'retarded', 'powerless', 'affirm', 'sunlight', 'area', 'shortened', 'Hyperborean', 'congregated', 'Arm', 'parchingly', 'mischievous', 'erudition', '87', 'prone', 'foible', 'aboundingly', 'poltroon', 'legend', 'vents', 'canvas', 'unexaggerating', 'apparel', 'precedes', 'classify', 'inwreathing', 'Attend', 'COLNETT', 'defence', '1750', 'allusions', '275th', 'persisting', 'Jesus', 'Golconda', 'REV', 'garnished', 'gainst', 'Physiognomist', 'deadening', 'thrice', 'mutes', 'calling', 'chafed', 'CHINA', 'known', 'displaced', 'hydrophobia', 'chinks', 'composing', 'ALGERINE', 'hanging', 'colt', 'supposition', 'protesting', 'Hoods', 'bowels', 'deserted', 'crunched', 'carrying', 'fabulous', 'betoken', 'casting', 'assented', 'million', 'budding', 'insinuating', 'symbolized', 'Traitors', 'fibrous', 'mixes', 'unrolled', 'rivals', 'wonders', 'Jonathan', 'burnt', 'upright', 'bulky', 'broadly', 'Langsdorff', 'opposite', 'expectant', 'grazing', 'belongest', ';--\"', 'signs', 'dictator', 'unset', 'inhaling', 'mightiest', 'carelessness', 'fatally', 'warrant', 'countenance', 'seasoning', 'annals', 'external', 'depicted', 'trotting', 'wail', 'ram', 'quickly', 'Fits', 'whipped', 'siskur', 'doubling', 'for', 'determinate', 'outreaching', 'squatted', 'OR', 'brawny', 'swore', 'duck', 'osseous', 'unaccustomed', 'cooked', 'presides', 'coerced', 'e', 'interior', 'boarding', 'kannakin', 'swear', 'inconclusive', 'hardness', 'spending', 'Ginger', 'waded', 'potent', 'lingo', 'security', 'denied', 'sailings', 'vindictive', 'likened', 'Peering', 'girls', 'devotee', 'fascinated', 'bade', 'precipice', 'interpreter', 'parched', 'Campagna', 'cannibalism', 'comprehended', 'broom', 'Nicholas', 'It', 'Monday', 'whipping', 'Cooper', 'ALL', 'restrain', 'peculiarities', 'rueful', 'H', 'PEKEE', 'always', 'goblets', 'barnacle', '[', 'perilousness', 'copies', 'huzza', 'SURE', 'arm', 'cranes', 'exasperate', 'aspersion', 'Lesson', 'cartridge', 'Pan', 'observable', 'interposed', 'rub', 'congratulate', 'immaterial', 'Swiss', 'FIN', 'House', 'Southerner', 'occupants', 'Friesland', 'justice', 'meads', ',--', 'Bordeaux', 'unpleasing', 'lived', 'EDGE', 'service', 'weave', 'consternations', 'yard', 'canonicals', 'glen', 'slacking', 'divide', 'moidores', 'Our', 'bespeaking', 'PURCHAS', 'Hotel', 'prospectively', 'mountains', 'dreaming', 'Western', 'Quarto', 'dread', 'DRYDEN', 'solemnity', 'transpointed', 'span', 'pilau', 'stated', 'explained', 'returned', 'Listen', 'incline', 'Pillar', 'sir', 'timbers', 'Toes', 'Elephant', 'barbarian', 'cisterns', 'don', 'Jaffa', 'reward', 'Bottle', 'mightier', 'buoyantly', 'twinkling', 'FAIR', 'ducks', 'grapnels', 'Dinner', 'positively', 'innermost', 'pieces', 'dispel', 'porthole', 'Forecastle', 'outran', 'pint', 'anchors', 'Cognac', 'Hoveringly', 'completed', 'forgetfulness', 'Sartain', 'Draws', 'perpendicularly', 'lights', 'burnish', 'Gently', 'Newcastle', 'necessitated', 'Capes', 'Niger', 'invaders', 'runaway', 'bookbinder', 'continue', 'unrelenting', 'seal', 'satins', 'secludedness', 'Supper', 'skull', 'disappointed', 'prepared', 'witcheries', 'distant', '1793', 'sou', 'Plenty', 'clustered', 'trending', 'herding', 'hallo', 'city', 'delight', 'Between', 'punctures', 'programme', 'Erskine', 'Ye', 'painter', 'reaping', 'brows', 'legislative', 'survey', 'primal', 'Moby', 'character', 'flood', 'pinny', 'delude', 'farthingale', 'accompanies', 'December', 'REVELRY', 'crumb', 'withal', 'shortness', 'LEAPS', 'undulating', 'spile', 'Azores', 'purpose', 'artisan', 'Booble', 'Nimbly', 'remain', 'wrecks', 'particular', 'inexperienced', 'retiring', 'ineffable', 'chair', 'higgledy', 'liable', 'Asiatic', 'Seed', 'pervading', 'tightly', 'prudent', 'twitch', 'Quaker', 'contrivances', 'hideousness', 'bawled', 'ringleader', 'York', 'Sahara', 'Penetrating', 'intricacy', 'Goodwin', 'heliotrope', 'terrific', 'rollings', 'slewing', 'Good', 'mass', 'expandingly', 'guarantees', 'bitterest', 'lowerings', 'refrigerators', 'unmixed', 'meetings', 'ticks', 'unstaggering', 'gazer', 'maybe', 'placidly', 'petticoat', 'deficiencies', 'worldly', 'court', 'subordinately', 'influence', 'prodigy', 'unfair', 'circumspectly', 'breakfasting', 'entrances', 'misery', 'landscapes', 'ride', 'abstinence', 'dozed', 'furnace', 'capsized', 'doctored', 'endeavor', 'sort', 'BROKE', 'tramping', 'Icebergs', 'slapping', 'boat', 'question', 'intangible', 'occur', 'poured', 'spinning', 'unceasingly', 'commons', 'profane', 'dismantled', 'suspicious', 'Tahitians', 'cumbrous', 'smoker', 'ant', 'Quadrant', 'Winds', 'aesthetics', 'supplants', 'Dan', 'lingers', 'white', 'unpolluted', 'paler', 'tink', 'INTO', 'Common', ',--\"', 'latently', 'creaking', 'German', 'YOU', 'nautical', 'promising', 'carving', 'plain', 'discerns', 'suspending', 'springing', 'handicrafts', 'satisfactorily', 'Pottowottamie', 'vouchers', 'behind', 'hain', 'soothed', 'flirted', 'cholera', 'bitterness', 'drums', 'entertainment', 'raised', 'tracks', 'spectralness', 'idolators', 'guilt', 'Think', 've', 'apostolic', 'marline', 'rounder', 'lobtailing', 'expansive', 'solely', 'Garnery', 'weedy', 'Secretary', 'cease', 'tame', 'granting', 'ravines', 'wedder', 'lizard', 'lawyer', 'prolongings', 'bison', 'TEN', 'cultivated', 'systematizer', 'Green', 'quarrelsomely', 'fiendish', 'indigestion', 'incessantly', 'specialties', 'however', 'Death', 'office', 'Coffins', 'winding', 'saline', 'largeness', 'exegetist', 'Headers', 'pinnings', 'sable', 'SONG', 'malice', 'pauper', 'clapt', 'baggage', 'Keep', 'when', 'emotion', 'Coffin', 'Fata', 'Dives', 'bully', 'barreler', 'considerable', 'reef', 'modelled', 'Ledyard', 'whooping', 'stooping', 'suspected', 'rituals', 'ships', 'Greece', 'gull', 'alarmed', 'sylphs', 'particulars', 'incredible', 'else', 'supplied', 'Often', 'unconquering', 'tumblers', 'Days', 'entrenched', 'course', '67', 'Hope', 'previous', 'paces', 'purple', 'marshal', 'potency', 'harmony', 'lancer', 'grip', 'Bartholomew', 'stroll', 'There', 'Inserting', 'Isaiah', 'Me', 'returning', 'spermaceti', 'FLOOD', 'slumbers', 'accounts', 'Frenchmen', 'swinging', 'immeasurable', 'gulped', 'touched', 'DAGGOO', 'Ark', 'chewed', 'typhoon', 'equivalent', 'morass', 'acknowledging', 'blisters', 'Macy', 'sincerity', 'roosting', 'thistle', 'creation', 'imminent', 'pills', 'entangle', 'sacredness', 'dogged', 'resolution', 'cells', 'do', 'FROCK', 'standing', 'engrossed', 'luggage', 'ruins', 'pointest', 'clear', 'pistol', 'rumpled', 'vital', 'labored', 'befogged', 'electric', 'silences', 'unusual', 'hinges', 'containing', 'Met', 'tethered', 'unprepared', 'utilities', 'stubbornly', 'purest', 'relent', 'purposely', 'moral', 'Martin', 'naught', 'Aunt', 'palsied', 'Popayan', 'household', 'ready', 'SCHOUTEN', 'Hampton', 'upraising', 'swaller', 'Titanic', 'Quakers', 'woman', 'jerkingly', 'argument', 'compliments', 'noder', 'unsurrendered', 'discourseth', 'selected', 'starred', 'heeding', 'linear', 'Pythagorean', 'rustiness', 'joints', 'Fernandes', 'begged', 'perpetuated', 'witted', 'crop', 'profoundly', 'manliness', 'SOUTH', 'animal', 'Brazil', 'pertinaciously', 'undulated', 'bride', 'Charing', 'skulking', 'ample', 'entranced', 'inverted', 'Looking', 'gouged', 'Crappoes', 'descendants', 'nail', 'enduring', 'Conjuror', 'callest', 'hoo', 'Consumptive', 'likes', 'shortest', 'Subs', 'examination', 'charm', 'reduced', 'VON', 'actual', 'her', 'builders', 'unimaginative', 'phenomena', 'weighed', 'bulbs', 'scout', 'named', 'captive', '3', 'gaily', 'hap', 'teeter', 'operating', 'Suppose', 'shade', 'helped', 'PLUTARCH', 'tube', 'parcelling', 'chose', 'digesting', 'compasses', 'forwards', 'hill', 'examples', 'indifferent', 'handled', 'squeezing', 'portcullis', 'local', 'shod', 'volatile', 'Best', 'identically', 'Mississippies', 'tremendous', 'ask', 'Volcano', 'ruddy', 'wert', 'dock', 'fainting', 'mildewed', 'loose', 'merchants', 'navies', 'allow', 'Categut', 'elasticity', '21', 'Corinthians', 'rout', 'Jeremy', 'squares', 'lawyers', 'controllable', 'Fiery', 'credible', 'me', 'still', 'Anyway', 'circumnavigated', 'wilt', 'chronicles', 'presto', 'sharper', 'tornadoed', 'voyaged', 'vum', 'unrolling', 'old', 'DUODECIMO', 'pride', 'comrade', 'faltering', 'victim', 'thrust', 'handspikes', 'Aldrovandus', 'presentment', 'interfering', 'quaffed', 'Arrayed', 'limb', 'ebb', 'lulled', 'isle', 'hearing', 'flask', 'news', 'amputate', 'early', 'breed', 'keyed', 'PHIL', 'stricken', 'lightness', 'Loaded', 'Great', 'WINDLASS', 'effectual', 'Instances', 'emptying', 'detestable', '(', 'Smells', 'patriot', 'Van', 'universality', 'idler', 'tastes', 'gripping', 'enterprise', 'prepare', 'notified', 'razeed', 'glances', 'lean', 'Floating', 'treatise', 'smitten', 'poker', 'essential', 'skylarking', 'traces', 'retaken', 'Academy', 'through', 'respectively', 'symbolizings', 'spiritually', 'tiles', 'lusty', 'Perchance', 'habergeon', 'clubs', 'perplexity', '!--', 'mane', 'palsy', 'jury', '132', 'outburst', 'throned', 'taught', 'Unobserved', 'unduly', 'intertangled', 'carriages', 'languid', 'affect', 'gallant', 'emerged', 'shows', 'KINROSS', 'walled', 'ruggedness', 'atmosphere', 'branded', 'styled', 'respectable', 'tyros', 'throbs', 'slouched', 'Inasmuch', 'unretracing', 'Preserving', 'jeweller', 'sordidness', 'fronts', 'jiff', 'fenced', 'craziness', 'onset', 'suppressed', 'device', 'unsounded', 'phiz', 'poising', 'refining', 'thorns', 'commanders', 'sensations', 'scholars', 'exterior', 'entombment', 'prison', 'tumultuous', 'merman', 'shrieked', 'carking', 'gums', 'lightnings', 'Sands', 'disease', 'cooks', 'empty', 'hermetically', 'princess', 'sparkling', 'age', 'pack', 'Anomalous', 'shuffling', 'comparatively', 'unknowing', 'perfectly', 'tranquillize', 'invented', 'confidential', 'internal', 'scanning', 'advantage', 'exceptionable', 'appropriate', 'philosophers', 'declares', 'bartering', 'Caryatid', 'corroborated', 'unpainted', 'speeding', 'bled', 'Equator', 'contrast', 'flapped', 'le', 'woodcock', 'Vanity', 'brawniness', 'shut', 'planets', 'toed', 'possibilities', 'Beach', 'trip', 'produce', 'mastheads', 'hummingly', 'sharply', 'Japan', 'owing', 'whitenesses', 'enumerate', 'Pray', 'receptacle', 'ENGLISH', 'hapless', 'impressed', 'exquisitely', 'braced', 'blooded', 'capital', 'Mayhew', 'arpens', 'tunes', 'country', 'flight', 'holiest', 'masts', 'PAID', 'fort', 'sown', 'fishermen', 'overhung', 'watchman', 'Pottsfich', 'Kick', 'apertures', 'trudging', 'urbane', 'depression', 'symptom', 'terms', 'Both', 'veracity', 'canonized', 'bedstead', 'exhumed', 'distrust', 'habitatory', 'foster', 'hunters', ').', 'Parsee', 'native', 'officered', 'draft', 'species', 'tongs', 'hereditary', 'rouses', 'attaching', 'castle', 'bloodiest', '3D', 'fulfilment', 'pedlar', 'advised', 'intersecting', 'Needle', 'anaconda', 'Yon', 'acknowledges', 'survives', 'July', 'foolishly', 'vacancies', 'furlongs', 'handles', 'jetted', 'couldst', 'onward', 'smugglers', 'Niphon', 'snug', 'damn', 'Canst', 'decapitated', '12', 'shovels', 'intensifying', 'we', 'HUSSEY', 'perverse', 'hillock', 'silenced', 'melt', 'shambling', 'orlop', 'DEL', 'swiftest', 'elevating', 'inscriptions', 'Annawon', 'swallows', 'posture', 'wincing', 'Guernsey', 'indiscretions', 'Hearing', 'paint', 'impairs', 'dangerous', 'accurate', 'yours', 'unmannerly', 'obey', 'critics', 'officially', 'glee', 'deacon', 'erudite', 'impression', 'shouting', 'statement', 'yelled', 'N', 'scrapings', 'furious', 'inquired', 'daylight', 'jingling', 'massive', 'submerged', 'hose', 'Civitas', 'exert', 'turbulence', 'big', 'patch', 'vessels', 'success', 'BOATS', 'rainbowed', 'fling', 'stand', 'hastening', 'shroud', 'bumpkin', 'durability', 'flourish', 'lowermost', 'Jump', 'subtler', 'W', 'unstarched', 'floors', 'pulpit', 'stab', 'capacity', 'yield', 'colic', 'rumbling', 'museum', 'interweavingly', 'perfumed', 'Accordingly', 'TALES', 'timberheads', 'Ashore', 'robed', 'incarnations', 'cubic', 'marling', 'horrid', 'gag', 'Typhoon', 'thought', 'steeple', 'pivot', 'eely', 'hollowing', 'damsels', 'truthful', 'unfamiliar', 'startling', 'sufferable', 'wilds', 'Hyena', 'rang', 'gangway', 'Geological', 'climates', 'hands', 'beamed', 'tatters', 'vault', 'pick', '1788', 'flow', 'fragrant', 'inexpressible', 'plate', 'squally', 'heighten', 'cartload', 'musk', 'conflict', 'endangered', 'expiring', 'thriving', 'fond', 'oneself', 'substantive', 'general', 'pore', 'extract', 'amidst', 'shored', 'Jig', 'pretend', 'spectral', 'vales', 'your', 'Headed', 'chalking', 'enterprises', 'fishy', 'resembled', 'unbiddenly', 'rejecting', 'NOT', '180', 'bough', 'lonesomely', 'Hast', 'hues', 'Unhinge', 'navel', 'wonderment', 'baton', 'headless', 'scarred', 'kinsmen', 'varieties', 'eighteen', 'gibberish', 'voice', 'staggers', 'icy', 'engaged', 'diversion', 'learned', 'Eastern', 'complacent', 'enriched', 'soliloquized', 'Antwerp', 'horizons', 'inexhaustible', 'Schoolmasters', 'nearest', 'needed', 'boldly', 'Harpooneer', 'cobbler', 'SCATTER', 'Roman', 'Danish', 'longitude', 'victory', 'comparing', 'Bright', 'imprecations', 'size', 'THEE', 'pantaloon', 'Bastille', 'flaming', '\"\\'', 'wicked', 'torrent', 'manipulated', 'oscillates', 'Miriam', 'pomatum', 'ript', 'unmethodically', 'Andrew', 'futures', 'halloa', 'seventy', 'decided', 'popped', 'boatswain', 'longing', 'WHAT', 'Tarshish', 'fares', 'comparable', 'SHE', \",'\", 'FROM', 'sensible', 'inmates', 'impressions', 'passionateness', 'argue', 'vaulted', 'counterbalance', 'struggled', 'method', 'dainty', '.', 'lightens', 'Vitus', 'holder', 'storied', 'Empire', 'reality', 'silver', 'captain', 'line', 'accompany', 'trenchers', 'moss', 'pleasure', 'bandana', 'beholds', 'Serious', 'crouches', 'Squid', 'HUZZA', 'glow', 'midwinter', 'improvements', 'violent', 'frankly', 'VICE', 'coaches', 'whelmings', 'mammiferous', 'lawful', 'desks', 'Swallow', 'kneepans', 'transactions', 'guttural', 'Apoplexy', 'Grub', 'pop', 'oftener', 'brutal', 'digester', 'gleaming', 'grievances', 'places', 'keener', 'Knight', 'importunity', 'accident', 'Trinity', 'stung', 'exultation', 'Header', 'unsolicited', 'WORLD', 'unloading', 'Insufferable', 'item', 'eel', 'Dodge', 'twelvemonth', 'Farewell', 'lifeless', 'before', 'Ay', 'unabated', 'tapered', 'wait', 'hitting', 'befooled', 'zig', 'milliner', 'unofficially', 'drained', 'My', 'steam', 'grandfather', 'Judea', 'divers', 'conversed', 'exegetists', 'Daniel', 'doubts', 'pealing', 'auxiliary', 'cenotaphs', 'unbutton', 'Mufti', 'dismal', 'revellers', 'wiping', 'stomach', 'outskirts', '-', 'Glen', 'overruling', 'greenness', 'SAID', 'lads', 'skirted', 'gliding', 'insert', 'executors', 'Did', 'Parisians', 'hark', 'Huron', 'spaciousness', 'dictionary', 'judge', 'helplessly', 'swamping', 'rapidly', 'evaporates', 'dodge', 'fatal', 'pallet', 'incredulity', 'slime', 'kingdom', 'friend', 'descent', 'incommodiously', 'Tartar', 'outward', 'wrap', 'carnation', 'quivering', 'child', 'unbegotten', 'auction', 'stead', 'Khan', 'spos', 'Witness', 'submitted', 'vivaciously', 'affrighted', 'time', 'rousing', 'howl', 'generated', 'olden', 'haint', 'Trumpa', 'sinewing', '1839', 'breeding', 'adjusting', 'illuminating', 'commentator', 'bannered', 'trail', 'And', 'caps', 'contents', 'dressed', 'substantiate', 'charnel', 'mossy', 'toiled', 'unendurable', 'pumping', 'cheeriest', 'waterless', 'expound', 'Overhearing', 'consciousness', 'roast', 'plump', 'agent', 'week', 'billow', 'gibbering', 'hoisted', 'cleft', 'bitterly', 'tigress', 'train', 'rips', 'Cabin', 'exaggerating', 'burghers', 'slewed', 'pile', 'interluding', 'graze', 'ropes', 'Snatch', 'clinging', 'monument', 'chanced', 'moody', 'Equatorial', 'firmly', 'revealed', 'infiltrated', '133', 'hunter', 'abortions', 'fencing', 'tranquillity', 'glimmering', 'Bedford', 'unbent', 'periodicalness', 'unwieldy', 'bewildering', 'excitements', 'peeled', 'tiller', 'passions', 'Espied', 'interminable', 'decorated', 'facility', 'Crossed', 'evanescence', 'bandages', 'linked', 'vastly', 'caravan', 'Sheffield', 'Plate', 'feat', 'desert', 'importance', 'madness', 'dramatist', 'giddy', 'Laplandish', 'hemmed', 'Almost', 'Rio', 'fat', 'wont', 'predestinated', 'throbbing', 'blending', 'twine', 'portraits', 'weapons', 'BOUTON', 'breezelessness', 'hug', 'transfixedly', 'accursed', 'belie', 'analysed', 'Lapland', 'anxieties', 'steeply', 'oders', 'threaten', 'incompetency', 'Jumped', 'Low', 'crim', 'ridges', 'MYSTERIOUS', 'mottled', 'BROWNE', 'harpooning', 'slower', 'Noah', 'manfully', 'Deliberately', 'curious', 'snortings', 'lungs', 'methodic', 'fault', 'SOMEWHERE', 'precincts', 'reigning', 'moves', 'hay', 'cleets', 'due', 'boarded', 'inferences', 'discreditably', 'accelerating', 'palest', 'crowned', 'Hell', 'population', 'conceded', 'wipe', 'cozening', 'LOCK', 'abandoned', 'absorbing', 'Tudors', 'amid', 'sprain', 'lit', 'GATHERED', 'besides', 'maiming', 'Wapping', 'unwound', 'complied', 'Park', 'incompatible', 'sheering', '1st', 'wandering', 'dip', 'admiral', 'admire', 'path', 'forking', 'inmost', 'Furl', 'felled', 'Retribution', 'forget', 'snugly', 'atom', 'atrocious', 'stumps', 'Well', 'wrapped', 'NEW', 'lance', 'bulb', 'operas', 'CABIN', 'shudderings', 'admirals', 'TOLD', '125', 'crazed', 'Granting', 'hurry', 'iron', 'sciences', 'purposeless', 'supplication', 'Cistern', 'Faith', 'exhibit', 'entire', 'function', 'Law', 'labyrinth', 'oozed', 'breakfast', 'ONE', 'ways', 'Gilder', 'Musket', 'Set', 'arrives', 'increase', 'privation', 'unwaning', 'Ahasuerus', 'tenement', 'suspicion', 'increased', 'sooth', 'gazes', 'bluish', 'Sumatra', 'dexterous', 'rapt', 'engrossing', 'weeks', 'ray', 'involuntary', 'immensities', 'JEFFERSON', 'caprices', 'skirts', 'anus', 'Level', 'destroyer', 'plucked', 'apprehension', 'doubloons', 'sentry', 'Puritanic', 'swagger', 'experience', 'burly', 'unicorns', 'Holofernes', 'Providence', 'Powers', 'flogging', 'desires', 'piles', 'incognita', 'ignite', 'clumsiest', 'unstricken', 'threatening', 'Cooke', 'Paracelsus', 'strongly', 'NOSTRIL', 'Burkes', 'finny', 'Horn', 'perils', 'Norse', 'Monongahela', 'slightly', 'manoeuvre', 'blossom', 'ultimately', 'doubting', 'philosophically', 'unnatural', 'hippogriff', 'slunk', 'wrung', 'jackal', 'oblige', 'undivided', 'phrensies', 'Counterpane', 'Full', 'unwinding', 'Cologne', 'mint', 'rapacious', 'witchery', 'twos', 'interview', 'theirs', 'Spurzheim', 'turban', 'hoisting', 'bounds', 'developed', 'loan', 'endeavored', 'corpulence', 'fuddled', 'United', 'associates', 'wear', 'aback', 'waive', 'TUBS', 'port', 'gunwales', 'fatter', 'chimed', 'aides', 'birds', 'ISOLATOES', 'neighbor', 'Sodom', 'assuming', 'burglaries', 'Assume', 'origin', 'cheese', 'Prick', 'mentioned', 'concerns', 'stately', 'Dome', 'wallet', 'shoals', 'forecast', 'sagged', 'concreted', 'gathers', 'worshipping', 'si', 'magnifying', 'check', 'enkindling', 'hook', 'prospect', 'blight', 'boldest', 'Disdain', 'raal', 'incident', '20', 'many', 'adieu', 'ex', 'Never', 'Norwegian', 'Brahma', 'Arnold', 'Mab', 'power', 'discount', 'doubly', 'defection', 'repentance', 'drooping', 'depresses', 'auger', 'remarks', 'preternatural', 'ventured', 'flung', 'hacked', 'Uncommonly', 'parent', 'mole', 'qualities', 'honeycomb', 'hypothesis', 'THY', 'Having', 'sanctum', 'Loveliness', 'steals', 'found', 'gallery', 'blindly', 'warmth', 'reciprocally', 'East', 'SPRINGING', 'hazel', 'Edgewise', 'shot', 'hermits', 'bending', 'foamy', 'EXTRACTS', 'sitting', 'outbellying', 'liabilities', 'On', 'expostulations', 'aught', 'wigwam', 'pods', 'Tartarian', 'Rinaldo', 'sheeted', 'curdling', 'Alleghanian', 'sons', 'buckets', 'respected', 'contributory', 'delusion', 'yesterday', 'beating', 'shadowy', 'Temperance', 'GOOD', 'persecutions', 'ILE', 'hailed', 'knell', 'firm', 'clubbed', 'aslope', 'Madness', 'circumnavigating', 'bundles', 'hauling', 'Prairie', 'muteness', 'plied', 'completely', 'sinners', 'whimsicalities', 'stings', 'hemlock', 'granite', 'glared', 'architects', 'restrained', 'surly', 'wallow', 'Righteousness', 'withstand', 'cordially', 'withholding', 'sixty', 'thimbleful', 'foolish', 'disputing', 'bilocular', 'monsieurs', 'neared', 'planting', 'Europe', 'forth', 'Hish', 'bravadoes', 'Mend', 'brilliancy', 'won', 'southern', 'focus', 'hum', 'alone', 'hereabouts', 'Lively', 'expenses', 'favour', 'Bays', 'shaved', 'swears', 'ages', 'wick', 'unaccountable', 'Cassock', 'whiskers', 'noticing', 'pasteboard', ',)', 'stagger', '93', 'rounds', 'induce', 'Maury', 'CETUS', 'Sure', 'Hold', 'gleam', 'revivified', 'Melancthon', 'lurk', 'hearties', 'perceived', 'enlightening', 'rafted', 'candelabra', 'precaution', 'leviathanic', 'Drawing', 'chase', 'reliable', 'Talk', 'prized', 'impotently', 'shortly', 'concocted', 'Spell', 'rayther', 'vineyards', 'voracity', 'hopefully', 'allures', 'unmanned', 'barbarians', 'alongside', 'hunks', 'ease', 'cordage', 'admirer', 'spice', 'habitude', 'plenty', 'unhappy', 'maddens', 'wid', 'innate', 'pitted', 'drippings', 'soldier', 'attains', 'enveloped', 'policy', 'Crown', 'slice', 'punctured', 'goddess', 'audacity', 'eagle', 'spiritual', 'vivacity', 'pecking', 'Ireland', 'furrow', 'mishap', 'indispensable', 'padlock', 'strawberries', 'Breakfast', 'etc', 'Wisdom', 'seized', 'sashes', 'concernments', 'Hard', 'criticism', 'Shadrach', 'wakeful', 'marketless', 'sands', 'stands', 'rid', 'topmaul', 'concurred', 'Sachem', 'repose', 'hours', 'powerful', 'stamping', 'hotels', 'moving', 'unsafe', 'some', 'bales', 'energy', 'landing', 'Pitchpoling', 'angry', 'bachelors', 'topsails', 'dairy', 'Rockaway', 'hold', 'enlightened', 'See', 'v', 'extorting', 'Rokovoko', 'spoils', 'fishes', 'pyres', 'shabbily', 'wrought', 'descends', 'Alike', 'lullaby', 'trials', 'cheeseries', 'suds', 'render', 'escapes', 'Instead', 'quality', 'girth', 'Dugongs', 'ushered', 'Which', 'hare', 'expansiveness', 'horror', 'deception', 'resurrections', 'oftentimes', 'joyful', '1ST', 'pitcher', 'chopping', 'sweepers', 'silvery', 'railway', 'unrifled', 'supposing', '97', 'soles', 'evil', 'elephant', 'swerve', 'villains', 'HIMSELF', 'lightning', 'perpendicular', 'inflicted', 'How', 'burden', 'OH', 'haul', 'humored', 'enchanting', 'muscular', 'Certain', 'dreadful', 'inferiors', 'selling', 'loo', '!\\'\"', 'saucers', 'tabernacle', 'bleached', 'coils', 'summons', 'spicin', 'justified', 'other', 'Alleghanies', 'forced', 'periodically', 'edges', 'lording', 'circumstance', 'lexicon', 'BLACK', 'vapour', 'poncho', 'supply', 'Smeer', 'Olassen', 'nineteenth', 'backstay', 'painful', 'up', 'kentledge', 'intermediate', 'gowns', 'waved', 'bow', 'regardless', 'leewardings', 'U', 'misnamed', 'months', 'll', 'tablets', 'yearly', 'disheartening', 'Shiver', 'snakes', 'unlock', 'fated', 'mat', 'passed', 'spotted', 'urchins', 'scorbutic', 'wardrobe', 'expert', 'disciples', 'provided', 'exchanged', 'main', 'administering', 'Passed', 'trained', 'poem', 'plaits', 'spars', 'distressed', 'unmanageably', 'De', 'ruin', 'gnashing', 'Blang', 'costermongers', 'occasions', 'foibles', 'Rabbins', 'interflowing', 'bamboozingly', 'hints', 'expand', 'ungovernable', 'brief', 'shrubs', 'grimly', 'outside', 'River', 'bountifully', 'effulgences', 'La', 'height', 'Intolerably', 'testimony', 'collared', 'fetid', 'infallible', 'altar', 'Figuera', 'peremptorily', 'spacious', 'radiating', 'dismembered', 'bees', 'neighboring', 'cloud', 'glided', 'esteemed', 'overlooking', 'reinforcement', 'woof', 'dismasted', 'axles', 'savor', 'uninjurable', 'spray', 'settle', 'gainsaid', 'HAND', 'foundering', 'spreads', 'throw', 'new', 'STERN', 'out', 'venerable', 'drama', 'pulverize', 'bask', 'ached', 'parties', 'profundities', 'gullies', 'Grief', 'Locks', 'bastions', 'basso', 'prophets', 'rostrated', 'stare', 'familiarly', 'diving', 'communing', 'clams', 'Legs', 'pensive', 'reception', 'cliffs', 'sailer', 'murdering', 'dalliance', 'slumber', 'acquiesce', 'invunerable', 'troubled', 'signal', 'freely', 'promptly', 'AS', 'thole', 'wheeled', 'Availing', 'sneering', 'delivered', 'disencumber', 'license', 'chat', 'gloom', 'ankers', 'whizzings', 'enacted', 'rebounds', 'disinterested', 'animated', 'these', 'cabins', 'Wrapping', 'image', 'unholy', 'quills', 'Vacantly', 'stumbling', 'tying', 'caulk', 'Judgment', 'fathers', 'alternately', 'strangely', 'berths', 'decoction', 'using', 'wells', 'China', 'spoutholes', 'predominating', 'clutching', 'misbehaviour', 'lt', 'waits', 'MEMORY', 'uncontaminated', 'Paean', 'fac', 'Point', 'rivet', 'housings', 'concentrations', 'liberally', 'you', 'rubbing', 'sum', 'Titans', 'Leg', 'discourse', 'nodded', 'unlimited', 'IV', 'Lee', 'announcement', 'wolves', ':--\"', 'hacking', 'allurements', 'yielded', 'upbubble', 'withdrawn', 'objected', 'hills', 'crystalline', 'bowling', 'unstaked', 'ear', 'Outside', 'covering', 'stranded', 'Bad', 'OCTAVOES', 'coppers', 'yaw', 'battalions', 'spangled', 'snoozing', 'whispered', 'therein', 'Diving', 'scupper', 'lamb', 'instead', 'comely', 'Newfoundland', 'rambled', 'hairy', 'Sin', 'knotty', 'Light', 'toe', 'ADVENTURES', 'leaky', 'skysail', 'declining', 'hypos', 'arranged', 'bank', 'instantaneous', 'OCTHER', 'uncatastrophied', 'depends', 'certainty', 'frolic', 'inter', 'Stern', 'voices', 'Luck', 'unwittingly', 'Eternity', 'article', 'magnet', 'MENDING', 'welded', 'becalmed', 'immediately', 'pipe', 'views', 'style', 'Yojo', 'festooning', 'links', 'lubber', 'Ixion', 'TAHITAN', ';--', 'immutableness', 'candies', 'Still', 'unless', 'mediums', 'crags', 'value', 'characteristically', 'mastodons', 'unsuppressable', 'nine', 'tremendousness', 'repelling', 'silly', 'grim', 'OAKES', 'swordsman', 'fellows', 'preceded', 'loved', 'CETI', 'taller', 'omnisciently', 'inflexible', 'lords', 'muffledness', 'pipes', 'stowaways', 'straits', 'bite', 'existing', \":--'\", 'lids', 'recounted', 'song', 'rapping', 'Starting', 'temper', 'notches', 'reverse', 'prairies', 'fatality', 'unwritten', 'dispute', 'tables', 'provident', 'mainyard', 'folks', 'inventors', 'Bower', 'rooms', 'seaport', 'proas', 'selection', 'scrimps', 'snuff', 'promontories', 'twitched', 'innocent', 'pursuits', 'permitting', 'premium', 'czarship', 'elucidating', 'hence', 'inland', 'narwhale', 'uppermost', 'luxurious', 'stabs', 'fain', 'Babylon', 'apply', 'unanswerable', 'noble', 'slantings', 'ISLANDS', 'archiepiscopacy', 'Bag', 'classification', 'Mogul', 'nibbling', 'Yankees', 'loitering', 'Dar', 'beholding', 'bellies', 'SEBOND', 'ostensible', 'imponderable', 'devious', 'crooked', 'wealthiest', 'congenialities', 'assumed', 'Curses', 'unsleeping', 'excitedly', 'domed', 'Pagan', 'unite', 'fetches', 'searchingly', 'snorts', 'Requiem', 'meritoque', 'About', 'Whether', 'calomel', 'nobody', 'revenue', 'caw', 'strike', 'wrong', 'sarmon', 'conceits', 'impute', 'travel', 'bawl', 'beheading', 'os', 'stars', 'exclamations', 'swathed', 'Whereupon', 'SPOUTINGS', 'bolts', 'semblance', 'aleak', 'travellers', 'furled', 'bill', 'worshippers', 'Whitsuntide', 'tastin', 'imperilled', 'contentedly', 'fishery', 'distress', 'Blanche', 'bestreaked', 'T', 'drops', 'becoming', 'eventually', 'socks', 'Netherlands', 'duelled', 'securely', 'whalesmen', 'maddened', 'historic', 'obsequious', 'bump', 'persuading', 'reciprocating', 'pyramidical', 'promiscuously', 'LEVIATHAN', 'vivacious', 'scant', 'impressive', 'senseless', 'exceedingly', 'suffered', 'heat', 'wandereth', 'bounding', 'breathed', 'decanting', 'issued', 'narrow', 'Ordinaire', 'demonisms', 'incorporate', 'addressed', 'Fat', 'missive', 'mission', 'Emperor', 'grappling', 'beaters', 'doom', 'Hand', 'undetached', 'carrion', 'quietest', 'duplicate', 'better', 'rude', 'wrenching', 'considering', 'division', 'routine', 'negations', 'Lavater', 'tingles', 'fatalists', 'classic', 'wearies', 'clam', 'J', 'October', '.*--', 'incoherently', 'LL', 'contemptible', 'Enderbies', 'Almanack', 'licked', 'small', 'tolerably', 'catalogue', 'resolving', 'sake', 'relative', 'whang', 'poky', 'Euclidean', 'Fields', 'windy', 'brushed', 'TAMBOURINE', 'paupered', 'magnitude', 'recommended', 'Myself', 'advantages', 'featuring', 'peasant', 'hang', 'lieutenant', 'indistinctness', 'MALTESE', 'Crab', 'cake', 'BRACE', 'castor', 'motioning', 'revolves', 'harboring', 'ointment', 'surrounds', 'woods', 'forbid', 'Gull', 'insects', 'contingent', 'scrouge', 'battled', '86', 'smothering', 'odoriferous', 'satisfaction', 'proved', 'COLEMAN', 'procession', 'OPEN', 'quantity', 'reserving', 'gravity', 'incensed', 'aslant', 'circled', 'Germans', 'Corresponding', 'incidental', 'stoneless', 'flame', 'gentleman', 'stake', 'unensanguined', 'authority', 'historian', 'scraggy', 'cathedral', 'mills', 'nourishing', 'caged', 'mute', 'lengths', 'impart', 'revelled', 'Flounders', 'complaints', 'cheapest', 'infinite', 'CLEAN', 'moulded', 'sympathetic', 'proudly', 'flights', 'prey', 'inarticulate', 'prejudices', 'miscellaneous', 'energies', 'fought', 'premised', 'Philopater', 'banding', 'People', 'relying', 'trappings', 'sluggishly', 'Form', 'rearward', 'cakes', 'charitable', '70', 'rehearse', 'compound', 'hereupon', 'Off', 'excited', 'bowline', 'corners', 'yawing', 'destroys', 'sonorous', 'minutes', 'None', '124', 'irrational', 'decision', 'unscrupulous', 'Once', 'ruling', 'deliberated', 'stubbs', 'LIGHT', 'nursery', 'triangularly', 'courageous', 'examined', 'sigh', 'Epitome', 'L150', '24', 'bushel', 'require', 'stair', 'dandies', 'deny', 'raise', 'Round', 'lounges', 'orbits', 'fearfully', 'proportion', 'foreseeing', 'unmerited', 'benevolently', 'referring', 'yoked', 'pots', 'weasel', 'joins', 'driving', 'forbidding', 'unseasonable', 'remonstrated', 'birthmark', 'hard', 'poniards', 'Clearing', 'Austrian', 'epitaphs', 'inhabitiveness', 'chapel', 'dirty', 'unhealing', 'unrighteous', 'fancies', 'boisterously', 'temptation', 'slaughter', 'Nay', 'distinguishing', 'FIGURED', 'temperance', 'vane', 'roly', 'cranium', 'breezeless', 'L100', 'mistiness', 'reclining', 'phrases', 'outwardly', 'ledge', 'solemnly', 'ARCTIC', 'entreaty', 'vow', 'hows', 'Partners', 'unextinguished', 'cooper', 'quailed', 'etherial', 'entirely', 'maned', 'pairs', 'Posted', 'mangles', 'argosy', 'Wife', 'Immemorial', 'measuring', 'quarantine', 'Gam', 'wrangling', 'punishment', 'waxy', 'scratches', 'assume', 'Cinque', 'bluntly', '?', 'Miracle', 'vortex', 'orator', 'priests', 'distantly', 'Whirlpooles', 'invaded', 'defy', 'slided', 'fowl', 'portion', 'anomaly', 'sourceless', 'revelations', 'fortune', 'PLENTY', 'movingly', 'Japans', 'garter', 'principle', 'drenching', 'undeterred', 'leaping', 'parlor', 'heightened', 'Drink', 'Hygiene', 'barbs', 'instinct', 'limbs', 'maxim', 'longitudes', 'Rondeletius', 'impunity', 'Expeditions', 'such', 'followed', 'TYERMAN', 'butterflies', 'mouthful', 'bolting', 'stilts', 'whence', 'system', 'Commons', 'cricket', 'DID', 'claret', 'confoundedly', 'Nod', 'deepeningly', 'Swaine', 'allies', 'uncouth', 'then', 'undignified', 'Limeese', 'heaped', 'reproachfully', 'presaging', 'morbidness', 'space', 'midsummer', 'Liberties', 'impenetrable', 'perch', 'backing', 'encasing', 'god', 'diligence', 'appearances', 'cited', 'phosphorescence', 'unskilful', 'superstitions', 'Behring', 'baptism', 'patched', 'thief', 'footstep', 'TRUCKS', 'Revival', 'presaged', 'army', 'smoothe', 'boneless', 'midship', 'repast', 'bigot', 'placed', 'shirr', 'recruit', 'initiate', 'murmur', 'warrantry', 'Rad', 'manage', 'immemorial', 'spit', 'impulsive', 'perfidious', 'baby', 'millions', 'inducing', 'vibrating', 'coat', 'a', 'unexpectedly', 'inferior', 'lo', 'gloss', 'mid', 'volition', 'contiguity', 'Paris', 'bayonets', 'enactment', 'consecutive', 'tawn', 'sheathing', 'Coronation', 'telescope', 'afternoon', 'justification', 'dense', 'inshore', 'yarns', 'LAID', 'prodigies', 'widows', 'worm', 'vignettes', 'Pictures', 'much', 'Excuse', 'source', 'threadbare', 'spirally', 'richer', 'fiend', 'snooze', 'agrarian', 'Temple', 'drenched', 'panellings', 'bustles', 'Yarman', 'cogged', 'warfare', 'thronged', 'conducting', 'harpoon', 'gorge', 'Et', 'particle', 'enchanted', 'remark', 'snatches', 'collectedness', 'respectful', 'artificialness', 'functions', 'unworshipping', 'crannies', 'rifled', 'militia', 'chivalric', 'endlessness', 'spiralizes', 'itch', 'Pantheon', 'whitest', 'often', 'scaramouch', 'jav', 'Frederick', 'torments', 'fantastic', 'extremest', 'rum', 'ones', 'slipperiness', 'unconditionally', 'fifth', 'motionless', 'critical', 'water', 'savory', 'clover', 'stalking', 'ramblings', 'nods', 'commanded', 'mutineers', 'mystifying', 'tried', 'remotest', 'shipping', 'Landlord', 'naturalist', 'fresher', 'starts', 'clattering', 'dazed', 'rowels', 'Dunfermline', 'badly', 'cupbearers', 'Contrasted', 'cigar', 'disable', 'treating', 'strove', 'backed', 'sullenly', 'excessively', 'fugitive', 'southward', 'unsays', 'intricate', 'This', 'incidents', 'contracting', 'tin', 'excel', 'scattered', '18', 'Portuguese', 'deciphered', 'less', 'piloted', 'feline', 'spear', 'label', 'Moses', 'mustard', 'touchest', 'Baron', 'exercises', 'government', 'Thirdly', 'started', 'ambitious', 'exhibiting', 'sliding', 'uncontinented', 'marched', 'provincials', 'SLEEPY', 'bestows', 'sickle', 'whom', 'joy', 'bloodshed', 'limestone', 'baronial', 'Wooden', 'Unlike', 'charmed', '\"...', 'admonish', 'droopings', 'shown', 'chest', 'derision', 'litigated', 'circulates', 'traced', 'erection', 'ALIVE', 'soften', 'plurality', 'galliots', 'arches', 'gulping', \"';\", 'superstition', 'blankets', 'flailed', 'heraldic', 'Canaan', 'Levanter', 'spiralized', 'countersinking', 'BOAT', '800', 'Usually', 'THAT', 'fadeless', 'clearings', 'darker', 'natured', 'prying', 'rouse', 'English', 'bearings', 'Soon', 'surmised', 'notions', 'eluded', 'upper', 'MOVES', 'leaner', 'corky', 'sallow', 'propellers', 'closet', 'eightieth', 'scrutinized', 'Swerve', 'learn', 'sledge', 'Ifs', 'designates', 'mahogany', 'jewelled', '2ND', '73', 'Pines', 'painted', 'companions', 'tulips', 'watch', 'contain', 'upstairs', 'match', 'famishing', 'Antarctic', 'expending', 'muddled', 'slowly', 'sharks', 'inviting', 'episode', 'Zoroaster', 'Elijah', 'tierce', 'VOYAGES', 'roused', 'fixed', 'outlandishness', 'transformed', 'proverb', 'wisest', 'Cyclades', 'Fate', 'coarse', 'Ignorance', 'repel', 'familiar', 'Neskyeuna', 'uncertain', 'wanes', 'revived', 'charcoal', 'tips', 'handle', 'ledgers', 'gloomily', 'create', 'Indian', 'Steward', 'merged', 'halter', 'membranes', 'wasted', 'architect', 'subservient', 'reddish', 'heedlessly', 'day', 'gobbles', 'tearless', 'freight', 'low', 'sensibly', 'shuddering', 'gambol', 'zoology', 'shoots', 'grammars', 'westerly', 'Ethiopian', 'Commend', 'Scotland', 'met', 'damndest', 'countrymen', 'IN', 'chief', 'fireboard', 'guess', 'attestation', 'Count', 'splendors', 'France', 'hurtling', 'unhaunted', 'dozen', 'PASSING', 'Phidias', 'bodies', 'elks', 'tunnel', 'Roanoke', 'precautionary', 'Rat', 'speechlessly', 'upheaved', 'Pitferren', 'rides', 'goadings', 'piercer', 'reverence', 'causes', 'figures', 'orchard', 'gloomy', 'curiousness', 'uncomfortableness', 'omit', 'staid', 'vainly', 'Scoresby', 'Heart', 'resigned', 'conspire', 'en', 'woracious', 'powdered', 'lines', 'vigor', 'Danes', 'sweet', 'tower', 'emblazonings', 'whither', 'TABLET', 'tattooed', 'untainted', 'ne', 'inasmuch', 'appoint', 'TOOLS', 'salts', 'ingloriously', 'towns', 'furniture', 'Secondly', 'griefs', 'alternate', 'concern', 'unmanufactured', 'nipper', 'staying', 'job', 'legatees', 'Voyages', 'luck', 'weigh', 'truck', 'respirations', 'Mote', 'scolding', 'LAYS', 'behead', 'reckoning', 'unmeaningly', 'meridians', 'SACRED', 'lately', 'presume', 'oiled', 'blackest', 'Fleet', 'unimpressed', 'scrupulous', 'invader', 'Seizing', 'starve', 'Possibly', 'knobs', 'musky', 'voted', 'sounds', 'glens', '):', 'means', 'Yonder', 'equipped', 'Despatch', 'obscuring', 'ELIZA', 'creak', 'girlish', 'Philippine', 'invests', 'lists', 'observance', 'eddyings', 'lumbered', 'shame', 'situated', 'plasters', 'witness', 'destructive', 'symmetrical', 'ruminating', 'dinning', 'drinks', 'Vineyard', 'chronically', 'secret', 'sinking', 'superstitiousness', 'floundered', 'Koo', 'deploy', 'D', 'retained', 'humiliation', 'Issuing', 'festoons', 'amphibious', 'discovered', 'spasmodically', 'indications', 'unsettled', 'devotees', 'disguises', 'gallantly', 'gentle', 'pillaged', 'rip', 'routed', 'Scroll', 'erect', 'unwarped', 'directly', 'MEN', 'threepence', 'engendering', 'flinty', 'sedentary', 'accommodate', 'toils', 'impelling', 'elapsed', 'occasionally', 'Antiochus', 'gait', 'seen', 'smothered', 'shalt', 'bell', 'FIXED', 'steady', 'Ombay', 'tossings', 'PARADISE', 'sister', 'endeavors', 'opportunity', 'inveteracy', 'deceive', 'flanked', 'compared', 'snuffers', 'Walks', 'beak', 'andirons', 'retreating', 'constrainings', 'subjects', 'gulf', 'chap', 'unreverenced', 'orphan', 'Heidelburgh', 'tragically', 'Him', 'preparing', 'enforced', 'letter', 'barnacled', 'lifts', 'Physiognomy', 'indifferently', 'intelligent', 'wax', 'overscorning', 'He', 'redeeming', 'Saul', 'Scripture', 'discharges', 'mornings', 'yawingly', 'lingered', 'relish', 'germs', 'afforded', 'ails', 'slapped', 'mapped', '!)', 'harness', 'adorned', 'wails', 'OCEAN', 'persisted', 'despite', 'bestirring', 'razors', 'arrival', 'yeast', 'tracing', 'commerce', 'keel', 'Pontoppodan', 'core', 'move', 'gaffman', 'systematized', 'paternal', 'presumable', 'Bendigoes', 'baulks', 'holders', 'Articles', '1690', 'palpable', 'Clifford', 'Egypt', 'Sword', 'moods', 'abeam', 'wade', 'zag', 'sawed', 'settlement', 'beckoned', 'rainbow', 'OAKUM', 'echoes', 'imaginative', 'distraction', 'struggles', 'lowered', 'bewitched', 'greatness', 'physiognomical', 'laid', 'Land', 'coverlid', 'RAIMOND', 'complain', '48', 'lasts', 'neat', 'feed', 'Excellent', 'bordered', 'robbed', 'shaping', 'foreknew', 'muttering', 'hath', 'Cuvier', 'doing', 'malady', 'sundering', 'Wall', 'charmingly', 'rural', 'flew', 'methodical', 'usages', 'Thus', 'Miles', 'baptismal', 'elapse', 'evangelical', 'blinded', 'fresh', '1671', 'peopling', 'shed', 'domineer', 'memories', 'hungry', ';', 'daresn', 'tattered', 'prevailing', 'incredibly', 'raving', 'vibrations', 'earthquake', 'parallels', 'cloak', 'doggedly', 'ruthless', 'DESTROYED', 'dig', 'merit', 'dimmed', 'Entering', 'infallibly', 'Prairies', 'fifties', 'skies', 'nape', 'depart', 'grenadier', 'conclusion', 'influenced', 'attending', 'chain', 'sittin', 'holdest', 'offing', 'uncommon', 'Darien', '.]', 'smite', 'territories', 'greener', 'consciences', 'unsightly', 'succession', 'exposure', 'Tekel', 'thicker', 'soldiers', 'easier', 'produced', 'rind', 'Moreover', 'brigger', 'wounded', 'Thrusted', 'thoughtless', 'Seeing', 'practices', 'uses', 'ewer', 'proprietor', 'unsurrenderable', 'XVI', 'imputable', 'exploded', 'reputed', 'enlarges', 'prefer', 'esteemeth', 'beseeching', 'immutably', 'haggardly', 'reverberating', 'Mediterranean', 'ourselves', 'empires', 'abortion', 'loathsome', 'intact', 'concentrating', 'Pizarro', 'root', 'colour', 'exaggerate', 'royalty', 'Brit', 'finished', 'Strange', 'river', 'Tashtego', 'twas', 'throats', 'MAIN', 'winter', 'thinness', 'melted', 'Wise', 'hazy', 'Gros', 'widely', 'reach', 'defray', 'sheepfold', 'dipping', 'exhaling', 'context', 'reddenest', 'generally', 'Wet', 'Silly', 'regardings', 'sandpaper', 'cocoa', 'mowers', 'logs', 'Perhaps', 'Straits', 'Seen', 'Goethe', 'Unconsciously', 'appal', 'tallies', 'ninety', 'vehicle', 'Presently', 'propriety', 'pirates', 'toppling', 'reaped', 'hospitalities', 'opportunities', 'headers', 'Around', 'indulge', 'mistress', 'Pompey', 'sixteen', 'hide', 'plaintive', 'ungainly', 'loveliest', 'lime', 'ETYMOLOGY', 'clashing', 'Roar', 'conciliating', 'stood', 'skeletons', 'athletic', 'sleepy', 'unearthed', 'plates', 'chronicler', 'jollity', 'disordered', 'foothold', 'pennies', 'decent', 'get', 'cabled', 'betakes', 'remarking', 'smooth', 'deputation', 'commander', 'Dragon', 'bones', 'knitted', 'hereof', 'miseries', 'remaining', 'evinced', 'holiness', 'Behold', '1825', 'profounder', 'insurgents', 'illumined', 'clearing', 'abated', 'STEP', 'Like', 'brightness', 'reforming', 'heavenly', 'stifle', 'forsake', 'soothes', 'youthful', 'BANKS', 'umbrella', 'illustrate', 'hoisters', 'inclined', 'Nature', 'protection', 'clotted', 'dividing', 'board', 'grand', 'SUMMER', 'compassion', 'viewing', 'excepting', 'Mene', 'hymns', 'Zeuglodon', 'Tom', 'avocation', 'pitiless', 'marshalled', 'fanatic', 'humanity', 'cities', 'inattention', 'capsizing', 'deformities', 'vapoury', 'Bress', 'unexaggerated', 'Subtilize', 'conspicuous', 'mightily', 'rushed', 'sorrowful', 'warranted', 'nailed', 'yoking', 'awestruck', 'mackerel', 'log', 'flashing', 'breaches', 'inuendoes', 'ensigns', 'triumphantly', 'plainly', 'sunbeam', 'impious', 'string', 'gulp', 'rigger', 'Leap', 'circumspect', 'both', 'scramble', 'unmistakably', 'Remembering', 'prayers', 'urgent', 'imps', 'unique', 'aromas', 'refugees', 'fashionables', 'carefully', 'the', 'outlast', 'lined', 'beheaded', 'bedside', 'ensconced', 'demonstrations', 'disguise', 'cargoes', 'adapted', 'smallness', 'fiddle', 'KETOS', 'reposes', 'magnified', 'thighs', 'upon', 'easiest', 'interblending', 'delineations', 'gaining', 'Throwing', 'undraped', 'self', 'oppositely', 'Free', 'proves', 'plane', 'clue', 'comparative', 'Battering', 'sojourning', 'airley', 'choking', 'seethingly', 'hither', 'cheap', 'see', 'froze', 'swelling', 'glorying', 'manner', 'crowding', 'instituted', 'rifle', 'Beat', 'Literally', 'irreverence', 'getting', 'conceal', 'windward', 'changing', 'discoveries', 'allegiance', 'ST', 'curb', 'Whilst', 'rough', 'pondering', 'bullets', 'Lighting', 'verbalists', 'northwest', 'stream', 'pooh', 'chattering', 'stupor', 'Emperors', 'piece', 'momentum', 'abounded', 'notoriety', 'GOETHE', 'simultaneousness', 'Vancouver', 'moon', 'pens', 'merrily', 'tideless', 'round', 'spare', 'exported', 'bubblingly', 'calendar', 'scowled', 'liability', 'Nippers', 'fattening', 'reinforced', 'Under', 'barriers', 'Gay', 'flock', 'impalpable', 'coax', 'apportioned', 'illustration', 'ship', 'perpetually', 'Zealand', 'taking', 'unceremoniously', 'arguments', 'Union', 'meeting', 'particularly', '34', 'summoned', 'phase', 'compliment', 'foamin', 'several', 'splintered', 'cognisable', 'HENRY', 'unrestingly', 'ablutions', 'shavings', 'HANDS', 'centipede', 'suffering', 'methods', 'Pine', 'feeble', 'meaning', 'geological', 'ascending', 'dubious', 'While', 'windlass', 'slicings', 'gush', 'everyway', 'John', 'Algiers', 'skulks', 'canes', 'wrist', 'Tranquo', 'clustering', 'ripening', 'looked', 'Sharks', 'CLOSES', 'possessions', 'villainous', 'performances', 'expanded', 'CHIEF', 'Story', 'glutinous', 'Bunyan', 'mercy', 'prodigious', 'Must', 'paid', 'Castle', 'Monsoons', 'warped', 'Old', 'performing', 'caved', 'sleight', 'this', 'hushed', 'hoping', 'Ain', 'finds', 'defyingly', 'Paul', 'resolutely', 'Connecticut', 'toothache', 'than', 'pettiness', 'breastband', 'required', 'adoption', 'corrupted', 'connexion', 'ninetieth', 'PLINY', 'gable', 'revolutions', 'plugged', 'bowing', 'hove', 'eagerly', 'ponderings', 'explain', 'sovereignest', 'Tennessee', 'pleased', 'confabulations', 'trooped', 'hastily', 'HAS', 'problems', 'Strong', 'prairie', 'Vendome', 'Depend', 'refused', 'subsequent', 'leakage', '4TH', 'expected', 'contract', 'MY', 'prostration', 'digressively', 'immortality', 'Buffalo', 'allaying', 'unstranded', 'articulated', 'Bonapartes', 'Gone', 'Impiety', 'continents', 'gallons', '78', 'personally', 'epicurean', 'behavior', 'Dry', 'Bunger', 'beautiful', 'disinfecting', 'timber', 'honourableness', 'wrote', 'edifices', 'utter', 'desolateness', 'springy', 'childhood', 'owners', 'WHALING', 'grain', 'technically', 'drowsiness', 'guide', 'thrilling', 'Perth', 'abundantly', 'dreamed', 'softly', 'short', 'BLOOD', 'phrase', 'alternating', 'Owners', 'cap', 'threatened', 'purse', 'showers', 'Magnanimous', 'bud', 'fishing', 'same', 'emptied', 'limping', 'SCREWS', 'BOTTOM', 'Fin', 'merging', 'tawny', 'broiling', 'inflated', 'mindedness', 'tickle', 'Drinking', 'inflamed', 'rising', 'haunted', 'unbroken', 'escaping', 'grasses', 'swash', 'insignificant', 'chowders', 'velvets', 'dreamt', 'brushwood', 'ungraduated', 'Hedgehog', 'Jimimi', 'absence', 'unparticipated', 'anguish', 'vanquished', 'recentest', 'embalmed', 'revels', 'competent', 'harpstring', 'arbitrary', 'ramparts', 'jelly', 'winking', 'Marius', 'abundance', 'pump', 'bosky', 'unchristian', 'SOME', 'let', 'HVAL', 'remonstrating', 'knotted', 'laureate', 'variety', 'points', 'hammer', 'ADDITIONAL', 'extreme', 'wildest', 'bruise', 'equinoctial', 'flower', 'bringing', 'creepingly', 'outfit', 'marbles', 'unlimbed', 'Blocksburg', 'Monsieur', 'bites', 'meddling', 'defaced', 'funny', 'jaws', 'palpableness', 'grasp', 'connection', 'moderate', 'grocers', 'Hark', 'interruptions', 'sereneness', 'quivered', 'incrustations', 'communion', 'introduction', 'Leyden', 'fuel', 'pitied', 'useful', 'Port', 'noises', 'Steady', 'persecutor', 'harbours', 'lengthwise', 'Saxon', 'mannerly', 'feastest', 'callings', 'precision', 'suffice', 'Devil', 'Affidavit', 'stoutest', 'lovings', 'listening', 'poke', 'menacing', 'enjoyments', 'untold', 'demanded', 'disagreeable', 'honeymoon', 'dinner', 'mountain', 'fadest', 'coupled', 'experiences', 'sings', 'Bamboo', 'hover', 'meanings', 'arrows', 'bestow', 'sinew', 'discoursing', 'Provoke', 'troops', 'shakes', 'ruptured', 'ballroom', 'cultured', 'intermixingly', 'WAL', 'increasing', 'rates', 'Enveloped', 'RICHARD', 'selecting', 'imperturbable', 'stayed', 'amounted', 'gaspings', 'tithe', 'already', 'coast', 'vividness', 'BREACH', 'rescuing', 'sell', 'frothed', 'reddening', 'viceroy', 'bore', 'joyously', 'brides', 'came', 'tombstones', 'musty', 'colds', 'emetic', 'PRESIDENCY', 'fictitious', 'denominating', 'he', 'strange', 'obtained', 'coals', 'tendency', 'tacit', 'SMALL', 'dwarfed', 'indicated', 'grunted', 'tinker', 'lege', 'fewer', 'Adios', 'student', 'Jebb', 'prows', 'clergyman', 'magical', 'Mexico', 'Eight', 'World', 'altitudes', 'divisions', 'flanks', 'breadth', 'carpet', 'SURVIVORS', 'tested', 'hags', 'coal', 'crystallized', 'dissertations', 'unsullied', 'dotings', 'continually', 'different', 'weightiest', 'scorches', 'punchbowl', 'tangled', 'intuitions', 'campaign', 'breathless', 'vaguely', 'cambrics', 'himself', 'unscathed', 'wavingly', 'circulating', 'progenitors', 'summary', 'definition', 'successfully', 'Sermon', 'complexion', 'freshets', 'greenly', 'listen', 'mugs', 'levers', 'piers', 'undone', 'Till', 'ah', 'madest', 'scenes', 'medium', '---\"', 'sells', 'o', 'alewives', 'gone', 'death', 'hempen', 'AUGUST', 'educated', 'Sandwich', 'Canal', 'Again', 'concluding', 'pecks', 'preparation', 'den', 'Vision', 'decanter', 'phrenological', 'sheep', 'stormed', 'inquiringly', 'exclaiming', 'wilted', 'bevy', 'peninsula', 'Voyage', 'mortemizing', 'jerked', 'wheels', 'bronze', '119', 'stifled', 'toying', 'senses', 'complimentary', 'Highland', 'Smuggled', 'suggestions', 'shad', 'climb', 'authenticated', 'commotion', 'desist', 'overspreading', 'unprofessional', 'mile', 'infixed', '32', 'disengaged', 'necessarily', 'lipless', 'trencher', 'overwhelming', 'brain', 'lodged', 'usefulness', 'offensive', 'serenely', 'nomenclature', 'whole', 'muskiness', 'picturesque', 'willow', 'judicious', 'grinning', 'Street', 'relief', 'rebels', 'snaky', 'uncapturable', 'uniformity', 'Verdes', 'Sabbath', 'honed', 'commands', 'raked', 'Narwhale', 'Sing', 'RAZOR', 'cloudy', 'saluted', 'sheets', 'mouldy', 'Crossing', 'fundamental', 'rug', 'babe', 'assumes', 'incantation', 'public', 'loosened', 'glades', 'expectantly', 'observed', 'Hindostan', 'goggling', 'halloo', 'approaching', 'five', 'wived', 'undeviating', 'expanding', 'cock', 'ancestress', 'astral', 'transfixed', 'least', 'wife', 'indite', 'constellation', 'patentees', 'Lashed', 'any', 'perceptibility', 'onsets', 'delegated', 'impiousness', 'superincumbent', 'kneel', 'miles', 'dried', 'axe', 'repenting', 'Abjectus', 'ticklish', 'wrapper', 'OVER', 'intensities', 'Nathan', 'Water', 'idly', 'LOST', 'mock', 'cant', 'Even', 'inlaid', 'chicha', 'defiles', 'cinders', 'losing', 'Egyptian', 'libraries', 'sunny', 'metal', 'circles', 'execrations', 'costly', 'characters', 'chases', 'excluding', 'kindness', 'whereon', 'schoolmasters', 'impediments', 'ponderosity', 'celestial', 'eddying', 'terraqueous', 'wrists', 'cloistered', 'walls', 'waiting', 'sheaf', 'dividends', 'slash', 'except', 'drumsticks', 'sadness', 'clothed', 'deepest', 'usual', 'vitality', 'bounded', 'gill', 'none', 'ANNUS', 'Judge', 'thirteenth', 'sportsman', 'worship', 'fanciful', 'TALBOT', 'Nantucketers', 'Rarmai', 'unreliable', 'GROUND', 'sewing', 'blackling', 'defied', 'beget', 'jawed', 'cavaliers', 'paintings', 'density', 'peddler', 'gentlemanly', 'respecting', 'frozen', 'sprains', 'Lay', 'devils', 'comprehensive', '51', 'wailing', 'obscurity', 'dazzlingly', 'mirth', 'gallop', '1819', 'ravenous', 'bumpkins', 'Historians', 'foetal', 'forcibly', 'thousands', 'minded', 'separately', 'catastrophe', 'blasphemous', 'Whiteness', 'ebbs', 'Diminish', 'cetological', 'surveying', 'attendant', 'barren', 'Doom', 'wink', 'untrackably', 'commotions', 'sizes', 'painters', 'Reference', 's', 'filaments', 'motive', 'deserving', 'mystic', 'sole', 'cloven', 'fools', 'resemblances', 'facing', 'accommodation', 'bestowal', 'globules', 'burstingly', 'lesson', 'workers', 'Say', 'Moorish', 'delectable', '.\\'\"', 'furnishes', 'specifically', 'fangs', 'six', 'announcing', 'shocking', 'Hay', 'basin', 'processions', 'prefecture', 'rail', 'rending', 'benevolent', 'Bennett', 'deceits', 'Fossil', 'Willoughby', 'habitual', 'Until', 'mouthfuls', 'CHAPTER', 'hieroglyphic', 'anticipation', 'diabolically', 'dim', 'speculative', 'soulless', 'peddlin', 'problematical', 'WHALEBONE', 'serenest', 'prophesied', 'schooners', 'remember', 'compensated', 'geometry', 'obviously', 'Coleman', 'older', 'pilfering', 'ceases', 'very', 'lash', 'cries', 'Partly', 'drinking', 'Forehead', 'their', 'milky', 'Duodecimo', 'slanderous', 'interdicted', 'acquainted', 'elevation', 'production', 'adulterer', 'FOLIO', 'tolling', 'couldn', 'incapacitated', 'PEQUOD', 'pie', 'siding', 'NAT', 'lifetime', 'succeeding', 'Thrasher', 'bisons', 'aggrieved', 'rumor', 'blazes', 'indeed', 'Ambergriese', 'wery', 'dent', 'epicures', 'distinctions', 'Nun', 'Gemini', 'soils', 'lurid', 'bottling', 'sink', 'majority', 'manes', 'movements', 'unbegun', 'significantly', 'g', 'gentlemanlike', 'nearing', 'sabbee', 'unfulfilments', 'attaining', 'pirate', 'dawned', 'ascended', 'THRASHER', 'arrangement', 'Boy', 'aliens', 'medallion', 'citadel', 'bows', 'unoccupied', 'heaved', 'spat', 'victories', 'sustaining', 'fearfulness', 'avenues', 'circus', 'Created', 'fooling', 'emblem', 'MIRABILIS', 'eventuated', 'intermixture', 'earthly', 'lighten', 'lower', 'contrasting', 'shrewdness', 'NEWSPAPER', 'Kant', 'slackened', 'overhanging', 'curves', 'buffalo', 'jot', 'London', 'station', 'civilization', 'terrible', 'opal', 'horses', 'junction', 'arts', 'zodiac', 'magnets', 'damp', 'crafty', 'snuffling', 'creating', 'fore', 'intricacies', 'totality', 'SMITH', 'attempts', 'nonce', 'oft', 'contradiction', 'piggledy', 'looped', 'boarders', 'blanketing', 'galley', 'gashed', 'roundingly', 'strainings', 'Isabella', 'afar', 'pricking', 'unmentionable', 'relation', 'appointed', 'add', 'settee', 'Mills', '7', 'lobes', 'carcass', 'animation', 'gurglings', 'inlander', 'subject', 'collision', 'exception', 'DANCING', '49', 'rags', 'apparent', 'inculcating', 'quarters', 'Yorkshire', 'tempering', 'lunar', 'swamp', 'Of', 'creations', 'Father', 'perdition', 'apart', 'Goat', 'milestones', 'announces', 'snatch', 'Shan', 'panics', 'rex', 'insertion', 'shiver', 'SAMUEL', 'yonder', 'ploughed', 'arising', 'naturalists', 'cork', 'dentists', 'skulls', 'frost', 'fishers', 'builded', 'chorus', 'quay', 'bosoms', 'observest', 'quaintness', 'share', 'peppered', 'cannibalistically', 'Leviathanism', 'sideways', 'faintly', 'cards', 'hovered', 'rumbles', 'ignition', 'unfurnished', 'rats', 'Herein', '!*', 'idiom', 'aggregated', 'commence', 'sad', 'vibrate', 'Java', 'BOOK', 'Son', 'frightful', 'chaplain', 'thinnest', 'admonitions', 'prevents', 'supernatural', 'acuteness', 'Its', 'Meanwhile', 'Negro', 'cabalistics', 'Unfitness', 'omnitooled', 'initiated', 'stubbornest', 'Sperma', 'boast', 'establish', 'humming', 'Broadway', 'dumbly', 'employment', 'Mistress', 'statistical', 'chastisements', 'departing', 'verily', 'unresting', 'cheating', 'rib', 'deadliness', 'recommends', 'interlacing', 'n', 'nominal', 'expands', 'rag', 'artists', 'forts', 'wainscots', 'feats', 'cringed', 'injured', 'hoky', 'cloth', 'villany', 'bressed', 'disaffection', 'repellingly', 'obtain', 'oldest', '15', 'upside', 'belled', 'shipmates', 'teats', 'snuffed', 'flints', 'widest', 'forbearing', 'turbid', 'crowing', 'spurrings', 'valvular', 'scrambled', 'could', 'exhibition', 'browed', 'marshy', 'peculiarity', 'reasonable', 'seventeenth', 'officio', 'Ramadan', 'affairs', 'printing', 'carcase', 'clasped', '?--', 'thrill', 'ironical', 'impulse', 'daunted', 'coffee', 'curvicues', 'nobler', 'Bang', 'Chowder', 'whites', 'reasonest', 'transition', 'yawning', 'burglar', 'Trumpet', 'copied', 'Gliding', 'solve', 'practical', 'surrounding', 'canticle', 'remorselessly', 'cajoling', 'joyousness', 'spose', 'soothing', 'squared', 'actually', 'watergate', 'maple', 'thereupon', 'RAPE', 'assisted', \"--'\", 'dewy', 'vestige', 'accounting', 'unquiet', 'tracery', 'buoyant', 'seriously', 'invention', 'hurling', 'conscience', 'confronted', 'sentimentally', 'Kit', 'sixteenth', 'methinks', 'alcoves', 'vine', 'desperation', 'poetic', 'elder', 'solitaries', 'Does', 'detained', 'mutinous', 'conflagration', 'amours', 'strictly', 'perilous', 'sulphurous', 'mothers', 'plough', 'trailing', 'disdain', 'wild', 'simultaneous', 'bag', 'responsibilities', 'gigantic', 'inclining', 'Obed', 'Were', 'smackingly', 'computed', 'orisons', 'liken', 'robust', 'redness', 'kindle', 'represented', 'valour', 'assault', 'bit', '71', 'awake', '6', 'rulers', 'CHORUS', 'oarsman', 'convivial', 'unthinkingly', 'ween', 'on', 'Clear', 'farrago', 'sternly', 'delicate', 'lividly', 'intents', 'attested', 'Soothed', 'believer', 'pitchpoling', 'fraternity', 'index', 'oxygenated', 'Ready', 'contingencies', 'reveal', 'unpleasant', 'corsairs', 'leaking', 'benefit', 'debtor', 'denying', 'longingly', 'Bremen', 'appreciative', 'sun', 'fluke', 'Englishmen', 'CAPTORS', 'Holland', 'rejoinder', 'clove', 'masculine', 'fulfiller', 'unwinking', 'dis', 'proper', 'coach', 'blanket', 'thread', 'dangling', 'extensive', 'accustomed', '22', 'beefsteaks', 'obscure', 'feebler', 'comparison', 'ungrateful', 'barques', 'creamed', 'sed', 'verbal', 'incarnation', 'jibs', 'fettered', 'maw', 'twigging', 'gorges', 'stupid', 'hey', 'Syren', 'mythologies', 'gabled', 'vibrated', 'drugging', 'robes', 'Norway', 'monks', 'lava', 'creates', 'parmacetti', 'pyramid', 'dyspeptic', 'HERE', 'Tropic', 'Friends', 'indisputable', 'soaked', 'Beyond', 'Locke', 'stealthily', 'strains', 'inhabitable', 'Saco', 'excavating', 'thrills', 'padded', 'persuasion', 'bitts', 'Levelling', 'wonder', 'Commodore', 'transfigured', 'lapsed', 'JOB', 'lasses', 'excessive', 'dexterously', 'whirl', 'laugh', 'forewarned', '101', 'garters', 'buckler', 'reprehensible', 'billeted', 'regina', 'loop', 'advertised', 'utmost', 'stereotype', 'LAY', 'blossoms', 'dropped', 'Twice', 'Scorpion', '83', 'Spanish', 'jerking', 'ears', 'untoward', 'encountering', 'SCORESBY', 'leash', 'prevalent', 'sermonizings', 'forks', 'recovers', 'archaeologists', 'pictures', 'discovery', 'spades', 'satisfy', 'impersonated', 'narrates', 'counterpart', 'crisis', 'Guido', 'casks', 'religions', 'Queen', 'gleamed', 'nest', 'fashions', 'voids', 'Spite', 'until', 'RETAKING', 'eternity', 'bond', 'interfusing', 'spawned', 'noted', 'overhead', 'synod', 'mate', 'Antony', 'bankers', 'horizontal', 'loves', 'making', 'Krusensterns', 'passages', 'reigned', 'renewed', 'spine', 'marlingspike', 'fighting', 'route', 'controverted', 'Juan', 'wash', 'barely', 'British', 'fusee', 'speaking', 'BLOODY', 'Morquan', 'chock', 'intrantem', 'Johnny', 'mounting', 'inner', 'ungracious', 'madly', 'Denderah', 'Leviathans', 'nurse', 'Genesis', 'tallied', 'whispering', 'indomitableness', 'Sounding', 'razor', 'passing', 'retention', 'Whalebone', 'gouty', 'sealine', 'surface', 'contrivance', 'Dropping', '47', 'Lights', 'stalked', 'seizings', 'infatuation', 'thy', 'signification', '9', 'comfortableness', 'appellation', 'scheme', 'prophecy', 'predecessors', 'participating', 'exposed', 'sits', 'inevitable', 'japonicas', 'insured', 'firmer', 'overture', 'directed', 'forger', 'concentred', 'imparting', 'menial', 'shirts', 'drills', 'ITS', 'SORTS', 'reasonableness', 'cherishing', 'midmost', 'Albicore', 'tyrannical', 'comes', 'glarings', 'Starboard', 'PADS', 'upbraiding', 'tasks', 'abode', 'encompassed', 'affection', 'unmarred', 'frontispiece', 'reached', 'domineering', 'soar', 'revolved', 'special', 'Childe', 'HERBERT', 'fro', 'baffled', '89', 'clamped', 'CAPTAINS', 'dissemble', 'considered', 'Ross', 'anacondas', 'sires', 'anticipative', 'tug', 'untattooed', 'medicine', 'cannibals', 'connecting', '121', 'capstans', 'discriminating', 'tremor', 'diminish', 'Africa', 'more', 'inventing', 'Tun', 'SISTER', 'Povelson', 'dislocated', 'crave', 'subtlest', 'skilfully', 'parted', 'drawings', 'group', 'dumfoundered', 'anyways', 'disclosed', 'extinct', 'negro', 'edict', 'separating', 'transported', 'waking', 'Knights', 'sheltered', 'adventures', 'feel', 'peopled', 'action', 'accidents', 'pursue', 'cheers', 'unwonted', 'Chase', 'tattooings', 'Young', 'bandied', 'league', 'slave', 'lug', 'responsible', 'caulked', 'ginger', 'introduced', 'loses', 'JOURNAL', 'Cursed', 'modern', 'prince', 'rend', 'plaguy', 'slipt', 'allude', 'Securing', 'protrusion', 'missent', 'leper', 'crew', 'mean', 'place', 'Beale', 'cruisers', 'WILLIAM', 'Smut', 'triangular', 'aimlessly', 'site', 'compacted', 'sated', 'direful', 'spot', 'works', 'unrecorded', 'haughtily', 'wakefulness', 'quiescence', 'talked', 'foes', 'violate', 'ambergris', 'As', 'token', 'Gazette', 'Ebony', 'derives', 'Witt', 'II', 'trustworthy', 'dead', 'independent', 'kindly', 'address', 'vacillations', 'chick', 'otherwise', 'servants', 'shallop', 'pitiable', 'holidays', 'abound', 'AHAB', 'probationary', 'lashes', 'coiling', 'Matter', 'musical', 'leach', 'hymn', 'formed', 'hip', 'betaken', 'discharged', 'Duodecimoes', 'false', 'stash', 'favouring', 'Fast', 'jogged', 'ferns', 'engulphed', 'inkstand', 'loneliness', 'issues', 'meet', 'pier', 'POKE', 'road', 'fleeces', 'plant', 'alluringly', 'process', 'dollar', 'Could', 'jar', 'infidel', 'machines', 'emperor', 'fasten', 'headsmen', 'remind', 'absolutely', 'cowhide', 'DON', 'dismemberment', 'foie', 'armor', 'depressed', 'unctuous', 'publicly', 'voiced', 'glistened', 'foal', 'Frighted', 'vacating', 'intercourse', 'proceedings', 'Vineyarder', 'strongest', 'Hebrew', 'clinched', 'Heaven', 'member', '5', 'avail', 'deliverer', 'Struck', 'artistic', 'gnawing', 'corroded', 'demonism', 'freezing', 'medicament', 'regular', 'convalescence', 'complicated', 'spotless', 'red', 'expatiate', 'docks', 'Congregational', 'cheaply', 'LORD', 'sulky', 'upbraidings', 'antelope', 'enveloping', 'benignity', 'fog', 'unhinted', 'tarts', 'thistles', 'requiring', 'response', 'VIDE', 'slept', 'Tormentoto', 'Jackson', 'threading', 'deliver', 'Nat', 'Hydrus', 'migratory', 'reign', 'pretending', '1850', 'FALCONER', '129', 'lipped', 'omniscient', 'irregularity', 'convenient', 'Crish', 'tackle', 'presumption', 'emerge', 'incites', 'half', 'horizontally', 'breadfruit', 'beached', 'apron', '!\"--', 'eyelashes', 'Caw', 'napkin', 'glade', 'Ezekiel', 'Peter', 'oozy', 'evolutions', 'leagues', 'cavities', 'reciprocal', 'Clap', 'abounding', 'opposed', 'stirrings', 'tea', 'intelligence', 'scalding', 'wound', 'bushy', 'poisonous', 'Pupella', 'nakedness', 'reminding', 'paper', 'holies', 'vintages', 'Sons', 'trio', 'hooroosh', 'misanthrope', 'opine', 'ceremony', 'suggest', 'horribles', 'courtesy', 'whimsiness', 'answered', 'analysis', 'sleep', 'Melville', 'related', 'terraces', 'Dutch', 'nosegay', 'sweetener', 'crouch', 'Naught', 'shaped', 'Astern', 'April', 'YE', 'compare', 'overwrapped', 'blacks', 'stiffen', 'cased', 'fibres', 'our', 'rays', 'unforseen', 'Slip', 'twin', 'FOLLOWING', 'hereafter', 'trap', 'honing', 'Merry', 'ideality', 'faintest', 'mood', 'dust', 'Whereas', 'languor', 'thumb', 'pea', 'lick', 'Clootz', 'obstreperously', 'dismally', 'CABINET', 'scrutinizing', 'Syracuse', 'account', 'hornpipe', 'unfolding', 'reapers', 'codfish', 'seethed', 'tormenting', 'shivering', 'whereto', 'around', 'leapest', 'scatter', 'retreat', 'sleeplessness', 'lustily', 'bunting', 'Pantheistic', 'volcano', 'lodge', 'doltish', 'groaned', 'lifted', 'VEINS', 'visitants', 'tambourine', 'slowness', 'comedies', 'Deuteronomy', 'larceny', 'picturesqueness', 'Specksioneer', 'platformed', 'threw', 'appellative', 'sullen', 'imbecility', 'withdrawal', 'interregnum', 'conjoined', 'tricking', 'dragons', 'View', 'miss', 'hopes', 'reptile', 'clogged', 'Nineveh', 'counteracting', 'delicious', 'sanely', 'shields', 'de', 'plaudits', 'fancying', '103', 'uncanonical', 'Thereby', 'pony', 'thrilled', 'NOUN', 'Drop', 'yell', 'bugbear', 'foot', 'beast', 'literature', 'Clay', 'BURST', 'flat', 'drifts', 'inclement', 'L1', 'scores', 'impenitent', 'scentless', 'effected', 'roll', 'deal', 'archipelagoes', 'squall', 'Rome', 'gout', 'concrete', 'Haarlem', 'hoop', 'Roses', 'slily', 'mealy', 'inions', 'twain', 'fetching', 'obedience', 'acted', 'matter', 'toothpick', 'downcast', 'coopers', 'collated', 'bomb', 'omnivorous', 'state', 'measure', 'darkey', 'fanged', 'fix', 'unprejudiced', 'resides', 'Hydriote', 'residing', '1779', 'circumstantial', 'tendinous', 'bedeadened', 'sterns', 'gold', 'depths', 'solemn', 'party', 'menace', 'unmanifested', 'eave', 'emphasis', 'interrupt', 'oats', 'BELOW', 'Cheever', 'provinces', 'confused', '60', 'him', 'tooth', 'Hull', 'Is', 'leopard', 'rockets', 'enshrined', 'soothingly', 'greeted', 'preceding', 'Euclid', 'Malay', 'mistaken', 'pot', 'articles', 'reefed', 'ravished', 'drawled', 'Evangelist', 'integument', 'MOUTH', 'provide', 'vices', 'adhering', ');--', 'capsize', 'mite', 'scales', 'unrustlingly', 'test', 'suspend', 'maze', 'Ontario', 'gases', 'lighting', 'friends', 'chrysalis', 'docked', 'whetstones', 'Planted', 'collecting', 'fabled', 'warbled', 'Maachah', 'terse', 'fatalistic', 'night', 'impetuousness', 'agony', 'grotesque', 'ankles', 'DEBELL', 'strokes', 'circuit', 'SHOALS', 'incorrigible', 'noon', 'Slowly', 'retarding', 'defile', 'deposited', 'segment', 'plunder', 'anchored', 'cunning', 'questionable', 'LENGTHWISE', 'interferes', 'invariability', 'swayings', 'vexatious', 'tendons', 'abruptly', 'islanders', 'substitute', 'Bull', 'dogs', 'send', 'ERROMANGOAN', 'thou', 'decreed', 'scaled', 'pagoda', 'apparatus', 'snorting', 'scuppers', 'WITH', 'Advancement', 'theology', 'Each', 'feverish', 'cruisings', 'majestical', 'two', 'competency', 'incalculable', 'apoplectic', 'chisel', 'renders', 'Paracelsan', 'manufacturing', 'tread', 'Pacific', 'victorious', 'harlot', 'knowingly', 'wonderfully', 'merchantmen', 'movable', 'conjure', 'strikes', 'landed', 'renown', 'boasted', 'sheer', 'floundering', 'enticings', 'Ishmael', 'pickles', 'Babel', 'enough', 'chambers', 'anoint', 'imputation', 'diademed', 'young', 'ago', 'rather', 'struck', 'LUCIAN', 'clumsily', 'towards', 'strings', 'humane', 'rapture', 'attends', 'Mountains', 'imagine', 'dexterity', 'ME', 'tongueless', 'reckoned', 'Ex', 'railways', 'counties', 'beheld', 'LINE', 'embarrassed', 'padlocks', 'crying', 'pronouncing', 'unheeded', 'brigness', 'dignity', 'impersonal', 'layer', 'overswarm', 'turmoil', 'hazards', 'practised', 'divine', 'Summer', 'monkey', 'veer', 'Though', 'platters', 'Thou', 'storms', 'unvarying', 'bounties', 'Consider', 'Milky', 'indefinite', 'message', 'harvest', 'gown', 'plentiful', 'Author', 'bury', 'authoritative', 'distances', 'corroborative', 'coined', '108', 'Over', 'risings', 'ROUND', 'projected', 'tassels', 'crest', 'whencesoe', 'magian', 'Whaler', 'hand', 'unaccompanied', 'Picture', 'jostle', 'fathomless', 'vindicated', 'DANIEL', 'securities', 'mend', 'creamy', 'plainest', 'punches', 'troughs', '150', 'Marchant', 'delights', 'contended', 'Thorkill', 'cloves', 'spin', 'aboriginal', 'gorgeous', 'rejoined', 'inflexibility', 'peeling', 'rings', 'spurned', 'clutches', 'sunwards', 'frantic', 'plantation', 'bristling', 'MONTAIGNE', 'independently', 'dragon', 'thanks', 'lye', 'Forced', 'greater', 'hummed', 'passenger', 'suggestiveness', 'tend', 'hartshorn', 'navigation', 'Kentuckian', 'branches', 'favourites', 'overwhelmed', 'motionlessly', 'voyagers', 'Pegu', 'masted', 'scenery', 'recognised', 'Schools', 'farmer', 'vertebrae', 'haphazard', 'Scriptural', 'unmindful', 'noisy', 'affectionately', 'heavens', 'litter', 'supported', 'cows', 'reigneth', 'tobacco', 'windbound', 'befriending', 'Platonist', 'Prometheus', 'railing', 'pitchers', 'spaces', 'BOOKS', 'memoirs', 'squatting', 'abased', 'recovered', 'shears', 'wedding', 'prophesy', '\";', 'irresistibleness', 'patrician', 'Broke', 'PURPOSE', 'investment', 'INN', 'cherry', 'snake', 'seaward', 'Stars', 'vicar', 'moccasin', 'semi', 'ceremonial', 'winds', 'gem', 'Quick', 'Ere', 'sailed', 'Romans', 'REQUIN', 'retribution', 'Striking', 'convert', 'quaff', 'Luff', 'Poor', 'inhuman', 'Transported', 'entrapped', 'consternation', 'peer', 'worried', 'uniqueness', 'pilgrim', 'REQUIEM', 'turnpike', 'cabin', 'hitching', 'naked', 'ungarnished', 'delay', 'blind', 'Sphynx', ',\"', 'information', 'throttled', 'endless', 'capstan', 'weariness', 'declared', 'brimstone', 'greybeards', 'Ripplingly', 'Start', 'vibration', 'Babylonian', 'Continents', 'stirs', 'kindred', 'gregarious', 'communities', 'aggregation', 'loosed', 'horizon', 'streamers', 'plazza', 'effects', 'diamond', 'halters', 'whaleboats', 'Sow', '62', 'music', 'pest', 'chiseled', 'strained', 'mell', 'interpreted', 'loss', 'come', 'strait', 'Cholo', 'accessory', 'docile', 'Shakespeare', 'tolerable', 'Borneo', 'crucifix', 'ditto', 'run', 'fry', 'steering', 'Whose', 'alien', 'relieve', 'professions', 'reviewed', 'Hanoverian', 'pugilists', 'divinity', 'lovers', 'Forge', 'improvement', 'fortifications', 'fairest', 'cruiser', 'invested', 'innocence', 'spanned', 'uttered', 'ECKERMANN', 'Mohawk', 'Macey', 'HE', 'proverbially', 'inkling', 'Pots', 'fury', 'treasuries', 'stride', 'unconcluded', 'stained', 'shouldered', 'claws', 'splits', 'stalk', 'bathed', 'shoulders', 'Dost', 'knight', 'LIGHTNING', 'bladder', 'wept', 'fully', 'questionably', 'scraping', 'occasioned', 'weaker', 'adjust', 'stubbing', 'pushing', 'Glory', 'driver', 'evanescent', 'used', 'Iron', 'put', 'unaided', 'puddingers', 'coiled', 'expressions', 'girds', 'Zogranda', 'latent', 'paralysed', 'rapidity', 'toasted', 'redoubted', 'probed', 'fourteen', 'preposterous', 'wag', 'slaughtered', 'tropical', 'wherever', 'resort', 'trowsers', 'Oriental', 'devoted', 'coasting', 'spoke', 'Cant', 'policemen', 'hospitals', '104', 'NUEE', 'word', 'Logan', 'price', 'meantime', 'nooses', 'drugged', 'goes', 'waited', 'dreadfully', 'vacantly', 'locks', 'uninvitedly', 'realize', 'Wolf', 'ETCHINGS', 'engraved', 'Canadian', 'feminam', 'interchange', 'senior', 'booting', 'transferring', 'Lucky', 'havoc', 'sinker', 'raced', 'intermixed', 'begets', 'vintage', 'quarrelsome', 'Porpoises', 'prudential', 'brimming', 'provocation', 'discipline', 'Silent', 'lashed', 'frequendy', 'Nelson', 'lasso', 'invent', 'sung', 'arrogance', 'wings', 'prick', 'wasn', 'ascribable', 'mathematics', 'prostrate', 'pregnant', 'highest', 'softener', 'hair', 'grizzly', 'consumed', 'imaginary', 'cowardly', 'layn', 'Lane', 'tidiest', 'heartlessness', 'Gayhead', 'buckle', 'hearthstone', 'afresh', 'elongated', '1778', 'statues', 'unchangeable', 'proverbial', 'nursing', 'Isolatoes', 'Coppered', 'hooped', 'Arethusa', 'Savesoul', 'stoven', '66', 'Measured', 'flexible', 'extremity', 'seat', 'singular', 'Southern', 'Here', 'Rachel', 'cadence', 'gasps', 'harems', 'Cannibals', 'property', 'similes', 'wasting', 'Sphinx', 'congregate', 'roughly', 'Yes', 'consider', 'indestructible', 'uncouthness', 'descry', 'approval', 'knob', 'imperfect', 'thrusts', 'icefield', 'astonishing', 'exordium', 'hearses', 'enfoldings', 'throttle', 'disgust', 'Mad', 'assigned', 'prominence', 'glories', 'woodland', 'care', 'ermine', 'FOLLOW', 'contemptibly', 'produces', 'cool', 'labor', 'impudence', 'mistake', 'scent', 'burst', 'jolly', 'heroes', 'gallopingly', 'banterings', 'puff', 'sally', 'awoke', 'correspondence', 'uttering', 'slights', 'succourless', 'moderately', 'who', 'enviable', 'ass', 'hermaphroditical', 'jewel', 'observant', 'shingled', 'Surely', 'attitude', 'trample', 'imperfectly', 'Concerning', 'leviathans', 'penning', 'whitened', 'dyspepsia', 'Amsterdam', 'colours', 'slack', '84', 'SITTING', 'die', 'warmer', 'Cellini', 'drink', 'Decanter', 'immemorially', 'room', 'combed', 'done', 'capriciously', 'aliment', 'uncivilized', 'handy', 'man', 'Fear', 'bits', 'cove', 'held', 'Octavo', 'slap', 'aloud', 'jumped', 'thickly', 'sculptured', 'Upharsin', 'boiler', 'slabs', 'Ahab', 'awed', 'unfriendly', 'Mansoul', 'abaft', 'sagacious', 'eludes', 'gore', 'dribbles', 'industrious', 'unclad', 'elegant', 'Lacepede', 'hav', 'clotting', 'tomahawk', 'Winding', 'emblematical', 'approving', 'festooned', 'rudimental', 'expanse', 'president', 'hearted', 'grows', 'Shakers', 'flakes', 'antichronical', 'Lowering', 'incompetent', 'travelling', 'amuck', 'nestle', 'comb', 'astir', 'Tierce', 'tenderness', 'occasional', 'girdle', 'tropic', 'pistoles', 'deer', 'rhubarb', 'thickets', 'dexterities', 'investigated', 'incontestable', 'perishable', 'underling', 'Begone', 'soonest', 'spoiled', 'creativeness', 'display', 'playing', 'folly', 'scorn', 'observation', 'fiercely', 'peeped', 'mazy', 'laughter', 'emprise', 'Cretan', 'charging', 'rounding', 'recur', 'rammed', 'Either', 'sinecures', 'acute', 'ladder', 'twilight', 'DEATH', 'remarkably', 'Rensselaers', 'loggerheads', 'certainties', 'beneath', 'Pass', 'shank', 'nostril', 'without', 'Madman', 'limbered', 'tiger', 'Espying', 'scornfully', 'temperature', 'friendship', 'appals', '106', 'crowded', 'childish', 'hinting', 'flies', 'Alas', 'unmistakable', 'orange', 'Little', 'Vengeance', 'surges', 'roared', 'essay', 'fondly', 'whalemen', 'wielded', 'Aye', 'Scorning', 'nowadays', 'grazed', 'democrat', 'obedient', 'Jove', 'angles', 'inexpressive', 'serpent', 'Handling', 'midway', 'cautious', 'smack', 'begotten', 'Manhatto', 'triangles', 'tints', 'sticking', 'oath', 'bedroom', 'loiters', 'panther', 'dress', 'grated', 'enraged', 'Mecca', 'Convulsively', 'Rose', 'fanatics', 'obliquely', 'lent', 'hall', 'upholding', 'disobey', 'salamed', 'scoria', 'Untried', 'veins', 'Humane', 'affords', 'casket', 'tub', 'modifies', 'reads', 'assert', 'MEETING', 'Whatever', 'grandest', 'Formosa', 'devout', 'Imprimis', 'publisher', 'iciness', 'Turkish', 'restless', 'flesh', 'lantern', 'ungentlemanly', 'fowls', 'entered', 'bumped', 'averred', 'Surgeon', 'Look', 'shuttlecock', 'deed', 'mathematically', 'level', 'in', 'Improving', 'arisen', 'venture', 'Heading', 'idea', 'She', 'unfathomably', 'Squire', 'dispirited', 'journey', 'Sunset', 'sitteth', 'crystals', 'meridian', 'laws', 'stripping', 'thwart', 'busily', 'heartedness', 'transit', 'unexhilarated', 'canopy', 'grub', 'cohered', 'disembowelled', 'bear', 'admitting', 'free', 'sweat', 'rapid', 'excuse', 'pelvis', 'boom', 'Australia', 'complexioned', 'shield', 'money', 'endures', '144', 'unctuousness', 'fleeting', 'protracted', 'bait', 'laughable', 'suicides', 'History', 'serried', 'oughts', 'flitted', 'centrepiece', 'referred', 'homage', '109', 'recognition', 'Island', 'Seas', 'banner', 'THOMAS', 'Baltimore', 'mails', 'Charley', 'systematically', 'infinity', 'swarthy', 'unsophisticated', '23', 'barbaric', 'briefly', 'puffed', 'just', 'wool', 'Nor', 'Reckoning', 'genealogy', 'tufts', 'undertaker', 'perched', 'withdrawals', 'lanterns', 'solicitously', 'MARBLE', 'thoughtfully', 'Michigan', 'sprinkling', 'fluttering', 'unintelligence', 'High', 'tidy', 'actest', 'races', 'comrades', 'yellow', 'Humph', 'crested', 'Morgana', 'freshness', 'ulcerous', 'whereat', 'hind', 'casualty', 'daughter', 'Gaining', 'exerted', 'vines', 'din', 'weed', 'combined', 'cobs', 'anyone', 'earned', 'magnetically', 'Iceland', 'loom', 'altering', 'ladies', 'papers', 'hamstring', 'haunts', 'peels', 'Halloo', 'ye', 'loads', 'clews', 'prevailed', 'impossible', 'central', 'punctiliously', 'blocks', 'solicitudes', 'mountainous', 'single', 'viciousness', 'consist', 'riggers', 'winces', 'chancery', 'wavings', 'gestation', 'inanimate', 'chapels', 'punctually', 'Perish', 'Tanaquil', 'cuffs', 'Earls', 'bird', 'Pactolus', 'stress', 'according', 'embraced', 'Saratoga', 'lodges', 'courses', 'Nantucket', 'worming', 'hares', 'crawl', 'OUT', 'flingers', 'replaced', 'hoofs', 'ahead', 'That', 'murmuring', 'language', 'cycloid', 'Mazeppa', 'cutlery', 'gains', 'questioned', 'bleak', 'admitted', 'sentiment', 'pause', 'district', 'Stowing', 'decently', 'Hook', 'offices', 'ounce', 'rocky', 'shearing', 'oust', 'mild', 'frocks', 'Atlantic', 'portentousness', 'scrape', 'effort', 'LANTERNS', 'Pedro', 'beyond', 'scar', 'everlasting', 'anchor', '_____________', 'casual', 'sport', 'drunk', 'reasons', 'abominated', 'unsay', 'assailants', 'blow', 'circulation', 'rosy', 'habits', 'MEMORIAL', 'mysteriously', 'developing', 'allay', 'superstitious', 'What', 'result', 'frenzied', 'twigged', 'spike', 'awkwardness', 'Herod', 'Dolly', 'radiant', 'cynical', 'sideway', 'metempsychosis', 'tinkering', 'throes', 'guns', 'crotch', 'counterfeit', 'gentlemen', 'appointments', 'eternally', 'sinning', 'dimly', 'bluff', 'Irish', 'pudding', 'quarrel', 'maggots', 'catacombs', 'coats', 'immediate', 'laceration', 'splashed', 'matted', 'stays', 'diabolism', 'among', 'triumphs', 'anointing', 'fared', 'pertains', 'established', 'warningly', 'nature', 'conceptions', 'load', 'tarnishing', 'Fiercely', 'flurry', 'swallow', 'strict', 'creeps', 'torsoes', 'fleet', 'depressions', 'Admiral', 'counter', 'sane', 'extermination', 'relate', 'gestures', 'Hosmannus', 'wreath', 'Faintly', 'recklessness', 'dollars', 'unexhausted', 'whether', 'continuous', 'horn', 'quoted', 'baker', 'Mephistophelean', 'Methinks', 'wight', 'owner', 'Innocents', 'yawned', 'unsuspected', 'Isthmus', 'condor', 'dearest', 'visiting', 'GOES', 'leaded', 'trump', 'pleated', 'ACCOUNT', 'push', 'fields', 'smites', 'heard', 'Praetorians', 'reluctantly', 'paine', 'tender', 'weight', 'goods', 'been', 'CHACE', 'whew', 'conquering', 'Justinian', 'cruising', 'guineas', 'Stealing', 'flake', 'fearless', '.\"*', 'rocking', 'brook', 'brown', 'sighted', 'rampart', 'bounce', 'iceberg', 'h', 'harpoons', 'forenoon', 'tons', 'Alexander', 'intercept', 'Art', 'astonished', 'westward', 'recede', 'Freeze', 'Finding', 'tucked', 'concocts', 'bravely', 'apprehensions', 'awful', 'averages', 'investigator', 'buoys', 'SICILIAN', 'driven', 'ruggedest', 'Snarles', 'dropping', 'devices', 'afore', 'flexibility', 'magnification', 'dart', 'noiseless', 'bridges', 'suit', 'negatived', 'missionary', 'Har', 'matters', 'select', 'Hail', 'retired', 'scalloped', 'slamming', 'treat', 'Foolish', 'retain', 'proving', 'Indies', 'ghost', 'unload', 'tainted', 'cope', 'signers', 'pedestals', 'hoarded', 'dismember', 'Sea', 'embattling', 'limitless', 'fork', 'Measurement', 'ceiling', 'Bouton', 'sporting', 'amplify', 'appetites', 'needle', 'martial', 'boobies', 'mixed', 'crony', 'WALTER', 'unalterable', 'disaster', 'Fine', 'comprehend', 'bethink', 'faulty', 'entering', 'deliberating', 'lacings', 'permanent', 'crusts', 'Cervantes', 'fanning', 'Societies', 'flows', 'events', 'survived', 'clappings', 'shocked', 'Nut', ':\"-', 'pork', 'afternoons', 'despairing', 'Bite', 'stabbing', 'weathering', 'peaceful', 'Into', 'CATCHES', 'Brute', 'opens', 'solid', 'Sway', 'bars', 'outright', 'Feel', 'cobblestones', 'masks', 'overflowing', 'Sulphur', 'inference', 'lock', 'undertake', 'riots', 'remote', 'desk', 'maid', 'robe', 'Supreme', 'Ages', 'Polynesians', 'balancing', 'upheaving', 'outdone', 'vocabulary', 'cherries', 'times', 'Hindoo', 'National', 'kissed', 'unsplinterable', 'remorseless', 'assuring', 'confiding', 'accurately', 'threat', 'sympathetical', 'cart', 'launching', 'forbearance', 'clefts', 'uncharted', 'NARRATIVE', 'evince', 'seem', 'burning', 'remembering', 'appalling', 'hish', 'transcend', 'commended', 'STICK', 'abandonedly', 'jets', 'thirds', 'prayed', 'august', 'snows', 'impertinent', 'refuge', 'ignore', 'MINISTER', 'minus', 'trunks', 'Dish', 'drives', 'rain', 'delineate', 'bowstring', 'adopted', 'invite', 'designated', 'waning', 'purge', 'Commonwealth', 'quoin', 'STEPS', 'influences', 'gangs', 'fumbling', 'clouded', 'play', 'suggested', 'Juba', 'Abraham', 'joined', 'thunderous', 'traps', 'underwriter', 'digging', 'wearisome', 'quarried', 'dough', 'probability', 'possessing', 'will', 'tumbling', 'drab', 'steeds', 'imprecate', 'slender', 'crick', 'progress', 'posterity', 'Marmora', 'slanting', 'generous', 'socket', 'employments', 'forces', 'differences', 'grief', 'seated', 'perfected', '.\"--', 'ROLL', 'Shetland', 'gulfs', 'crucifixion', 'wary', 'landlady', 'profile', 'storage', 'colouring', 'misdoubt', 'BUSILY', 'stove', 'best', 'mathematical', 'smallest', 'foregoing', 'shine', 'ballasted', 'powder', 'residuary', 'honesty', 'henceforth', 'Carpet', 'indirectly', 'ripple', 'untagging', 'shone', 'counters', 'baptised', 'usurpation', 'unusually', 'Scenes', 'sure', 'First', 'bridegrooms', 'XXXIX', 'walk', 'obscurely', 'expressly', 'sacrificial', 'become', 'Fearing', 'beseech', 'made', 'THEM', 'eats', 'suitable', 'Brisson', 'idiot', 'ravens', 'raved', 'colonies', 'youngest', 'characterized', 'cruet', 'Assuredly', 'deceased', 'separable', 'BIT', 'provincialisms', 'demi', 'wintry', 'lucifers', 'involve', 'murderer', 'careening', 'weeds', 'godly', 'accountable', 'confident', 'cindered', 'causing', 'find', 'apotheosis', 'mealtimes', 'steaks', 'customary', 'bind', 'EXCHANGE', 'ferry', 'squalls', 'antiquity', 'politeness', \"?'\", 'toughest', 'judgments', 'Bally', 'SIZED', 'reconciled', 'convulsively', 'alter', 'regale', 'float', 'mob', 'reverend', 'confounded', 'sadly', 'club', 'confinement', 'quicksilver', 'sailing', 'almanac', 'narration', 'blandishments', 'Head', 'interweave', 'cavern', 'resent', 'lip', 'barrow', 'Cash', 'swindle', 'luffs', 'escaped', 'respite', 'SPOUTING', 'abroad', 'tissued', 'covenant', 'call', 'silks', 'anew', 'wondered', 'needlessly', 'nothingness', 'protecting', 'gallows', 'Lucifer', 'needles', 'Doubtless', 'drug', 'prematurely', 'acerbities', 'performance', 'springs', 'fray', 'Learning', 'Wafer', 'TO', 'communications', 'miscellaneously', 'immersed', 'gritted', 'shrill', 'satisfactory', 'STARBUCK', 'veal', 'chaste', 'Plain', 'pads', 'lend', 'multitudinously', 'use', 'boil', 'valise', 'harpooned', 'surprise', 'till', 'school', 'Adverse', 'trades', 'unhesitatingly', 'tost', 'absent', 'canonic', 'emotions', 'dimensioned', '1846', 'emigrants', 'entreated', 'prior', 'allotted', 'ANOTHER', 'disconnected', 'hydrants', 'succeeded', 'plug', 'tho', 'pert', 'vacuum', 'reverie', 'heightens', 'Touching', 'miserly', 'ascribed', 'outspread', 'dance', 'burgher', 'fixedly', 'dagger', 'punctual', 'perusal', 'maledictions', 'spectacle', 'REMAINING', 'vases', 'provoked', 'berth', 'cloaked', 'truthfully', 'retains', 'intolerableness', 'vicinities', 'entrails', 'fruit', 'Spaniard', 'resuming', 'prate', 'smoke', 'Titanism', 'harp', 'Air', 'ancestry', 'bankrupt', 'donned', 'varying', 'partial', 'knew', 'similarly', 'thinkest', 'contributed', 'curtains', 'mateship', 'Companies', 'methought', 'Letter', 'embarking', 'ribbons', 'closer', 'kidnap', 'dispersed', 'DOWN', 'yes', 'banished', 'direst', 'Elsewhere', 'CHRONICLER', 'swart', '99', 'MEANTIME', 'HAWTHORNE', 'samphire', 'verity', 'primitive', 'does', 'knees', 'coating', 'masterless', 'spy', 'fit', 'plum', 'audacious', 'fast', 'sense', \"'--\", 'lad', 'MAINMAST', 'Tis', 'untravelled', 'heterogeneous', 'healthily', 'tension', 'convenience', 'Britain', 'whets', 'Manillas', 'chasm', 'Darkness', 'promptitude', 'Inward', 'requires', 'significance', 'mature', 'region', 'Fejee', 'curling', 'swooped', 'incomputable', 'Shipped', 'Icy', 'legatee', 'profits', 'says', 'inordinate', 'preparations', 'skittishly', 'aged', 'conduits', 'tracts', 'hear', 'pressed', 'floats', 'employs', 'occupant', 'Despairing', 'war', 'rigadig', 'impatience', 'independence', 'sagaciously', 'afire', 'incurable', 'flames', '131', 'brig', 'pour', 'give', 'diaboli', 'feet', 'beliefs', 'walking', 'fan', 'strandings', 'Utter', 'Natural', 'barbacued', 'steadily', 'invasion', 'mutinying', 'CAPTAIN', 'bound', 'indignity', 'recklessly', 'Bud', 'perhaps', 'torso', 'windows', 'fastidious', 'plumage', 'delightfully', 'Sunda', 'HARPOONEERS', 'accomplishing', 'tribulation', 'Am', 'proportions', 'spigot', 'volunteered', 'overlap', 'Interweaving', 'spasmodic', 'emboldened', 'snarls', 'gross', 'gaffs', 'belt', 'Instantly', 'cocked', 'thereabouts', 'semicircular', 'nay', 'unfeatured', 'HVALT', '36', 'meddle', 'Catholic', 'tools', 'bullied', 'Littleton', 'baked', 'altered', 'Burst', 'requisite', 'Wild', 'mystical', 'away', 'conquest', 'shinbones', 'seals', 'veteran', 'greatly', 'ingenious', 'premature', 'recoil', 'unappeasable', 'Italian', 'Essex', 'stores', 'Swain', 'Canaris', 'served', 'sisterly', 'condescending', 'Hind', 'owest', 'resumed', 'Berlin', 'miniature', 'heartless', 'implicated', 'despair', 'handedly', 'Zodiac', 'agents', 'credit', 'lengthened', 'chip', 'Sovereign', 'HELM', 'flatly', 'Erroneous', 'rebel', 'Keel', 'broiled', 'Do', 'bedraggled', 'Anything', 'murky', 'resembles', 'hat', 'blasphemy', 'define', 'S', 'throbbings', 'cleanliest', 'Esau', 'jurisdiction', 'Cain', 'intentions', '500', 'gap', 'Too', 'notwithstanding', 'dietetically', 'writers', 'warring', 'supplemental', 'tops', 'count', 'wittiness', 'strain', 'summer', \"'-\", 'symbol', 'BURKE', 'grappled', 'hoof', 'grove', 'excellence', 'condense', 'development', 'sways', 'caused', 'gradual', 'spokes', 'pod', 'fare', 'disposition', 'strutting', 'Attached', 'section', 'sang', 'boldness', 'enjoying', 'villa', 'dusty', 'lace', 'curbstone', 'COMMODORE', 'reminded', 'foremast', 'seeking', 'reeling', 'deeply', 'butt', 'Subject', 'serenity', 'extracted', 'shindy', 'Brother', 'humorousness', 'pliable', 'albatrosses', 'exist', 'lifting', 'Caesarian', 'casked', 'coming', 'bung', 'Sir', 'sauntering', 'burned', 'Louisiana', 'each', 'burn', 'foremastmen', 'tremulous', 'Boys', 'Claus', '4', 'chapter', 'convinced', 'riotously', 'Pirates', 'Afterwards', 'Merely', 'swim', 'wand', 'woven', 'rehearsing', 'poser', 'Britons', 'critters', 'scolloped', 'unintelligent', 'floes', 'stolidly', 'phrenologist', 'gagged', 'Miguel', 'elbowed', 'gladness', 'Actium', 'outline', 'marines', 'nicely', 'leaders', 'fright', 'ork', 'puzzle', 'howled', 'precipitancy', 'average', 'PORPOISE', 'til', 'congeniality', 'residue', 'dealers', 'marsh', 'Late', 'tailed', 'prisoners', 'clung', 'incomplete', 'drowsy', 'slavery', 'tugging', 'embalming', 'Thine', 'redeemed', 'bolstering', 'catch', 'treadle', 'wheeling', 'ignoble', 'Capricornus', 'seas', 'duties', 'tablet', 'glacier', 'ground', 'glassy', 'Merrily', 'brags', '57', 'clammy', 'angel', 'launched', 'civilly', 'adequately', 'body', 'prominent', 'although', 'resplendent', 'Sal', 'strung', 'assails', 'pomps', 'budged', 'Mammoth', 'prepares', 'markest', 'including', 'brothers', 'Ego', 'Panting', 'Twas', 'Patagonian', 'CHEERLY', 'twenty', 'Therein', 'Plains', 'fly', 'Evangelists', 'grasped', 'WHICH', 'nevertheless', 'hunting', 'armies', 'twig', 'calls', 'WIND', 'splashing', 'unsourced', 'gaping', 'buffaloes', 'bashful', 'infernal', 'exclaimed', 'hilted', 'pardon', 'Cannibal', 'sit', 'coil', 'FIRMLY', 'comprehensiveness', 'ordinarily', 'Other', 'odorless', 'professor', 'plumb', 'shift', 'sign', 'quick', 'simplest', 'zeal', 'inveterate', 'Rib', 'quits', 'tossed', 'chancing', 'steered', 'theoretic', 'Affrighted', 'STRAPS', 'walks', 'prevented', 'apprehensiveness', 'collapsed', 'Malays', 'jokes', 'fortress', 'intimacy', 'Unmindful', 'outlaws', 'forbade', 'removing', 'WHALEMAN', 'solitary', 'citron', 'mop', 'chaos', 'indefinitely', 'edging', 'transparent', 'burnished', 'Tell', 'cabinets', 'precisely', 'broad', 'towers', 'ice', 'anon', 'cluster', \"'\", 'Bowditch', 'whirlpool', 'Seychelle', 'contrastingly', 'marking', 'hieroglyphics', 'Kingdom', 'termination', 'differs', 'hurler', 'fetor', 'having', 'fungi', 'fairy', 'ballast', 'wolfish', 'sinecure', 'poorest', 'trepidation', 'casualties', 'lining', 'sprat', 'submission', 'propensity', 'rejoice', 'bruited', 'analyse', 'incongruity', 'distributed', 'babies', 'sleepe', 'male', 'shepherd', 'pendulum', 'remunerative', 'Hall', 'Alone', 'transient', 'perfumery', 'braces', 'topple', 'Woods', 'oceans', 'Thermes', 'scrolled', 'reefs', 'Dericks', 'twelve', 'shades', 'kitten', 'cargo', 'reel', 'now', 'frank', 'moaning', 'shallow', 'lectures', 'concerned', 'evening', 'received', 'unbodied', 'clinking', 'familyless', 'import', 'timid', 'yet', 'brew', 'Hake', 'rooted', 'forked', 'MORE', 'comprehension', 'sweetly', 'Answer', 'purposing', 'nobly', 'MOVING', 'gracious', 'cable', 'pervades', 'friar', 'descried', 'weighty', 'thoughtful', 'corn', 'rounded', 'counting', 'natur', 'hereafters', 'preciousness', 'needs', 'Islands', 'items', 'term', 'manned', 'trade', 'intervening', 'called', 'bubbled', 'smoky', 'scratched', 'communicated', 'bush', 'dipped', 'shrine', 'hump', 'Jimmini', 'card', 'tenth', 'screams', 'meal', 'successive', 'COMES', 'vague', 'clenched', 'packed', 'flatter', 'ramming', 'eaten', 'consolatory', 'preserved', 'fuzzing', 'fossiliferous', 'slit', 'betokened', 'mouse', 'newly', 'Sultan', 'myself', 'patient', 'imbecile', 'Friar', 'HALF', 'drank', 'waxed', 'shagginess', 'cramped', 'WAVING', 'universal', 'shapes', 'boyhood', 'alert', 'random', 'Yea', 'Sail', 'seems', 'STATES', 'reliance', 'nigh', 'everywhere', 'Receiving', 'fifteen', 'appellations', 'undoubted', 'crocodile', 'necessary', 'Lamatins', 'topers', 'whip', 'Hoe', 'Genius', 'Edward', 'Durand', 'clout', 'showing', 'veil', 'smelling', 'skulled', 'BIOGRAPHY', 'persons', 'thousandth', 'pillars', 'wading', 'Pipe', 'wrath', 'Bolivia', 'foundling', 'tauntings', 'traditions', 'shiftings', 'eavesdroppers', 'ebonness', 'acres', 'inn', 'blackness', 'bowsprit', 'ERECTION', 'reproach', 'sentinels', 'highly', 'strides', 'star', 'mere', 'waistband', 'pinch', 'resident', 'sundry', 'WINDOWS', 'attitudes', 'gilt', 'rheumatic', 'Scriptures', 'HWAL', 'unfort', 'bored', 'poise', 'fed', 'Be', 'Swackhammer', 'refreshing', 'streamed', 'speechless', 'presenting', 'DANISH', 'mortality', 'contained', 'neatness', 'FILING', 'tumbled', 'whatsoever', 'larboard', 'awakened', 'Randolphs', 'chiselled', 'search', 'slats', 'straggling', 'Also', 'Del', 'CROW', 'Hadst', 'toes', 'ducat', 'liars', 'BRIT', 'berry', 'marlinspikes', 'Swimming', 'procured', 'imminglings', 'spelling', 'indebtedness', 'Have', 'manifest', 'vexed', 'shook', 'thawed', 'FINALLY', 'instrument', 'retreated', '42', 'TIT', 'ESCAPED', 'jagged', 'Leviathanic', 'fortresses', 'FORWARD', 'innocently', 'suppose', 'stabbed', 'Perseus', 'where', 'coincidings', 'sanctity', 'pages', 'miscreants', 'HEARS', 'moored', 'measures', 'engrafted', 'forward', 'subordinates', 'parricide', 'wriggling', 'Bobbing', 'sparks', 'growl', 'astonishment', 'unfitted', 'IAN', 'clearness', 'shelves', 'signifies', 'antecedent', 'gape', 'songs', 'crackest', 'HOMINUM', 'glazed', 'comets', 'obscures', 'Warden', 'bunch', 'Cock', 'sentinelled', 'marge', 'tusks', 'crescentic', 'odorous', 'dost', 'streaks', 'Io', 'terrify', 'downtown', 'dwelt', 'tar', 'ALFRED', 'profitable', 'surpass', 'presentiments', 'condescension', 'spouts', 'Poland', 'incorrect', 'sensation', 'azimuth', 'bondsman', 'fullers', 'Chapel', 'surveillance', 'lodgings', 'rolling', 'wretched', 'schools', 'Wales', 'swarmed', 'obvious', 'surroundingly', 'soliloquizes', 'inelegant', 'Tistig', 'total', 'steel', 'church', 'marvellous', 'rack', 'thickens', 'JOIST', 'cullest', 'hardy', 'animals', 'Ptolemy', 'Postscript', 'Champollion', 'everlastingly', 'overgrowth', 'smuggling', 'domes', 'undressed', 'nephew', 'SAILORS', 'home', 'joking', 'cite', 'captured', 'toss', 'SENTENCE', 'clever', 'notes', 'mechanically', 'investiture', 'ignores', 'quig', 'swiftly', 'Whaleman', 'sire', 'flounders', 'Alfred', 'profanely', 'bilious', 'luxuriant', 'maintain', 'tied', 'totally', 'caput', 'steadying', 'comber', 'mulberries', 'camphorated', 'studying', 'Bone', 'sulk', 'rumours', 'eight', 'Tranque', 'internationally', 'rotten', 'lamp', 'heap', 'rifles', 'forests', 'ended', 'heeling', 'tow', 'redder', 'ponderous', 'sides', 'sounding', 'bartered', 'bended', 'hospitable', 'cut', 'Matsmai', 'automaton', 'hawk', 'demands', 'distension', 'propelled', 'genuineness', 'waifed', 'purr', 'regiments', 'tornado', 'Nantuckois', 'lulls', 'Indiaman', 'loon', 'incoherences', 'Chestnut', 'mittens', 'missionaries', 'Herschel', 'twelfth', 'despatched', 'graveyards', 'ado', 'chart', 'grains', 'dilated', 'technicals', 'rigorous', 'naturae', 'haired', 'Israelites', 'thunders', 'striving', 'pouring', 'hootings', 'vat', 'delightful', 'invest', 'rope', 'bitters', 'discreetly', 'yore', 'dedicated', 'concussion', 'peered', 'ultimatum', 'bumping', 'NATHAN', 'Star', 'tragedy', 'Adventures', 'acquired', 'prefigured', 'leaks', 'banqueter', 'sportively', 'jogs', 'Commodores', 'crush', 'distrustful', 'I', 'Turkey', 'pretty', 'sanguinary', 'tune', 'Freely', 'bony', 'woeful', 'festival', 'brindled', 'patris', 'have', 'herring', 'bland', 'wheelbarrow', 'resting', 'bowlines', 'cursorily', 'restricting', 'SPERMACETI', 'chamois', 'depicting', 'darkened', 'aerated', 'orders', 'overmanned', 'convicts', 'Alabama', 'waned', 'Enough', 'Making', 'outs', '...', 'bulwarks', 'scoured', 'date', 'audible', 'unachieved', 'hoist', 'darts', 'stacked', 'Dusk', 'Pliny', 'rabble', 'opposition', 'merry', 'abjectly', 'coasts', 'feelest', 'lashing', 'trucks', 'idolator', 'muffled', 'wat', 'lancet', 'honey', 'smell', 'quadrupeds', 'loudly', 'giving', 'forgetful', 'flourishing', 'Middle', 'effect', 'Peterson', 'dictating', 'far', 'ether', 'SPERMA', 'magnanimous', 'planetarily', 'HOW', 'constituting', 'sprawling', 'Cambyses', 'Magian', 'worth', 'meditations', 'unsubduable', 'insect', 'hundred', 'reminds', 'throwing', 'brightest', 'Reality', 'fainter', 'Libra', 'unicorn', 'disembowelments', 'lays', 'clanging', 'staunch', 'NEVER', '46', 'unoutgrown', 'lips', 'sanctuary', 'tilbury', 'repulses', 'Hah', 'craggy', 'Snatching', 'classical', 'admit', 'Giving', 'caper', 'Central', 'rearing', 'Cloud', 'UNO', 'meanly', 'fastening', 'repetition', 'Slack', 'leaving', 'sacred', 'Cook', 'pleases', 'splintering', 'pantaloons', 'jerk', 'band', 'seaman', 'Bentham', 'weeping', 'destined', 'vultures', 'grandiloquent', 'disadvantage', 'sweating', 'pilgrims', 'curiosity', 'Washington', 'reveries', 'Harmattans', 'glimpses', 'tugged', 'loins', 'wealth', 'gores', 'weakly', 'portent', 'lurked', 'THEOLOGY', 'Sag', 'NINE', 'humps', 'Globe', 'store', 'abreast', 'outweigh', 'castaways', 'bubble', 'multitude', 'refiningly', '45', 'awarded', 'inventor', 'north', 'offered', 'surf', 'traceable', 'Helena', '550', 'marvels', 'prevent', 'Presbyterian', 'amusing', 'content', 'bearing', 'Hittite', 'Achilles', 'slaves', 'clouds', 'brevity', 'gras', 'class', 'pearls', 'dug', 'borrowing', 'modifying', 'correspond', 'saw', 'irritated', 'sunrise', 'unmeasured', 'extras', 'pictorial', 'dislike', 'scougin', 'grotesqueness', 'methodization', 'wit', 'imperceptible', 'TRIUMPH', 'frontiers', 'WHITE', 'flaw', 'blade', 'jamming', 'breezy', 'miniatures', 'mortar', 'private', 'Out', 'knows', 'oversee', 'incarnate', 'grained', 'flavorish', 'unseen', 'contenting', '96', 'testaments', 'forlorn', 'openly', 'coffins', 'inquiry', 'waxes', 'pantomime', 'unblinkingly', 'Fe', 'distance', 'uninhabited', 'wide', 'drunkard', 'smacking', 'Try', 'C', 'Are', 'guarded', 'privilege', 'inflexibly', 'odd', 'Peleg', 'legends', 'diagonal', 'clanged', 'angels', 'strangers', 'Befooled', 'fuss', 'danger', 'rot', 'tragedies', 'Peace', 'Possession', 'determine', 'entreaties', 'blister', 'glory', 'churchyard', 'foreign', 'molasses', 'prosecution', 'persevering', 'gaseous', 'Lombardy', 'unshunned', 'casement', 'asleep', 'fades', 'Somehow', 'pondered', 'possession', 'astrological', 'Iceberg', 'blush', 'cannon', 'makings', 'dark', 'accompaniments', 'accountants', 'intently', 'TASHTEGO', 'Romish', 'determined', 'blades', 'antemosaic', 'miracle', 'lumber', 'Strength', 'Sebastian', 'knee', 'gesticulated', 'Anyhow', 'breathest', 'ragged', 'wrinkling', 'stunning', 'cure', 'COMSTOCK', 'switching', 'unforgiven', 'suspense', 'bleed', 'oder', 'helter', 'problem', 'Friend', 'adrift', 'convict', 'Plum', 'maketh', 'vile', 'accelerated', '\"', 'layeth', 'snored', 'thyself', 'harmless', 'contour', 'eyes', 'based', 'togged', 'apt', 'terminating', 'breach', 'abandon', 'roofed', 'flowered', 'exceed', 'baleful', 'Watery', 'records', 'Skies', 'Arion', 'starlight', 'sunniest', 'Riotous', 'possibly', 'patron', 'denizens', 'splinter', 'heel', 'Salem', 'furnishing', 'fires', 'Bridge', 'Near', 'revive', 'economical', 'indebted', 'spar', 'accessible', 'dale', 'Rhodes', 'Please', 'reference', 'posies', 'sleeps', 'nod', 'reverentially', 'carelessly', 'spurred', 'distended', 'corkscrew', 'encounters', 'battles', 'Seems', 'vehemently', 'revelation', 'shower', 'outlines', 'threes', 'thinned', 'threatens', 'cured', 'rafters', 'purplish', 'Twenty', 'slid', 'fidelities', 'unfinished', 'confidence', 'All', 'flowering', 'wampum', 'owning', 'packs', 'Lothario', 'solitude', 'saying', 'largely', 'Hebrews', 'belongs', 'mincer', 'rhyme', 'eleventh', 'packet', 'indulging', 'nestling', 'quarter', 'familiarity', 'swelled', 'Woebegone', 'amputation', 'pool', 'bigotry', 'undecided', 'ranks', 'inaccessible', 'Pull', 'remoter', 'crucified', 'ebony', 'refrained', 'appeal', 'scorchingly', 'Porus', 'gospel', 'gathering', 'oily', 'clutch', 'Gibraltar', 'sail', 'Aboard', 'sect', 'Mahomet', 'fuller', 'genius', 'phrensy', 'Dame', 'proceeding', 'advanced', 'occupied', 'Accessory', 'split', 'cast', 'Church', 'twopence', 'elsewhere', 'porpoises', 'sticks', 'domineerings', 'Caesar', 'provides', 'howdah', 'canoes', 'Deck', 'tearin', 'researches', 'vigorously', 'Pyrrho', 'sallied', 'south', 'Corkscrew', 'greyhounds', 'encore', 'imposingly', 'sawn', 'impeach', 'Fired', 'fears', 'ruffed', 'experiments', 'Chilian', 'jaw', 'fireplaces', 'since', 'uneventfulness', 'FAERIE', 'tester', 'ranged', 'gateway', 'resistance', 'Eagle', 'addressing', 'Belubed', 'paralysis', 'gnaw', 'wholly', 'knocks', 'heedful', 'afoam', 'ghosts', 'demselves', 'infidelities', 'whaled', 'Rights', 'Abel', 'susceptible', 'esteem', 'Leviathan', 'plentifully', 'parks', '1791', 'Scarcely', 'omnipresence', 'QUEEN', 'flexions', 'Russian', 'lump', 'declaring', 'Smeerenberg', 'staff', 'vestibule', 'athwartships', 'leopards', 'sneak', 'drivers', 'ox', 'Erromanggoans', 'semicircle', 'alpine', 'Mackinaw', 'commanding', 'belong', 'should', 'venison', 'outyell', 'cascade', 'steadfastly', 'Palace', 'loud', 'oversailed', 'disobeying', 'OATHS', 'peering', 'bridle', 'subsided', 'compilations', 'Blinding', 'too', 'forgetting', 'heaviness', 'scimetar', 'soon', 'Abashed', 'Kremlin', 'flashed', 'larger', 'especially', 'poring', 'lowly', 'unobserved', 'Akin', 'obituary', 'allusion', 'tint', 'intermitting', 'brewery', 'ruinous', 'pestiferously', 'cutlet', 'wickedness', 'spermacetti', 'dismissal', 'Cooks', 'tucks', 'Wind', 'Regent', 'Desecrated', 'appearing', 'flattening', '890', 'merciless', 'consciously', 'rap', 'chains', 'decanters', 'unflattering', 'wanderings', 'labors', 'warp', 'lotions', 'indecorous', 'tidiness', 'killing', 'island', 'howling', 'cruised', 'Harbor', 'lounging', 'buoyancy', 'bidden', 'insatiate', 'abhorred', 'Borean', 'dissolved', '81', 'enemies', 'relented', 'seclusion', 'sly', 'landlord', 'Midships', 'consistency', 'conjectures', 'ain', 'disturbing', 'darted', 'alive', 'awaited', 'arctic', 'tutelary', 'bracing', 'weak', 'hugged', 'CRUISING', 'maples', 'DURING', 'tilted', 'disorder', 'bepatched', 'resolve', '11', 'seductive', 'passes', 'purposed', 'Shove', 'decoration', 'handfuls', 'disposing', 'zoned', 'deduction', 'eider', 'descending', 'Gate', 'assisting', 'monopolising', 'jungle', 'dwelling', 'entrance', 'plaything', 'matched', 'NARWHALE', 'coffer', 'Quakerism', 'apothecary', 'pomp', 'indolent', 'forswearing', 'fatness', 'throws', 'modified', 'hurl', 'vesture', 'wordless', 'cover', 'preparative', 'Starbuck', 'archangelical', 'sharkish', 'respectfully', 'ireful', 'corpusants', 'SOLUS', 'methodically', 'hawsers', 'sob', 'underwent', 'sociably', 'insolent', 'manufactured', 'Circumambulate', 'RIBS', 'Swim', 'copying', 'disdained', 'neglect', 'witnesses', 'tinges', 'pay', 'subtract', 'cypher', 'structures', 'unbidden', 'point', 'settees', 'interchangeably', 'paying', 'SLEET', 'posted', 'worships', 'Same', 'grinding', 'kept', 'maintains', 'spermy', 'shabbiest', 'preserve', 'world', 'face', 'nurtured', 'lurks', 'Englishman', 'approached', 'column', 'dashing', 'hurriedly', 'wasps', 'VERBAL', 'thousand', 'seekest', 'CHARLES', 'omens', 'obeyed', 'enormous', 'jumbled', 'somehow', 'adjacent', 'Mingling', 'EYES', 'WIDOW', 'STUBB', 'systematic', 'HORRID', 'champions', 'Gothic', 'typhoons', 'metropolis', 'misanthropic', 'believers', 'Blood', 'greenhorn', 'falls', 'Astronomy', 'eagerness', 'Short', 'Horned', 'disclosures', 'hits', 'born', 'faded', 'genteel', 'didst', 'condemned', 'canst', 'breathes', 'comforter', 'bowed', 'snort', 'rage', 'concernment', 'Virtue', 'REST', 'Words', 'KILLER', 'Ridge', 'battened', 'details', 'majesty', 'characteristic', 'final', 'spilled', 'wire', 'appeals', 'contraband', 'gasp', 'manifestation', 'Yellow', 'dolphin', 'abstained', 'Saturday', 'bats', 'perceptible', 'whalers', 'clamorous', 'undefiled', 'honourably', 'plaster', 'perished', 'supplies', 'Silently', 'circumstances', 'tricks', 'goberned', 'repair', 'flowers', '),', 'scorching', 'subdivisions', 'speakest', 'tiny', 'shinbone', 'sunken', 'dishes', 'continental', 'inclination', 'Christians', 'fours', 'assaults', 'ROSE', 'roar', 'newspaper', 'blusterer', 'law', 'Prodromus', 'evangelist', 'freedom', 'stationary', 'makes', 'dismasting', 'weapon', 'consign', 'aright', 'unwilling', 'Rocky', 'warm', 'disorders', 'receiving', 'circulars', 'tinkling', 'breaths', 'felicities', 'African', 'subdivide', 'wales', 'deadly', 'knot', 'yields', 'attended', 'realities', 'puzzled', 'whaler', 'Golden', 'furs', 'nightmare', 'Hogarth', 'innumerable', 'evolution', 'Captains', 'desperadoes', 'sich', 'avast', 'Work', 'fragmentary', 'skipper', 'molest', 'quiet', 'friendly', 'shafts', 'Blue', 'glowed', 'Pharaoh', 'Arrived', 'bucklers', 'apprise', 'cocoanuts', 'wonderful', 'gouge', 'Kings', 'Sink', 'frankincense', 'achieved', 'alms', 'rigid', 'ceremonies', 'passport', 'chickens', 'Delight', 'lounged', 'join', 'paunch', 'vanity', 'Didn', 'bargain', 'consists', 'Cherries', 'wines', 'preparatives', 'struggling', 'caddy', 'unawed', 'Napoleon', 'conceives', 'blended', 'executed', 'renounce', 'warming', 'cankerous', 'thence', 'Going', 'clime', 'Kills', 'steers', 'hammocks', 'boilers', 'Marten', 'halting', 'Skrimshander', 'Because', 'bandbox', 'somnambulistic', 'nose', 'rate', 'invoking', 'palavering', 'unprovided', 'hatband', 'heads', 'jealous', 'SOLANDER', 'chests', 'keeper', 'clayey', 'judiciously', 'pickled', 'WISE', 'Proceed', 'ASIA', 'brigandish', 'jam', 'angrily', 'quicksand', 'consequently', 'REVENGE', 'wrinkled', 'peace', 'comprehensively', 'following', 'insult', 'obscured', 'failed', '28', 'seven', 'Shaker', 'sometimes', 'perseverance', 'tranced', 'portrait', 'boundless', 'Whisper', 'hissing', 'hatchings', 'bout', 'duskier', 'artificially', 'flying', 'describes', 'portents', 'agency', 'ache', 'keenly', 'stock', 'risks', 'With', 'superstitiously', 'Buoy', 'hue', 'utility', 'conscious', 'Victory', 'namely', 'Less', 'homes', 'crosses', 'faint', 'hamper', 'kinds', 'salmon', 'Taurus', 'zephyr', 'GONDIBERT', 'Auto', 'breathlessly', 'Helm', 'discharge', 'rules', 'drowning', 'pond', 'excellently', 'CONVERSATIONS', 'alpacas', 'Jonah', 'asylum', 'net', 'eddy', 'workmen', 'boxing', 'poles', 'designs', 'languages', 'Ship', '8', 'staggered', 'bloodshot', 'European', 'leathern', 'shrunk', 'Historically', 'Hogarthian', 'purposes', 'catcher', 'keeping', 'smacks', 'southwards', 'worsted', 'person', 'ornaments', '43', 'trappers', 'larders', 'pursed', 'plummet', 'incommoding', 'cemeteries', 'Corlaer', 'Christ', 'civilized', 'maker', 'Nescio', 'anvil', 'bolt', 'ripe', 'wits', 'heathens', 'pageant', 'shark', 'pained', 'snoring', 'equator', 'tortoise', 'Most', 'watches', 'pursuit', 'August', 'awry', 'durst', 'showest', 'scrupulously', 'clumsy', 'yokes', 'mostly', 'palmy', 'builder', 'strikingly', 'cheery', 'Colnett', 'ladders', 'manly', 'corpse', 'L', 'eternities', 'certain', 'tallow', 'subordinate', 'Tranquilly', 'bloated', 'Ingin', 'Calais', 'Manilla', 'fasting', 'lots', 'pull', 'mad', 'starvation', 'owned', 'northern', 'sooner', 'capable', 'might', 'daring', 'laden', 'hiss', 'slim', 'enfeebled', 'millionth', 'kin', 'toilings', 'shines', 'Antilles', 'Paddles', 'salvation', 'William', 'voyaging', 'start', 'spindles', 'hoary', 'gazing', 'amputations', 'corruption', 'vertically', 'intention', 'panic', 'Pulpit', 'cried', 'blood', 'spend', 'Dick', 'tat', 'kelpy', 'Tropics', 'PRIMER', 'inform', 'tellest', 'oblique', 'ELLERY', 'idolatrous', 'squid', 'ALONE', 'demand', 'VISIT', 'ABOUT', 'unfortunate', 'Polynesian', 'Cabaco', 'mystically', 'MCCULLOCH', 'bedded', 'essaying', 'bounced', 'erecting', 'Talus', 'invokingly', 'ruminated', 'centralization', 'Quakerish', 'opinions', 'transcends', 'CAP', 'exceeds', 'helmet', 'JONAH', 'cleared', 'trimming', 'Carefully', 'glasses', 'ruffles', 'warlike', 'magistrate', 'nieces', 'cunningly', 'frightened', 'undervalue', 'biscuits', 'ho', 'piratical', 'Maelstrom', 'tries', 'exertion', 'hop', 'brush', 'identified', 'rested', 'margin', 'Tumbled', 'mobbing', 'unconditional', 'describe', 'wholesome', 'complies', 'hollow', 'pulls', 'leave', 'Basilosaurus', 'Physiognomically', 'Another', 'facilitate', 'Bloody', 'V', 'impossibility', 'imp', 'elders', 'tantalizing', 'usurper', 'Tongatobooarrs', 'beats', 'Corlears', 'stepmothers', 'paddling', 'distrusting', 'HEREABOUTS', 'hardihood', 'growled', 'mizzen', 'observe', 'crows', 'involves', 'harpooner', 'excitement', 'carlines', 'Yankee', 'Merchant', 'aghast', 'jackets', 'fogs', 'withdrawing', 'racing', 'hung', 'caterpillar', 'mistifying', 'deserts', 'tall', 'faction', 'unmolested', 'hint', 'hallowed', 'perturbation', 'Lookee', 'domesticated', 'pockets', 'strangeness', 'finish', 'overrun', 'possess', 'confusion', 'dentistical', 'FORECASTLE', 'close', 'Hither', 'downwards', 'mustn', 'hitherto', 'blend', 'specific', 'Epilogue', 'Sciences', 'stroke', 'redolent', 'Leaning', 'FLASK', 'fin', 'GOLDEN', 'devoting', 'part', 'eau', 'OCTAVO', 'Boats', 'RESPECTABLE', '52', 'fair', 'going', '53', 'thunderings', 'slipped', 'abbreviation', 'thickest', 'passion', 'informed', 'coolness', 'staple', 'Captain', 'non', 'stretch', 'AUTHOR', 'income', 'discernment', 'punish', 'halving', 'Seldom', 'askance', 'vinegar', 'islands', 'savageness', 'celebrate', 'easterly', 'induced', 'beggar', 'te', 'pastiles', 'icicle', 'rascally', 'pitchiest', 'squint', 'Beams', 'Threading', 'The', 'Trade', 'snatching', 'prime', 'Base', 'fringing', 'beside', 'panoramas', 'bestirred', 'converted', 'steer', 'horns', 'tellin', 'Terrors', 'Bourbons', 'terrapin', 'Glacier', '79', 'Maybe', 'moors', 'lifelessly', 'systemized', 'Wood', 'Giver', 'wallows', 'cotton', 'voyage', 'gently', 'hurricane', 'lances', 'relieved', 'sunshine', 'exciting', 'THEY', 'picturesquely', 'ladle', 'Ochotsh', 'thinking', 'wears', 'unequal', 'sleet', 'Angel', 'Christendom', 'whisper', 'Fountain', 'subtlety', 'ills', 'Fa', 'Bargain', 'baptizo', 'Folding', 'Timor', 'Terra', 'steerer', 'stunsails', 'toasting', 'drowned', 'reader', 'guinea', 'buttress', 'dumpling', 'rebut', 'crunching', 'Verily', 'Windsor', 'thoroughfares', 'heir', 'hawks', 'analogical', 'complimented', 'jellied', 'trebly', 'Greenlanders', 'cures', 'keeling', 'satirizing', 'Zoned', 'consolation', 'borrowed', 'MATE', 'Grin', 'Ephesian', 'pincers', 'pelisse', 'ungodly', 'standest', 'famine', 'dive', 'sprang', 'engineering', 'reflection', 'contingency', 'erring', 'flowing', 'Loomings', 'countries', 'adroop', 'murder', 'Main', 'rescue', 'submits', 'Forty', 'unremoved', 'fill', 'unappropriated', 'bathing', 'inculcated', 'Speak', 'worker', 'prouder', 'civility', 'brought', 'dint', 'ratifying', 'trophy', 'bobbed', 'incorruptible', 'consequence', 'praises', 'shudderingly', 'behalf', 'modifications', 'irregularly', 'cottage', 'tell', 'manliest', 'wondrousness', 'cultivate', 'passiveness', 'ENSUING', 'rarely', 'feasted', 'brim', 'hunger', 'sloping', 'CREWS', 'thoroughly', 'solo', 'livingly', 'rights', 'vassal', 'continues', 'stiffening', 'tuns', 'benches', 'aisle', 'striding', 'subdued', 'hatches', 'bedfellow', 'jacket', 'seconds', 'knottiest', 'Sirs', 'pennoned', 'box', 'conspired', 'so', 'Junk', 'Bethink', 'churches', 'Lais', 'spindled', 'assured', 'undecreasing', 'risen', 'amazing', 'mine', 'ill', 'cabinet', 'torn', 'predecessor', 'carted', 'Aware', 'theatre', 'bumps', 'Horatii', 'eaves', 'feels', 'displayed', 'forecastle', 'popularly', 'p', 'after', 'classed', 'rat', 'desolate', 'Hospital', 'purely', 'According', 'dreamy', 'unspeakable', 'bagged', 'Platonists', 'TRANS', 'THAR', 'wester', 'discolour', 'Hearkening', 'pearl', 'everything', 'balanced', 'organized', 'SETH', 'beards', 'thirty', 'harpooneer', 'atheistical', 'enthrone', 'jollies', 'stick', 'healthful', 'Remember', 'illness', 'bearers', 'BETWEEN', 'respective', 'babbling', 'recover', 'marred', 'spinal', 'conversant', 'judges', 'crane', \",--'\", 'Careful', 'Read', 'Preternatural', 'pure', 'scooped', 'tomb', 'cases', 'adamite', 'frustrate', 'herds', 'teak', 'Meddling', 'stop', 'relievo', 'Germain', 'marching', 'Guinea', 'questioning', 'Salisbury', 'ineffectually', 'monomania', 'connect', 'secreted', 'antiquities', 'countless', 'Harto', 'civil', 'Sam', 'outlandish', 'easily', 'inhospitable', 'butts', 'tarpaulins', 'feeds', 'apprised', 'obstinately', 'echoed', 'flailings', 'speaks', 'compounded', '27', 'arrayed', 'Ottoman', 'tamely', 'stifling', 'cracking', 'GO', 'boatmen', 'necessities', 'wildly', 'Whew', 'bigamist', 'SHIPMATES', 'supper', 'clasp', 'June', 'supperless', 'foe', 'apparition', 'Miserable', 'archbishopric', 'conveniently', 'whiff', '95', 'disparagement', 'SWEDISH', 'nomine', 'protuberance', 'linen', 'sold', 'passengers', 'Macrocephalus', 'landsmen', 'insupportable', 'Tails', 'object', 'atmospheric', 'criterion', 'ply', 'trellised', 'Bulkington', '1840', 'dauntlessness', 'bowie', 'forthing', 'idol', 'missed', 'showed', 'OLD', 'Channel', 'FEET', 'weariest', 'sanity', 'quaked', 'readily', 'Vermont', 'aptitude', 'stones', 'remains', 'Folios', 'enjoys', 'beehive', 'Canada', 'crushing', 'steward', 'Beware', 'timidity', 'fritters', 'Inferable', 'scholar', 'relinquish', 'pyramids', 'forbidden', 'shrinking', 'superinduced', 'undetected', 'bible', 'sartainty', 'proceeds', 'treading', 'Atlantics', '118', 'tweezers', 'Moss', 'formation', 'checkered', 'capsizings', 'existence', 'VARIOUS', 'petition', 'boundary', 'survive', 'grave', 'whistled', 'latitude', 'pendulous', 'steadied', 'profitably', 'ague', 'marl', 'toil', 'opined', 'suddenness', 'wrenched', 'Buoyed', 'turfed', 'wiseish', 'clean', 'Ganges', 'bowes', 'Sleet', 'legal', 'richly', 'illuminate', 'escape', 'disbands', 'collect', '15th', 'averse', 'contemporary', 'arrantest', 'discrimination', 'questionings', 'Knife', 'bountiful', 'costume', 'sixth', 'WEBSTER', 'poly', 'CLUSTERS', 'Baden', 'sea', 'cares', 'craven', 'porter', 'if', 'HEIGHT', 'confounds', 'sharked', 'pikes', 'hypochondriac', 'starry', 'yarn', 'base', 'construction', 'relieving', 'skill', 'game', 'bo', 'talisman', 'ignoramus', 'unhooped', 'nowise', 'playful', 'successively', 'shaken', 'belayed', 'incidentally', 'staggering', 'department', 'celebration', 'goose', 'starting', 'rendering', 'command', 'forge', 'recurred', 'tusk', 'fickleness', 'Perry', 'she', 'Morning', 'shave', 'Emboldened', 'junior', 'earnest', 'tasted', 'bliss', 'files', 'hooded', 'giants', 'talkest', 'determination', 'sterning', 'shares', 'requirest', 'stowage', 'maty', 'parallel', 'IT', 'paregoric', 'coward', 'Sibbald', 'bigness', 'stump', 'front', 'exposes', 'stubble', 'strays', 'Paradise', 'scare', 'unassailable', 'tufted', 'Persian', 'whelmed', 'gazers', 'moot', 'halted', 'Becket', 'revengeful', 'Ehrenbreitstein', 'negroes', 'wanted', 'warehouse', 'surplus', 'prophetic', 'frosty', 'interested', 'shading', 'conveying', 'affair', 'feared', 'militant', 'ornament', 'presumed', 'whist', 'seating', 'loaded', 'plight', 'wrapping', 'nets', ';\"', 'ravening', 'GOLDSMITH', 'Magnitude', 'orphans', '61', 'thing', 'screw', 'discoloured', 'replenished', 'bedsteads', 'jackasses', 'learnedly', 'rule', 'admits', 'toad', 'score', 'Office', 'insist', 'bespattering', 'either', '!', 'convertible', 'quietude', 'overburdening', 'sorts', 'seignories', 'Anak', 'unwarrantably', 'prescriptive', 'materials', 'embarked', 'mittened', 'voluntary', 'bench', 'inaudible', 'Bare', 'Hat', 'amazingly', 'forthwith', 'triumphal', 'juices', 'diagonically', 'coins', 'constitution', 'forewarnings', 'awhile', 'wilful', 'Constantinople', 'appalled', 'yawed', 'Remote', 'sperm', 'reydan', 'rudeness', 'cones', 'chalices', 'KING', 'scarfing', 'evinces', 'entitled', 'freewill', 'disreputable', 'Wrapped', 'luckless', 'chocks', 'convey', 'bigger', 'Decapitation', 'bewitching', 'Red', 'trance', 'libertines', 'lanyard', 'Sailors', 'attend', 'spiked', 'milling', 'unastonished', 'Launched', 'fins', 'blemish', 'freer', 'feints', 'ebon', 'gods', 'waif', 'desiring', 'unquestionable', 'ignominy', 'improbable', \"!'\", 'vitals', 'parson', 'waistcoats', 'farewell', 'tiled', 'probably', 'conceit', 'cheerful', 'diminished', 'butterless', 'nations', 'unmitigated', 'marvel', 'superior', 'offence', ':', 'moose', 'gunpowder', 'tide', 'Artedi', 'emerging', 'ASPECT', 'foiled', 'geniuses', 'forging', 'whales', 'listened', 'cub', 'verifications', 'Raphael', 'prediction', 'writing', 'centres', 'forlornly', 'acts', 'Forward', 'clenching', 'presents', 'Shame', 'penal', 'stumble', 'Feegees', 'tomorrow', 'distortions', 'primers', 'chuckled', 'intensified', 'vows', 'fastened', 'bombazine', 'Whenever', 'cords', 'Dover', 'Not', 'sheaves', 'slope', 'tempest', 'notion', 'off', 'concentric', 'Labor', 'Gesner', 'animosity', 'props', 'jet', 'cracks', 'hero', 'inscription', 'glass', 'errand', 'measured', 'Thunder', 'interval', 'unmurmuringly', 'turning', 'flourishings', 'study', 'allowed', 'goring', 'proceeded', 'tides', 'sprained', 'macassar', 'luckily', 'relics', 'or', 'injunctions', 'sunk', 'happen', 'custom', 'street', 'rippling', 'parlors', 'political', 'attendance', 'aboriginalness', 'opening', 'dyspepsias', 'crushed', 'sharpening', 'dares', 'heinousness', 'mortals', 'ton', 'intervened', 'CRUISE', 'unsweetly', 'sorrows', 'BACKED', 'design', 'ineffectual', 'inevitably', 'HIS', 'SOCIAL', 'extracts', 'province', 'tosses', 'knightly', 'discharging', 'tonic', 'Grammar', 'Spout', 'bless', 'can', 'sulphur', 'commentaries', 'Watching', 'enlivened', 'DUODECIMOES', 'paws', 'l', 'extinguished', 'withhold', 'haze', 'riding', 'sharpest', 'emulation', 'blameworthy', 'admeasurement', 'impatient', 'lens', 'napping', 'MEALY', 'harbors', 'considerations', 'corner', 'dined', 'postponedly', 'GENERALLY', 'mud', 'controversies', 'Before', 'mimicking', 'sinner', 'hone', 'consideration', 'silk', 'officers', 'seaweed', 'propulsion', 'Bishop', 'rugged', 'Protestant', 'nap', 'Tigris', 'unfathered', 'isolate', 'infirmity', 'bidding', 'Hannibal', 'continent', 'profound', 'stoopingly', 'follows', 'header', 'livelong', 'knobby', 'caution', 'abide', 'approved', 'potencies', 'individualities', 'DICTIONARY', 'Bombay', 'Jack', 'vision', 'Kraken', 'maintaining', 'Saturn', 'fold', 'most', 'reminiscences', 'Tamerlane', 'mastership', 'hypothesize', 'mongrel', 'demigods', 'liberated', 'RISES', 'Jago', 'studies', 'unenervated', 'descended', 'folded', 'comported', 'thinner', 'unwarrantable', 'sky', 'bullies', 'wish', 'hovering', 'Pott', 'reg', 'deathful', 'oneness', 'la', 'repeating', 'theme', 'sultan', 'practicable', 'structure', 'dotted', 'Quitting', 'cinnamon', 'precedents', 'plaintiveness', 'impotent', 'seethe', 'warn', 'Chinese', 'AM', 'doubt', 'Heated', 'added', 'Shipmates', 'passage', 'fine', 'Solomon', 'denotes', 'clearer', 'preventer', 'Sunday', 'IMPOSING', 'attentive', 'freckled', 'vacancy', 'happiness', 'incarnated', 'surpassingly', 'undressing', 'relaxed', 'sentimentalist', 'sup', 'goblet', 'lack', 'walked', 'mason', 'shuddered', 'lookouts', 'Colossus', 'wrinkles', 'mocked', 'shuffle', 'dispensed', 'complete', 'farthing', 'placing', 'expressing', 'detailed', 'apricot', 'peacefulness', 'untasted', 'imagines', 'are', 'At', 'subtly', 'unobtrusive', 'reasonably', 'doctor', 'Carson', 'dented', 'unconsciously', 'irrevocably', 'accosted', 'medals', 'regulations', 'vale', 'abhorrent', 'magician', 'Colonies', 'hearth', 'Startled', 'spotlessness', 'agreed', 'phraseology', 'claims', 'wearing', 'harbor', 'drench', 'impartial', 'roaring', 'abomination', 'listener', 'Canterbury', 'infantileness', 'Martial', 'dominion', 'blindfold', 'forerunning', 'windrowed', 'outriders', 'smiling', 'pins', 'cruises', 'primary', 'nearly', 'Persians', 'shadowed', 'rogues', 'excluded', 'sadder', 'startled', 'laborers', 'Adam', 'verse', 'fleecy', 'pray', 'waterspout', 'marchings', 'marbleized', 'Balaene', 'ancientest', 'gourmand', 'married', 'lee', 'Aloft', 'glad', 'butchers', 'demigorgon', 'outcries', 'Chaldee', 'suspiciously', 'enticing', 'retracing', 'forefinger', 'clan', 'noblest', 'weepons', 'voyager', 'third', 'destroying', 'slink', 'engraven', 'Warmest', 'gingerly', 'hundredth', 'exile', 'wane', 'Northman', 'chipped', 'exercise', 'blown', 'subjected', 'hemisphere', 'PSALMS', 'consecrating', 'kitchen', 'wager', '14', 'Delta', 'carved', 'Ger', 'numerous', 'jurisprudence', 'equanimity', 'tormented', 'hee', 'Sheet', 'ergo', 'boomed', 'foreshadowing', 'calculation', 'form', 'loosening', 'steamer', 'employ', 'staves', 'outrageous', 'choked', 'Spinoza', 'garments', 'intellects', 'stool', 'annually', 'Slid', 'minds', 'sog', 'within', 'attention', 'consult', 'watched', 'whaleman', 'Gulf', 'stript', 'slacked', 'Hindoos', 'morbid', 'overruns', 'Rev', 'closed', 'wet', 'Should', 'scoot', 'groves', 'ministry', 'preserving', 'carriage', 'swum', 'weakness', 'jealousy', 'battery', 'collectively', 'economic', 'IVORY', 'Samuel', 'icebergs', 'AZORE', 'cipher', 'shops', 'blazed', 'crosswise', 'intent', 'Maccabees', 'across', 'schooner', 'HARD', 'absurdly', 'superficially', 'swashing', 'shipkeepers', 'roofs', 'swift', 'celebrated', 'housekeeping', 'organ', 'exultingly', 'breezes', 'mill', 'again', 'and', 'tows', 'Business', 'ineffaceable', 'interests', 'Strangest', 'Unwittingly', '1776', 'habeat', 'pans', 'Savage', 'suffocated', 'seeing', 'vials', 'christened', 'bids', 'woes', 'order', 'necks', 'mounted', 'MANX', 'jesty', 'Human', 'TIME', 'thank', 'carve', 'partiality', 'cod', 'satirical', 'lowest', 'health', 'firkins', 'Rhyme', '88', 'placards', 'woody', 'settlements', 'breedeth', 'demanding', 'oblongs', 'charges', 'dirgelike', 'near', 'binding', 'vocation', 'GRIMLY', 'comprise', 'there', 'pointless', 'crockery', 'unchanged', 'pattern', 'attar', 'execute', 'tarried', 'magnificent', 'Italy', 'exasperating', 'painfully', 'masses', 'buy', 'concert', 'momentous', 'bred', 'breast', 'peaking', 'Closing', 'likenesses', 'plunged', 'cry', 'Said', 'Inn', 'confession', 'bath', 'hugest', 'towed', 'twitching', 'boot', 'metres', 'congregation', 'button', 'unpoetical', 'females', 'desired', 'Tisbury', 'task', 'page', 'incontinently', 'grandeur', 'dan', 'preacher', 'vernal', 'founder', 'Lit', 'Charlemagne', 'smackin', 'worlds', 'cheerily', 'unconquerable', 'intolerably', 'rattling', 'courage', 'denote', 'Black', 'east', 'quietly', 'wherewith', 'reelman', 'repelled', 'hammering', 'isolated', 'humph', 'weld', 'Asa', 'moodily', 'COFFIN', 'fall', 'mutiny', 'singularly', 'Considering', 'Killer', '111', 'Lakeman', 'cleaving', 'marvellously', 'attained', 'divided', 'written', 'tandem', 'porpoise', 'planks', 'Dashing', 'barrels', 'mounts', 'kneeling', 'omitted', 'multitudes', 'philosophical', 'vehement', 'retreats', 'Enderby', 'concentrated', 'hypothetically', 'ripples', 'wandered', 'intervene', 'squitchy', 'subtile', 'filers', 'tale', 'miserable', 'tales', 'petulance', 'basis', 'concluded', 'remonstrance', 'piety', 'unsmoothable', 'barreller', 'gropes', 'belonged', 'uncleanliness', 'enslaved', 'unobstructed', 'tombed', 'Get', 'adroitly', 'RED', 'elm', 'brooks', '1726', 'divorced', 'eber', 'Curious', 'specimen', 'swoop', 'cetacea', 'Tarsus', 'lying', 'FISHERY', 'disgusted', 'augmented', 'Tiger', 'meadow', 'RICHARDSON', 'congenial', 'CHOP', 'grooved', 'once', 'MUTINEER', 'Then', 'terrier', 'sculpture', 'soap', 'APPLICATION', 'flasks', 'kindled', 'betters', 'frosted', 'boozy', 'pebbles', 'aromatic', 'STRAFFORD', 'DAVENANT', 'Mordecai', 'suspecting', 'dissembling', 'sin', 'beach', 'unnamable', 'tough', 'distilled', 'sixpence', 'oysters', 'earth', 'naturally', 'Dinting', 'pepper', 'sheered', 'scabbards', 'elaborate', 'Californian', 'laugheth', 'mysteries', 'sod', 'digest', 'copy', 'oversight', 'visibly', 'ambition', 'huff', 'liest', 'Pagans', 'Unshored', 'blanched', 'phospher', 'redoubled', 'guided', 'clipped', 'Harris', 'shrunken', 'effectually', 'whitish', 'knockings', 'metallic', 'elastic', 'rustling', 'Wheelbarrow', 'NEST', 'cooler', 'midst', 'omnipresent', 'twice', 'plungings', 'canals', 'chested', 'Israel', 'hazard', 'brimmers', 'groping', 'tearlessness', 'outnumber', 'partners', 'creed', 'counterpoise', 'breeze', 'courageousness', 'kidnapping', 'moderation', 'Beelzebub', 'serpents', 'diligently', 'PREFACE', 'urn', 'attest', 'lonely', 'pumps', 'bake', 'hulls', 'bundling', 'slanderin', 'stone', 'gives', 'sized', 'substantiated', 'choice', 'whisperingly', 'olive', 'THEIR', 'procedure', 'thrones', 'lid', 'grunt', 'finger', 'Respectively', 'over', 'rigging', 'placidity', 'arose', 'lapse', 'plague', 'performed', 'eddies', 'inert', 'shake', 'resembling', 'easy', 'Know', 'boasting', 'anyhow', 'verdigris', 'torment', 'blackened', 'lost', 'Spaniards', 'hugeness', 'Orleans', 'climbing', 'OPENING', 'Belisarius', 'phrensied', 'courteously', 'northwards', 'suns', 'papered', 'Back', 'studs', 'THESE', 'resounds', 'occurred', 'examining', '2000', 'unlettered', 'prow', 'Spermaceti', 'unbecomingness', 'rebellion', 'desperate', 'Bess', 'rake', 'demon', 'touches', 'Pacifics', 'Nightgown', 'lecherous', 'Baliene', 'Oft', 'jig', 'attribute', 'Explain', 'vacated', 'manners', 'bands', 'Go', 'completion', 'asses', 'gateways', 'spoutings', 'exalted', 'exclusion', 'wood', 'Pardon', 'Projecting', 'fourth', 'hailing', 'errantism', 'moved', 'dusting', 'sequential', 'gurgling', 'toilette', 'smoked', 'partner', 'Taking', 'Mt', 'rank', 'criminal', 'felicity', 'transfer', 'legislators', 'knowing', 'Awful', 'possibility', 'marriage', 'rows', 'trembling', 'tinder', 'harbourless', 'commandingly', 'trinity', 'inadequately', 'beaker', 'popping', 'Platonic', 'similitude', 'Shirt', 'casts', 'Ahabs', 'indissoluble', 'chirography', 'spots', 'faith', 'harm', 'currents', 'Arch', 'weighing', 'brother', 'severs', 'superb', 'consecrated', 'COLL', 'plumping', 'cradled', 'Dissect', 'retrace', 'Truly', 'dared', 'Corrupt', 'harvesting', 'descend', 'villain', 'Glimpses', 'blockhead', 'Grant', 'brick', 'jail', 'Rather', 'wouldn', 'characterizing', 'hogshead', 'maltreated', 'drizzly', 'deemed', 'Navis', 'staving', 'paternity', 'brand', 'Aldrovandi', 'covered', 'polite', 'Xerxes', 'crawled', 'anticipated', 'SENATE', 'tougher', 'alas', 'neutral', 'eyelids', 'Rodmond', 'approvingly', 'strip', 'scan', 'slippering', 'furnished', 'name', 'brow', 'Arsacides', 'keg', 'golden', 'equality', 'denoted', 'monitions', 'accelerate', 'eels', 'grapple', 'signifying', 'objectionable', 'Thinking', 'cutlass', 'Pudding', 'India', 'homeless', 'engage', 'elucidated', 'chums', 'hovers', 'mobbed', 'overlooked', 'spill', 'scythes', 'Circassian', 'shaggy', 'distinction', 'bubbling', 'dressing', 'unspeckled', 'formless', 'virtue', 'specimens', 'indulged', 'conduct', 'soapstone', 'circlings', 'Heeva', 'mutely', 'flukes', 'beckoning', 'Second', 'pedestrian', 'verbally', 'Stab', ')--', 'Folgers', 'library', 'regarded', 'uneven', 'with', 'shrouds', 'spiced', 'locking', 'SPEECH', 'mode', 'limpid', 'ascriptions', 'its', 'neither', 'comfortably', 'pulsations', 'reappearance', 'whale', 'workman', '56', 'hag', 'reservation', 'UNPUBLISHED', 'junks', 'monuments', 'abating', 'continual', 'flickering', 'families', 'AROUND', 'tones', 'fortunately', 'aside', 'Crete', 'exploit', 'Monstrous', 'lap', 'sound', 'ringing', 'horseback', 'SLOWLY', 'authoritatively', 'pelted', 'begone', 'Authors', 'Gracious', 'marbled', 'understandings', 'peril', 'subtleness', 'prop', 'sheds', 'Philistines', 'curls', 'rods', 'symmetrically', 'HORIZONTAL', 'corresponds', 'placelessly', 'extension', 'reflected', 'transpire', 'locked', 'regained', 'lasting', 'exhausted', 'ubiquitous', 'hued', 'Cetus', 'COWLEY', 'recall', 'assigns', 'Mark', 'eyed', 'ants', 'Devils', 'unreasonably', 'con', 'graven', 'slight', 'forming', 'canting', 'parading', 'True', 'viol', 'herons', 'growlingly', 'indication', 'ESSEX', 'Czar', 'diligent', 'upheld', 'damped', 'Immediately', 'shuts', 'bulbous', 'famed', 'charger', 'towing', 'restored', 'terribly', 'gripe', 'conveniences', 'hunt', 'Scorpio', 'dwells', 'traverse', 'deem', 'anointed', 'sports', 'livelihood', 'interlacings', 'measurer', 'straightway', 'Muffled', 'Sherry', 'halyards', 'Conversation', 'inferentially', 'period', 'Harpoons', 'erectly', 'company', 'influential', 'smart', 'loomed', 'past', 'blubber', 'upcast', 'ugly', 'drop', 'drifting', 'choke', 'ROSS', 'firmest', 'marring', 'lurking', 'molifier', 'HISTORY', 'amputating', 'DARKENS', 'Plowdon', 'agonized', 'STRING', 'chosen', 'vest', 'straw', 'HARDY', 'JOHNSON', 'tanning', 'inspire', 'Massachusetts', 'humble', 'conflicting', 'pail', 'projects', 'whoever', 'contending', 'exclusiveness', 'ANNALS', 'amen', 'spite', 'Easy', 'headmost', 'dumbest', 'representing', 'juvenile', 'ADVANCING', 'enable', 'Spin', 'gauntleted', 'Yet', 'servile', 'chucks', 'shall', 'peaked', 'Inlanders', 'cask', 'titles', 'writer', 'attract', 'plausible', 'Maceys', 'compliance', 'business', 'cruellest', '126', 'flee', 'whoop', 'But', 'dramatic', 'Enderbys', 'abundant', 'distinguish', 'squaring', 'desirous', 'blows', 'ing', 'merciful', 'revered', 'queenly', 'spouters', 'Nantucketer', 'full', 'More', 'thine', 'family', '1828', 'stiffly', 'spectacles', 'Bones', 'rascal', 'precedence', 'cripple', 'columns', 'blame', 'rob', 'destroy', 'decrees', 'edged', 'hatchway', 'pinioned', 'pampered', 'bed', 'Innkeeper', 'moodiness', 'pedestal', 'intercepted', 'pitchpoler', 'oblong', 'Librarian', 'perspectives', 'mortal', 'explored', 'tickled', 'cymballed', 'Excepting', 'misgivings', 'individually', 'mong', 'perceive', 'shamble', 'spade', 'gales', 'wisdom', 'darting', 'ascend', 'receptive', 'Plata', 'halibut', 'Dey', 'tiara', 'grimness', 'traveller', 'include', 'lighthouse', 'Siberian', 'treacherous', 'groan', 'plethoric', 'dung', 'Mate', 'MSS', 'miraculous', 'enumerated', 'mower', 'extremities', 'subserve', 'nails', 'voyagings', 'batten', 'contraction', 'BARON', 'demonstrate', 'Browne', 'maliciously', 'Would', 'postpone', 'SHALL', 'opera', 'tier', 'ashes', 'buoyed', 'return', 'engendered', 'legendary', 'beard', 'snore', 'nondescripts', 'ULLOA', '19', 'Andromeda', 'recreate', 'executor', 'spiralling', 'matured', 'exposing', 'adventurous', 'candidate', 'modes', '25', 'tick', 'Crappo', 'herd', 'oddish', 'hilariously', 'presuming', 'cedar', 'steersman', 'regards', 'raw', 'conveys', 'mingled', 'experienced', 'confirmation', 'sobriety', 'phrenology', 'armed', 'assailing', 'notabilities', 'abandonment', 'straightened', 'Fife', 'BLACKSTONE', 'tore', 'Mary', 'Mounttop', 'addition', 'woodpecker', 'envy', 'humpbacked', 'banks', 'mincing', 'dumplings', 'draught', 'Siberia', 'mout', 'Tall', 'frail', 'hawser', 'torch', 'observing', 'sank', 'valiantly', 'crystal', 'isles', 'issuing', 'mallet', 'helmeted', 'lactantem', 'beer', 'steep', 'go', 'filed', 'Armada', 'Shake', 'hypocrisies', 'vicariously', 'whittling', 'hearsed', 'grope', 'restore', 'Belial', 'mermaids', 'work', 'DUTCH', 'whaleboning', 'louder', 'III', 'They', 'wooded', 'saddle', 'mastering', 'reverberations', 'mended', 'outstretching', 'snap', 'blacksmiths', 'warrior', 'staggeringly', 'complement', 'brighter', 'BOSOM', 'groove', 'hastier', 'Philippe', 'argued', 'spake', 'sustains', 'Throughout', 'seething', 'squire', 'grating', 'cat', 'abiding', 'kicked', 'flowery', 'Christianity', 'footpath', 'AMONG', 'concurring', 'has', 'Swing', 'abed', 'ignominious', 'faintness', 'eyeing', 'opinion', 'enthusiasm', 'beaked', 'Afric', 'Man', 'farces', 'quit', 'spectrally', 'pan', 'fever', 'Agassiz', 'medicinally', 'quid', 'eschewed', 'religious', 'sublimer', 'traditional', 'extended', 'lexicons', 'emphatically', 'Von', 'moles', 'Puritans', 'presiding', 'lustrous', 'anything', 'enlisting', 'deceiving', 'fervent', 'prayer', 'glimmer', 'shores', 'attenuated', 'odious', 'encouraged', 'departure', 'substituted', 'unsuffusing', 'grey', 'Leicester', 'Rousseau', 'navigator', 'soul', 'throat', 'revolve', 'which', 'individual', 'really', 'unreluctantly', 'sported', 'shipwrecks', 'attacks', 'Thundering', 'caravans', 'elevations', 'Dart', 'spilling', 'Cutting', 'Rains', 'veined', \"?--'\", 'strivest', 'abasement', 'became', 'stronghold', 'appeared', 'future', 'goest', 'Adieu', 'striven', 'producing', 'emblazoned', 'charity', 'scraps', 'overcome', 'directing', 'worse', 'hob', 'Dunder', 'ma', 'questions', 'fixes', 'monotonously', 'spindle', 'arboring', 'expresses', '110', 'PARLIAMENT', 'change', 'HAMLET', 'conceived', 'tallest', 'paltry', 'Applied', 'ten', 'hopefulness', 'sorry', 'heated', 'overrunningly', 'inventive', 'miner', 'mundane', 'mariners', 'CAULKING', 'altitude', 'destroyed', 'exhaustive', 'Bible', 'Dough', 'whose', 'boots', 'furrowed', 'Trafalgar', 'lightly', 'Tunnel', 'Life', 'envelopes', 'Honour', 'cupidity', 'Customs', 'gain', 'subsequently', 'unstreaked', 'cavalier', 'fists', 'hidden', 'substance', 'horribly', 'Judith', 'cleansing', 'DO', 'astronomers', 'HUNTER', 'martyr', 'disorderly', 'hilarity', 'Goa', 'Geneva', 'whistlingly', 'nerve', 'pave', 'experiment', 'groups', 'virtuous', 'unobservant', 'bodiless', 'fiery', 'fitful', 'respires', 'upward', 'contortions', 'Pisces', 'aldermen', 'Boston', 'shrouded', 'trading', 'GRAMPUS', 'draughtsmen', 'mightest', 'peeringly', 'microscopic', 'pell', 'woraciousness', 'evidence', 'overboard', 'vultureism', 'pagan', 'inextricable', 'Cannon', 'eulogy', 'CURRENTS', 'superhuman', 'trunk', 'pleasantness', 'crow', 'severest', 'sorrow', 'decline', 'tapers', 'Gor', 'cone', 'obstinacy', 'wilderness', 'drugg', 'bowled', 'misfortune', 'books', 'unexampled', 'thwack', 'Rattler', 'fumes', 'Stood', 'unwearied', 'malicious', 'Ding', 'Cruelty', 'aid', 'disappearance', 'illimitably', 'trouble', 'Daggoo', 'swims', 'Sicilian', 'arbours', 'heavier', 'Monkey', 'frequented', 'deadreckoning', 'mildness', 'veritable', 'savoury', 'WON', 'drabbest', 'talons', 'eve', 'Burton', 'Tail', 'mule', 'hurrying', 'Flask', 'Tying', 'Gold', 'evincing', 'instance', 'Help', 'liturgies', 'tornadoes', 'live', 'sultry', 'holiday', 'Pilot', 'Yoke', 'insisted', 'ports', 'RIGHT', 'hater', 'nate', 'suburbs', 'unfaltering', 'reap', 'billiard', 'factories', 'impelled', 'basketed', 'floated', 'embraces', 'deliciousness', 'vigilant', 'lustre', 'tubes', 'uncorking', 'keep', 'Spain', 'granted', 'Christian', 'horrifying', 'Cold', 'Spouter', 'ascertained', 'Creagh', 'pines', 'spikes', 'peeping', 'Polar', 'humoredly', 'disquietude', 'bunched', 'mooted', 'rolls', 'applies', 'charge', 'craft', 'specialities', 'organs', 'Oahu', 'slides', 'unwelcome', 'rightly', 'bounteous', 'express', 'appliance', 'TWO', 'essentially', 'lawless', 'Relieved', 'dismissed', 'contribute', 'cucumbers', 'commenced', 'barometer', 'Christmas', 'ponchos', 'circling', 'Tahiti', 'blackberrying', 'at', 'rendered', 'handful', 'em', 'nightfall', 'throne', 'rises', 'stunsail', 'immutable', 'Pressing', 'neglected', 'circumpolar', 'gifted', 'regularly', 'investigate', 'Mosque', 'persuade', 'quote', 'leisurely', 'sunset', 'oppose', 'Susan', 'monied', 'Impossible', 'imperiously', 'recovery', 'keeps', 'delusions', 'blotted', 'pole', 'calf', 'wields', 'beasts', 'scraped', 'billion', 'nothing', 'refill', 'pate', 'crucible', 'quaint', 'thermometer', 'pursuers', 'employed', 'agreeable', 'faster', 'dear', 'monotonous', 'typifies', 'daily', 'sepulchral', 'Descartian', 'tapping', 'verdure', 'providing', 'read', 'sorcery', 'barges', 'torpid', 'finite', 'slews', 'shoulder', 'slobgollion', 'ere', 'BLOWS', 'UNITED', 'stuck', 'howlings', 'lunges', 'Floundered', 'frigate', 'enjoy', 'BOARD', 'toder', 'entreat', 'thickness', 'constituents', 'religionists', 'goaded', 'sidelong', 'Deep', 'veracious', 'difficulties', 'scrabble', 'transpired', 'joists', 'Peruvian', 'volume', 'magniloquent', 'companion', 'detect', 'inside', 'comforters', 'bale', 'keen', 'boughs', 'veiled', 'spool', 'snowy', 'sleepless', 'allegorical', 'prosperous', 'Surmises', 'subdivisible', 'JOHN', 'unbiased', 'Australian', 'pound', 'Mogulship', 'Thames', 'tongues', 'divinest', 'bodily', 'summers', 'emblazoning', 'travelled', 'caulking', 'homewardbound', 'reporting', 'safely', 'biscuit', 'sleepers', 'narwhales', 'Crushed', 'take', 'proceed', 'patches', 'underlings', 'Potters', 'adventurously', 'plaintively', 'geographical', 'hunch', 'HO', 'freshened', 'progressive', 'uttermost', 'lunacy', 'SPITZBERGEN', 'properly', 'ANGLO', 'olfactories', 'conception', 'stupidly', 'genealogies', 'replied', 'pinmoney', 'sweeter', 'corrupt', 'inclusive', 'molesting', 'lbs', 'Post', 'appallingly', 'reserve', 'beaver', 'Thank', 'blast', 'Ground', 'General', 'sash', 'garrison', 'feasts', 'cherubim', 'vindictively', 'bumpers', '16th', 'shooting', 'Sammy', 'versions', 'ferreting', 'compile', 'darkness', 'relied', 'embellishments', 'Herculaneum', 'quickest', 'truer', 'arrah', 'BREAKERS', 'years', 'bridegroom', 'MACY', 'poison', 'plums', 'symbols', 'western', 'sailors', 'dictionaries', 'CHAPTERS', 'allowance', 'savage', 'anatomy', 'implement', 'Specksynder', 'satin', 'brilliant', 'arrived', 'dismay', 'denials', 'cashier', 'velvet', 'depict', 'inherent', 'disentangling', 'greedy', 'shan', 'overtaken', 'sideboard', 'lashless', 'salutes', 'Gods', 'BENNETT', 'hostile', 'firma', ']', 'SPLICE', 'protected', 'groupings', 'grateful', '1851', 'tyrant', 'akin', 'ensue', 'Turning', 'cosmopolite', 'braver', 'scarcity', 'whispers', 'compass', 'secure', 'Africans', 'beams', 'assailable', 'sand', 'simply', 'Archy', 'son', 'bantering', 'warmed', 'cloudless', 'meanest', 'hereditarily', 'meditativeness', 'wrestling', '1', 'untutored', 'puzzling', 'Such', 'Midwifery', 'lees', 'earnestly', 'orchestra', 'nt', 'corporal', 'spark', 'mildly', 'frenzies', 'drain', 'droves', 'lowering', 'Holloa', 'unsignifying', 'drags', 'originate', 'Whence', 'PACIFIC', 'Goldsmith', 'boastful', 'hatchways', '134', 'bob', 'transom', 'jointed', 'conclude', 'whetstone', 'Saw', 'scud', 'deprived', 'windpipe', 'porches', 'South', 'boxes', 'promontory', 'sulkies', 'his', 'bubbles', 'thunderbolts', 'doze', 'accumulated', 'Up', 'bottles', 'Darmonodes', 'REPORT', 'applicable', 'indifference', 'Brighggians', 'Ophites', 'conducted', 'juniper', 'pillar', 'GANGWAY', 'stubborn', 'goodness', 'disbelief', 'cobbling', 'barber', 'lift', 'uncompromisedness', 'falsified', 'happened', 'cannikin', 'warping', 'repressed', 'Flying', 'violence', 'apple', 'mists', 'triumph', 'shooks', 'irksome', 'brutes', '.,', 'deep', 'Rogers', 'ferocity', 'unappalled', 'shifted', 'charged', 'Tempered', 'glidest', 'integrity', 'bantam', '94', 'Oceans', 'progeny', 'letters', 'boatheader', 'Alley', 'numbness', 'Erie', 'puddings', 'assurance', 'forborne', 'maziness', 'freshening', 'rushing', '107', 'interpreters', 'summit', 'pleasing', 'wafted', 'Signals', 'animate', 'foundation', 'guarantee', 'every', 'Lackaday', 'operated', 'thews', 'impulsively', 'heedless', 'slippered', 'Venetian', '1833', 'conjured', 'mingling', 'rented', 'leeward', 'Japanese', 'cautiousness', 'warbling', 'flip', 'insensible', 'No', 'Sylla', 'accumulate', 'strife', 'Shut', 'asserted', 'tract', '75', 'Advance', 'rest', 'Woe', 'heroic', 'thundered', 'kings', 'Standing', 'drat', 'regardful', 'ordered', 'psalmody', 'difficulty', 'dispenses', 'Hurrah', 'vividly', 'append', 'Barbary', 'trapped', 'ghostly', 'pushed', 'arguing', 'triune', 'arms', 'spontaneous', 'Labrador', 'pasture', 'crouching', 'morn', 'blotting', 'Spanishly', 'bid', 'absurd', 'WHIFF', 'Who', 'miserably', 'traitors', 'draw', 'unborrowed', 'Lima', 'lotion', 'Splice', 'kindhearted', 'shouted', 'doctrine', 'Javan', 'enjoining', 'blankness', 'trust', 'Moluccas', 'da', 'scanned', 'writ', 'shock', 'WILLIS', 'Phaedon', 'Push', 'extent', 'wounds', 'exiled', 'urging', 'Cattegat', 'scarry', 'regarding', 'VESSEL', 'limitations', 'roundness', 'Amelia', 'champed', 'SHRINKING', 'impaling', 'proportionate', 'transform', 'restraint', 'barred', 'absorbed', 'Court', 'vein', 'accomplish', 'smells', 'responded', 'useless', 'legged', 'annihilated', 'THRUSTS', 'circumventing', 'medal', 'Quoin', 'Tower', 'souls', 'chimney', 'satiety', 'fissure', 'seventh', 'virtues', 'secured', 'castors', 'Patagonia', 'memory', 'grassy', 'vanish', 'tensing', 'uniformly', 'laying', 'balena', 'liked', 'channels', 'promotion', 'accuracy', 'crowning', 'heights', 'heathen', 'Watts', 'lady', 'unconscious', 'freckles', 'circular', 'Meshach', 'Woo', '10', 'blighted', 'furred', 'whirls', 'fish', 'my', 'citation', 'handing', 'melting', 'tempered', 'title', 'alluring', 'Belshazzar', 'mazes', 'plaintiffs', 'mints', 'elevates', 'presented', 'pang', 'slogan', 'bottled', 'poet', 'sharp', 'convalescing', 'physiognomically', 'conflagrations', 'Nose', 'bowls', 'scene', 'assures', 'dome', 'greatest', 'wave', 'earliest', 'spirit', 'repairing', 'metaphysical', 'Latin', 'foreheads', 'pastures', 'standpoint', 'entitle', 'exhaustion', 'deity', 'enjoyed', 'dere', 'Kentucky', 'soil', 'fable', 'nailing', 'sagacity', 'awe', 'dong', 'brevet', 'palate', 'serpentines', 'spins', 'prowling', 'presentiment', 'supernaturally', 'Discovery', 'detract', 'serpentine', 'farmers', 'whitewashed', 'submarine', 'contradictory', 'disciple', 'precise', 'perspective', 'milk', 'nominally', 'refuses', 'countersunk', 'badge', 'weal', 'delighted', 'sighting', 'here', 'prefix', 'College', 'envoy', 'apex', 'downright', 'liberation', 'retaining', 'pointing', 'code', 'about', 'visitors', 'deficiency', 'lettered', 'moonlight', 'pierce', 'weazel', 'celled', 'superfluousness', 'disport', 'encircling', 'intense', 'thinkings', 'Galleries', 'Below', 'stolen', 'crossed', 'rubbed', 'cassock', 'pressure', 'lieutenants', 'moor', 'forebodings', 'Commonly', 'offspring', 'fundamentals', 'WATCH', 'Wish', 'druggist', 'prompts', 'eating', 'royal', 'temples', 'latch', 'proposed', 'slain', 'BREAKWATER', 'equinox', 'Horrible', 'membrane', 'binder', 'riotous', 'unexpected', 'playfully', 'concentrate', 'request', 'facetiousness', 'quohogs', 'gallon', 'interpret', 'magnetism', 'hindmost', 'hinted', 'hissed', 'ELIZABETH', 'predictions', 'polished', 'youngish', 'description', 'relations', 'constrained', 'swings', 'ROBERT', 'peremptory', 'scented', 'gravely', 'fearlessness', 'Unicornism', 'bleeds', 'while', 'muster', 'extend', 'maidens', 'potatoes', 'watching', 'aspect', 'NO', 'collection', 'explosion', 'busy', 'besooted', 'loving', 'maintained', 'womb', 'forfeitures', 'remonstrances', 'conscientious', 'pounds', 'Lama', 'undaunted', 'collar', 'inoffensive', 'parenthesize', 'insinuated', 'sufficit', 'Madame', 'leans', 'overpowered', 'distrusted', 'rogue', 'unostentatious', 'smile', 'famous', 'federated', 'Through', 'eminence', 'skin', 'exterminates', 'invoked', 'favourable', '63', 'strives', 'spraining', 'construct', 'unsocial', 'divings', 'way', 'comfort', 'prelusive', 'mongering', 'flaky', 'justify', 'BEFORE', 'sketching', 'glides', 'stepping', 'relatively', 'crazy', 'explanatory', 'Deer', 'stratagem', 'bivouacks', 'bestir', 'community', 'eighty', 'baboon', 'stripped', 'Judges', 'bottomed', 'joosy', 'hones', 'scarcely', 'prating', 'widowed', 'dry', 'scolds', 'molten', 'Earl', 'sepulchre', 'figure', 'Unerringly', 'Bonneterre', 'Cuba', 'disabled', 'exasperated', 'flour', 'subalterns', 'arise', 'WALW', 'misgiving', 'cleansed', 'portentous', 'fevers', 'doorway', 'plying', 'perisheth', 'patronising', 'villanous', 'Camel', 'hunted', 'mishaps', 'buck', 'gather', 'hope', 'Animated', 'idealized', 'bitin', 'Damn', 'unlighted', 'Forthwith', 'pinned', 'Backs', 'hideous', 'counteracted', 'healthy', 'pursuing', 'land', 'Prince', 'Others', 'motley', 'included', 'trough', 'calculating', 'companionable', 'ambiguous', 'circumstanced', 'undulation', 'elves', 'cables', 'inboard', 'toiling', 'lot', 'copestone', 'probable', 'Retreating', 'barbecue', 'needing', 'pantry', 'indignations', 'comprising', 'wan', 'Painter', 'hams', 'fired', 'oh', 'consorted', 'gettest', 'shoe', 'Besides', 'subterraneous', 'mixing', 'seer', 'yourselbs', 'sogger', 'Bell', 'mattress', 'warehouses', 'sparing', 'swamps', 'laughs', 'ATTITUDES', 'Superior', '17', 'Fisheries', 'Webster', 'discovering', 'foremost', 'obstinate', 'Dons', 'Folger', 'nervousness', 'ay', 'happily', 'table', 'projecting', 'spells', 'consume', 'Narragansett', 'encircles', 'twigs', 'because', 'belly', 'steal', 'Niagara', 'resulting', 'capping', 'Congregation', 'RIGGING', 'Dominic', 'HOBBES', 'lacks', 'Falsehood', 'longings', 'passports', 'Scales', 'aforesaid', 'salute', 'begin', 'mark', 'fencer', 'autumn', 'GREENLAND', 'surrender', 'haughty', 'whaleships', 'bleakness', 'Rig', 'Eternities', 'unthought', 'privations', 'primitively', 'investigators', 'Feegeeans', 'mummies', 'noiselessness', 'Crowding', 'lengthen', 'fathom', 'mariner', 'uncle', 'Frobisher', 'dun', 'kill', 'kingly', 'Rocks', 'associated', 'javelin', 'rummaged', 'dissect', 'warned', 'lasted', 'unaccounted', 'Every', 'HAVING', 'cup', 'though', 'Cockatoo', 'backward', 'ceaseless', 'privileges', '440', 'helpless', 'monumental', '100', 'unrivalled', 'clinch', 'VEIN', 'State', 'Jury', 'confess', 'waterproof', 'balmy', 'Stoic', 'scientific', 'uncommonly', 'sayst', 'generations', 'evoke', 'cyphers', 'hopeful', 'corridors', 'lull', 'destination', 'benevolence', 'howls', 'proffer', 'village', 'ranges', 'antique', 'Bench', 'translation', 'providentially', 'Jungfrau', 'oars', 'folio', 'TAIL', 'sunsets', 'derived', 'speed', 'brewed', '55', 'diluted', 'morrow', 'paddles', 'unprecedentedly', 'invariable', 'treats', 'coolly', 'diadem', 'marks', 'spademan', 'Boomer', 'shirt', 'lanes', 'confine', 'fashion', 'captains', 'flag', 'remnants', 'overspread', 'piggin', 'hit', 'purchased', 'duly', 'how', 'deluge', 'inspecting', 'shouts', 'Abednego', 'clamber', 'LASHINGS', 'Coke', 'FISH', 'beaching', 'waggish', 'gun', '130', 'mizen', 'villages', 'tool', 'Sweet', 'happenest', 'trod', 'rollicking', 'handed', 'subsists', 'shoot', 'taunts', 'aware', 'constrain', 'powers', 'succeeds', 'grasping', 'meadows', 'anatomical', 'Poles', 'thieves', 'revolving', 'pioneer', 'sorter', 'ties', 'hems', 'Seneca', 'sneaking', 'Mysteriously', 'Fitz', 'fetched', 'czar', 'stooped', 'purchasing', 'creditor', 'Won', 'Muster', 'outblown', 'bold', 'cough', 'Ha', 'Rattle', 'Pippin', 'uncheered', 'surprising', 'deceptive', 'expression', 'fantasy', 'tribe', 'unavoidably', 'turned', 'peak', 'barest', 'carnivorous', 'no', 'unnearable', 'Hang', 'helping', 'Doesn', 'insane', 'women', 'dawn', 'ferocious', 'busks', 'lath', 'rechurned', 'temperate', 'irrespective', 'willains', 'assailed', 'lexicographer', 'Originally', 'distinguished', 'Blanc', 'lead', 'Fanning', 'Comparing', 'Throttling', 'living', 'FREDERICK', 'rolled', 'chewing', 'unloitering', 'leader', 'withdraw', 'Dauphine', 'Born', 'cartloads', 'directions', 'Arsacidean', 'climbed', 'bulls', 'stanzas', 'beginning', 'exhibited', 'brazen', 'Joy', 'vero', 'colonnades', 'cabalistical', 'persist', 'reclines', 'Mesopotamian', 'snapped', 'regulating', 'ancient', 'Teneriffe', 'rise', 'Sailing', 'pilots', 'fountains', 'bad', 'Blind', 'intertwistings', 'cherrying', 'ventricles', 'pillow', 'destruction', 'Let', 'Oh', 'motto', 'happier', 'buckskin', 'Arter', 'unpanelled', 'unchanging', 'stall', 'devote', 'undertaken', 'Quebec', 'excursion', 'cruel', 'cigars', 'inglorious', '31st', 'accomplishment', 'Cetacean', 'Vehemently', 'Opposite', 'Doctor', 'knights', 'sovereign', 'curses', 'tinkerings', 'paled', 'one', 'female', 'murdered', 'goat', 'preach', 'protect', 'flutterings', 'booming', 'New', 'manmaker', 'feelingly', 'nosed', 'puffing', 'DIGNITY', 'densely', 'cell', 'interlinked', 'inward', 'ploughing', 'Barrens', 'swam', 'deriding', 'twisted', 'minced', 'pestilent', '--(', 'extinguishing', 'contemptuously', 'districts', 'groom', 'accounted', 'glorious', 'Further', 'tenderly', 'parting', 'saplings', 'saddest', 'nasty', 'congealed', 'homewards', 'airth', 'illustrative', 'desire', 'inscrutable', 'supplying', 'runs', 'blinds', 'spied', 'Socratic', 'frames', 'trembles', 'speedy', 'Arkite', 'junk', 'fornication', 'sermon', 'catarrhs', 'beware', 'pointed', 'vessel', 'battle', 'pursued', 'Dunkirk', 'fragments', 'Cadiz', 'dissociated', 'dissolutions', 'Byward', 'tasting', 'Led', 'busying', 'dogger', 'promissory', '?\"', 'fairly', 'materially', 'threads', 'incited', 'octavo', 'consisted', 'Berkshire', 'inquiring', 'unfractioned', 'contemplations', 'engine', 'Louis', 'maidenly', 'Thanks', 'doored', 'dames', 'bitterer', 'trimmed', 'serene', 'sallies', 'suction', 'incommunicable', 'befriended', 'advances', 'obliged', '29', 'conscientiously', 'Bashee', 'archaeological', 'gam', 'sinews', 'consistence', 'resided', 'Ahoy', 'yourself', 'heels', 'profuse', 'leading', 'disposed', 'Hecla', 'oasis', 'quilt', 'ELECTION', 'evaporate', 'defendants', 'dreaded', 'eternam', 'admonished', 'motioned', 'whenever', 'afoul', 'visage', 'bar', 'depend', 'oil', 'regions', 'above', 'Spermacetti', 'tossing', 'ARE', 'daybreak', 'testily', 'jabbering', 'senate', 'Broad', 'assail', 'pout', 'citations', 'beholder', 'Thrusting', 'gruff', 'pangs', 'Hosea', 'scalping', 'remarked', 'spears', 'furls', 'Roll', 'apparently', 'rig', 'anxious', 'headlands', 'Dantean', 'bearskin', 'agree', 'unconsciousness', 'supplicating', 'spiralizing', 'Richard', 'DARWIN', 'pours', 'glorified', 'spiracles', 'adown', 'soggy', 'make', 'careens', 'treacherously', 'alluded', 'irresolution', 'lone', 'gave', 'loosely', 'embrace', 'fatalities', 'coves', 'Coenties', 'shape', 'exceeding', 'Chart', 'circle', 'weaving', 'inhabitant', 'lose', 'Slope', 'epaulets', 'eh', 'curios', 'Thomas', 'spiracle', 'chiefly', 'earthy', 'jewels', 'portions', 'jaundice', 'twiske', 'vagabond', 'thorough', 'DANCE', 'brains', '--\"', 'crookedly', 'eddied', 'distinctive', 'inscribed', 'acridness', 'ibis', 'formidable', 'another', 'admirers', 'soladoes', 'dashed', 'populous', 'bat', 'measurement', 'model', 'LETTER', 'patted', 'mount', 'conveyed', 'lazy', 'deeds', 'oak', 'Tomahawk', 'unapparent', 'bottle', 'Foremost', 'cups', 'punctilious', 'popular', 'bathe', 'adult', 'remove', 'ham', 'middle', 'Crazed', 'latest', 'black', 'glimpse', 'maimed', 'HIST', 'planisphere', 'undeveloped', 'whips', 'ideas', 'affrights', 'believed', 'unread', 'watchmakers', 'inequality', 'flog', 'blackish', 'tumults', 'woodlands', 'carpets', 'shriek', 'misty', 'clingest', 'sorely', 'willingly', 'Esquimaux', 'renounced', 'trances', 'rust', 'morally', 'ditches', 'intermission', 'naval', 'Tophet', 'constructed', 'mantle', 'penalties', 'Can', 'ascribe', 'solaces', 'monarchs', 'unfurling', 'uneasy', 'gored', 'valuable', 'abate', 'dippers', 'tetering', 'think', 'hies', 'eloquent', 'pallidness', 'toddies', 'saving', 'Plunge', 'officer', 'Blacksmith', 'Euroclydon', 'Squires', 'Symphony', 'supplementary', 'decipher', 'from', 'believe', 'concerning', 'simple', 'Want', 'quickening', 'penniless', 'violets', 'played', 'penetrating', 'departments', 'hesitatingly', 'grace', 'deplore', '112', 'stacking', 'curing', 'periodical', 'case', 'potentially', 'mammis', 'dictatorship', 'husband', 'attack', 'Fair', 'bolted', 'apoplexy', 'wailings', 'constellations', 'numberless', 'Santa', 'Fool', 'headlong', 'tumultuously', 'augment', 'Oars', 'snatched', 'extraordinary', 'puissant', 'drove', 'Porpoise', 'daft', 'obstetrics', 'Nevertheless', 'squadrons', 'heralding', 'snugness', 'X', 'contrive', 'bamboo', 'banded', 'foreground', 'Columbus', 'Whalemen', 'penem', 'intemperately', 'frighted', 'obtains', 'braiding', 'that', 'save', 'sore', 'Stylites', 'safe', 'embodied', 'steadfast', 'education', 'pavement', 'VI', 'coated', 'Manx', 'unexempt', 'muskets', 'rebelled', 'contrary', 'prints', 'obeyest', 'Lightning', 'mask', 'melodious', 'irresolute', 'headway', 'exactness', 'scarce', 'trysail', 'bodings', 'persuasions', 'LETTERS', 'number', 'graces', 'irascible', 'oxen', 'HOLLAND', 'ceasing', 'leviathan', 'Joe', 'intensely', 'healed', 'GLOBE', 'merchant', 'multiply', 'overawing', 'wooing', 'Castaway', 'felt', 'avenger', 'Gentlemen', 'glim', 'disproved', 'teachings', 'Society', 'plagues', 'brute', 'mail', 'likewise', 'pale', 'Hawaiian', 'gallantry', 'stakes', 'SLEEP', 'inexplicable', 'elaboration', 'meanwhile', 'counsellors', 'Long', 'freshet', 'racket', 'bailiff', 'infuriated', 'swamped', 'sugary', 'spring', 'haply', 'unusable', 'Vaticans', 'hamlets', 'dowers', 'shabby', 'stiletto', 'ferociousness', 'astronomical', 'inoffensiveness', 'nameless', 'despot', 'From', 'habitudes', 'reeled', 'dey', 'nosegays', 'UP', 'print', 'vaults', 'Trades', 'SINGS', 'text', 'tepid', 'Walfish', 'spoons', 'intestines', 'breath', 'loadstone', 'bunks', 'Isle', 'lucky', 'diametrically', 'FRENCH', 'poled', 'anybody', 'accordance', 'credentials', 'examine', 'curved', 'tangle', 'shutters', 'bells', 'gradually', 'sacrilegious', 'unavoidable', 'SAIL', 'repute', 'OFFICIO', 'companionship', 'Within', 'juncture', 'partly', 'Tarquin', 'raging', 'step', 'unalloyed', 'Memory', '102', 'trees', 'gamesome', 'hugging', 'hogsheads', 'agonizingly', '.--\"', 'unconsumed', 'Gases', 'branch', 'desperado', 'babyish', 'vengeful', 'statue', 'knaves', 'morsel', 'hats', 'wealthy', 'Cod', 'curds', 'candles', 'sheet', 'crosslights', 'wonderfulness', 'exhausting', 'lave', 'tipping', 'sneaks', 'SNEEZES', 'literally', 'CRUIZE', 'priority', 'WHALE', 'actively', 'tree', 'upwards', 'domestic', 'abhorrence', 'persuasiveness', 'cats', 'Aroostook', 'overdoing', 'dew', 'miasmas', 'Will', 'sinks', 'liberal', 'parm', 'reversed', 'Bottom', 'thither', 'Teeth', 'Case', 'ripped', 'idiotic', '.*', 'conveyance', 'cobweb', 'telegraph', 'manifesto', 'skiff', 'sleeves', 'deserves', 'walruses', 'Patience', 'imaginations', 'fluid', 'wheat', 'unattended', 'chiefs', 'fireside', 'elevated', 'adroit', 'recurring', 'rover', 'moccasined', 'pruning', 'rioting', 'underground', 'helm', 'ignorance', 'mocks', 'multiplicity', 'perfect', 'break', 'quest', 'displays', 'Evil', 'echo', 'Satanic', 'fagot', 'historians', 'important', 'quoins', 'moment', 'unspoken', 'BEWARE', 'wondrous', 'offering', 'unrigged', 'glitters', 'drive', 'sails', 'unbounded', 'kink', 'possible', 'treasure', 'searches', 'applying', 'vicissitudes', 'stumped', 'BALEINE', 'contemplating', 'Grenadier', 'declare', 'pin', 'er', 'Yale', 'blithe', 'phrenologically', 'leering', 'periods', 'palisades', 'Greeks', 'yards', 'Pantheists', 'narrowly', 'Reckon', 'caking', 'tripod', 'imperceptibly', 'timorous', 'tribulations', 'sickness', 'webbed', 'grieve', 'applied', 'spoil', 'lancers', 'heron', 'removed', 'cushioned', 'gamesomeness', 'hostility', 'reports', 'hearken', 'graves', 'visited', 'kelson', 'LIE', 'sucking', 'overlording', 'gleamings', 'slay', 'ensued', 'Quarter', 'requisition', 'Aft', 'documents', 'slacken', 'hurrah', 'Herman', '127', 'profession', 'glance', 'Hunter', 'stun', 'swung', 'affluent', 'rusty', 'estate', 'thundering', 'perform', '65', 'unfearing', 'filial', 'approach', 'glanced', 'unwillingness', 'position', 'Holy', 'signing', 'supreme', 'antidote', 'specially', 'managing', 'lethargy', 'murderous', 'characteristics', 'swing', 'view', 'sweetness', 'telling', 'represent', 'Whale', 'Lo', 'placard', 'Leading', 'pledges', 'goats', 'restores', 'American', 'Mr', 'nurseries', 'resounded', 'Quohog', 'probabilities', 'ability', 'witch', 'undiluted', 'elevate', 'capricious', 'lovely', 'messmates', 'Sleeping', 'bravery', 'monsters', 'furnaces', 'seizing', 'solicited', 'PILGRIM', 'stirred', 'Shore', 'STANDING', 'velocity', 'unwedded', 'HACKLUYT', 'lay', 'assignment', 'delicately', 'side', 'brokenly', 'bower', 'pennant', 'weep', 'canted', 'wetter', 'Pulling', 'Running', 'dogging', 'lessons', 'athirst', 'crackled', 'fathoms', 'putting', 'convent', 'smokers', 'powders', 'appetite', 'bladed', 'voyages', 'aspirations', 'ancestors', 'ejaculated', 'fobbing', 'mortalities', 'REFERENCE', 'unerring', 'Seek', 'cheeks', 'oaths', 'NESTS', 'mountaineers', 'rubies', 'housekeepers', 'translated', 'Cap', 'blent', 'ominous', 'premises', 'affirmative', 'calms', 'endurance', 'footpads', 'squilgee', 'manoeuvred', 'west', 'Lower', 'consequent', 'altogether', 'sculptures', 'buried', \"',--\", 'angle', ').--', 'fights', 'Smithfield', 'swaying', 'ruefully', 'handling', 'lest', 'endlessly', 'climax', 'common', 'marquee', 'reelingly', 'palms', 'quivers', 'unvitiated', 'intimate', 'slightest', 'scowl', 'contemplation', 'stillness', 'gilded', '50', 'Vidocq', 'incumbrance', 'LIFE', 'Himmalehan', 'may', 'guard', 'dispirits', 'citadels', 'curse', 'standard', 'expertness', 'abstract', 'wooden', 'surely', 'spoken', 'elated', 'CUVIER', 'throb', 'colonial', 'branding', 'fell', 'politely', 'cash', 'Pampas', 'PIP', 'groin', 'attempt', 'invocations', 'Twill', 'shunned', 'strips', 'sherbet', 'loggerhead', 'genera', 'untraditionally', 'memorable', 'second', 'beat', 'To', 'encountered', 'mince', 'into', 'lassitude', 'EMBONPOINT', 'migrating', 'symmetry', 'baptized', 'dodging', 'TURNS', 'donning', 'moments', 'God', 'agitated', 'calmly', 'hospitality', 'fled', 'extending', 'differ', 'COWPER', 'straight', 'lumps', 'holes', 'Aristotle', 'enlist', 'flaked', 'Fasting', 'apartment', 'feminine', 'encamp', 'dismembering', 'Americans', 'blowing', 'neck', 'dog', 'fiercer', 'austere', 'billed', 'Future', 'Steelkilt', 'whalin', 'original', 'fallacious', 'profusion', 'booms', 'Electors', 'snare', 'Anacharsis', 'semiweekly', 'slouching', 'drag', 'handspike', 'formal', 'biased', 'anticipatingly', 'philosopher', 'ASCENDING', 'end', 'SKY', 'ensuing', 'tells', 'proprietors', 'quitted', 'fortunes', 'readiness', 'venting', 'obliquity', 'faced', 'hearse', 'Brace', 'platform', 'provincial', 'affronted', 'heavers', 'schoolmaster', 'pryed', 'kind', 'exulting', 'hunts', 'summoning', 'Anatomist', 'merely', 'Horner', 'justly', 'Hartz', 'seeks', 'Drat', 'damning', 'mouldings', 'salutations', 'vapoured', 'handsome', 'instantly', 'perpetuates', 'sinful', 'F', 'polishing', 'resolved', 'capitals', 'seemingly', 'disks', 'oils', 'intrepidly', 'disrated', 'exhort', 'Probably', 'descrying', 'historical', 'assembled', 'remarkable', 'whereby', 'TOOKE', 'graceful', 'peals', 'Spencer', 'verbatim', 'Gamming', 'noteworthy', 'Cowper', 'Gospel', 'Sometimes', 'studied', 'leak', 'Railroads', 'conjures', 'togs', 'melancholy', 'backbone', 'severed', 'antics', 'slippery', 'preliminary', 'crater', 'Spurn', 'promised', 'gnawed', 'bedfellows', 'COOPER', 'Gulfweed', 'Methuselah', 'cruise', 'horse', 'intellectual', '82', 'TWICE', 'torture', 'monarch', 'willingness', 'beacon', 'plaited', 'Propontis', 'disguisement', 'enjoins', 'Dante', 'druggists', 'sword', 'sulks', 'answers', 'mastery', 'Narcissus', 'clicked', 'between', 'brittle', 'shreds', 'dedicating', 'marrow', 'decree', 'liver', 'approve', 'harmed', 'assistance', 'ditchers', 'heaven', 'van', 'hem', 'frights', 'Pig', 'torrents', 'syllable', 'recent', 'comforts', 'authorities', 'Asiatics', 'butteries', 'undiscovered', 'Frenchman', 'width', 'Tuileries', \",'--\", 'Hurriedly', 'month', 'disjointedly', 'ordaining', 'chairs', 'hoard', 'fagged', 'cents', 'Far', 'pulled', 'joiner', 'toadstools', 'compress', 'vertu', 'direct', 'prisoner', 'impairing', 'dream', 'inferiority', 'survival', 'sprouts', 'shadings', 'transplanted', 'large', 'brigs', 'intellect', 'per', 'riddles', 'jobs', 'Sullenly', 'moustache', 'combination', 'whirlwinds', 'witty', 'crimson', 'chance', 'roundabout', 'scorch', 'Crockett', 'recumbent', 'PRESSED', 'Humiliation', 'Radney', 'Started', 'NANTUCKET', 'GAZING', 'massacre', 'Albemarle', 'untimely', 'gayer', 'anywhere', 'admirable', 'cupola', 'confounding', 'moreover', 'congeal', 'scale', 'BEALE', 'King', 'pauselessly', 'tidings', 'LATIN', 'Texas', 'hides', 'spouted', 'HIM', 'consuming', 'corals', 'Jenny', 'UNWINDING', 'mislead', 'ventilated', 'afraid', 'pair', 'undecipherable', 'disappearing', 'expired', 'Syrian', 'contemplative', 'squash', 'yelling', 'vicinity', 'weathers', 'green', 'Affected', 'galls', 'Jinglers', 'appears', 'subtilty', 'archangelic', 'tribute', 'shocks', 'shoemaker', 'animating', 'AFRICA', 'tent', 'talks', 'yoke', 'plumed', 'deliverance', 'ivory', 'ceti', 'chaotic', 'indiscriminately', 'loam', 'Nail', 'preluding', 'symbolically', 'adieux', 'juggling', 'druggs', 'hollows', 'pedigree', 'loading', 'Rhenish', 'FOLIOS', 'recollect', 'KEDGER', 'motion', 'halt', 'facilitating', 'wanton', 'hatch', 'Americas', 'bravest', 'hallucination', 'tightened', 'decks', 'Sperm', 'SAILOR', 'frequently', 'ejaculates', 'invertedly', 'tattooing', 'smoking', 'thenceforth', 'Aside', 'habituation', 'vast', 'last', 'manikin', 'REPUBLICA', 'Mother', 'TIMES', 'breathing', 'skippers', 'Venetianly', 'luff', 'dusky', 'pear', 'profiles', 'duplicates', 'true', 'externals', 'scorched', 'glistening', 'deserved', 'peaceable', 'Curse', 'unvexed', 'trim', 'bespeak', '31', 'field', 'waterward', 'Ceylon', 'they', 'holds', 'Nothing', 'Eckerman', 'HAILS', 'Jones', 'strands', 'Lieutenant', 'DECK', 'disappeared', 'led', 'oftenest', 'decidedly', 'replace', 'marvelled', 'greyhound', 'retentive', 'SCENE', 'Banks', 'leg', 'hooking', 'cracked', 'determining', 'stopped', 'glued', 'demigod', 'Asia', '$', 'umbilical', 'longer', 'bejuggled', 'deserve', 'eminently', 'painting', 'fissures', 'Whelped', 'vernacular', 'equalled', 'lamps', 'essays', 'vent', 'Cave', 'material', 'respects', 'waifing', 'miser', 'BEING', 'Leuwenhoeck', 'sprinklings', 'betokening', 'gardening', 'friction', 'repels', 'PARVO', 'inquire', 'series', 'vertical', 'chronicled', 'able', 'repeat', 'remembrance', 'intelligently', 'striking', 'ridden', 'Walking', 'thickening', 'boasts', 'sided', 'sleepiest', 'departed', 'fang', 'cathedrals', 'reposing', 'serves', 'Or', 'comical', 'outfits', 'flail', 'shipwrecked', 'coffined', 'foaming', 'reflections', 'incredulous', '30', 'creatures', 'spurs', 'unhorse', 'overdone', 'passer', 'doer', 'accordingly', 'speech', 'deformity', 'disinterred', 'aloft', 'deck', 'Send', 'asphaltic', 'studded', 'lavish', 'begins', 'Season', 'dams', 'Queequeg', 'd', 'parried', 'Oceanica', 'dabs', 'willed', 'combing', 'skewered', 'wheezing', 'gamboge', 'damage', 'orbs', 'systematization', 'spire', 'wharves', 'E', 'initials', 'Dead', 'vicissitude', 'intervals', 'freebooters', 'sage', 'masterly', 'solecism', 'forbear', 'management', 'feelings', 'concubines', 'SULPHUR', 'inexperience', 'FORGE', 'reading', 'opium', 'foaled', 'frenzy', 'conical', 'degenerated', 'repaired', 'alarms', 'intermeddling', 'tenpin', 'bewildered', 'crashing', 'scared', 'please', 'attain', 'Bay', 'Illinois', 'redundant', 'eye', 'comprised', 'partitioned', 'omnipotent', 'buttered', 'Olmstead', 'thus', 'Fetch', 'combinedly', 'vice', 'paved', 'fitly', 'highway', 'frigates', 'loungingly', 'weaves', 'Shifting', 'speculations', 'unknown', 'ribboned', 'girdling', 'Archer', 'i', 'career', 'eggs', 'domineered', 'sanctorum', 'seethings', 'essence', 'fisheries', 'hospital', 'amounts', 'cubs', 'extra', 'bonnet', 'Procopius', 'stitch', 'sluggish', 'as', 'Halloa', 'noting', 'roving', 'aspiring', 'dawning', 'circumspection', 'exclude', 'heading', 'shoreless', 'Tunnels', 'amorous', 'paramount', 'thump', 'joist', 'landless', 'insulted', 'swiftness', 'monster', 'beds', 'police', '33', 'cocks', 'Shaking', 'WORK', 'hosts', 'yielding', 'Archipelagoes', 'et', 'Nick', 'calabash', 'BLACKSMITH', 'race', 'opened', 'higher', 'carpenters', 'pine', 'pox', 'sled', 'exchanging', 'Hill', 'gleams', 'grazes', 'claim', 'Harry', 'insomuch', 'lesser', 'singed', 'arid', 'magazine', 'inhale', 'inch', 'Find', 'exemplary', 'oar', 'forged', 'pre', 'steps', 'quite', 'ASIDE', 'confessed', 'Hear', 'beadle', 'torrid', 'clutched', 'aggravate', 'bipeds', 'imparts', 'folds', 'schoolboys', 'whisker', 'landsman', 'philosophies', 'deeps', 'SOMETHING', 'personality', 'geologist', 'cared', 'list', 'movement', 'hinge', 'countryman', 'clings', 'Dr', 'clergy', 'gills', 'reprimand', 'Hussey', '.\"', 'pacing', 'wraps', 'heartily', 'Throw', 'Furthermore', 'leagued', 'GLEIG', 'somerset', 'navy', 'anger', 'cogent', 'ultimate', 'Square', 'OF', 'completing', 'kennel', 'ridge', 'attentively', 'surmises', 'us', 'plank', 'composed', 'jiffy', 'squeezed', 'trampled', 'primeval', 'amphitheatrical', 'scheming', 'reputation', 'scuttle', 'Skeleton', 'inability', 'permanently', 'hussar', 'kith', 'stuff', 'Albatross', 'taste', 'spoiling', 'milkiness', 'tranquil', 'worshipped', 'shoaling', 'was', 'peaks', 'writhing', 'uttons', 'forehead', 'Snodhead', 'pottery', 'story', 'tingling', 'manhandle', 'imagination', 'bend', 'smote', 'QUIETLY', 'paused', 'calamities', 'rivallingly', 'unspeakably', 'dismemberer', 'dimensions', 'horrible', '....', 'FIRST', 'Works', 'kills', 'stampings', 'stray', 'heart', 'streams', 'Upon', 'BROWN', 'stronger', 'Wants', 'consulting', 'dreamiest', 'Lord', 'mysterious', 'cataract', 'replenish', 'hatched', 'withdrew', 'cistern', 'gate', 'circumference', 'newlanded', 'metaphysically', 'freshly', 'floating', 'hatchet', 'chips', 'malignantly', 'avoid', 'irons', 'Abominable', 'warnings', 'scuffling', 'jinglers', 'childlessness', 'Hitherto', 'leaf', 'baskets', 'Shem', 'unfrequented', 'alike', 'Fish', 'secluded', 'savages', 'learning', 'myrrh', 'jalap', 'WHARTON', 'busts', 'NUDGING', 'unwithdrawn', 'Ports', '?\"--', 'unborn', 'agonizing', 'Accursed', 'winged', 'barricade', 'piled', 'unfallen', 'bottom', 'pocketing', 'flush', 'amaze', 'plunge', 'namelessly', 'enlarged', 'foregone', 'billows', 'exceeded', 'reined', 'perches', 'Laplander', 'counted', 'entry', 'ligature', 'Rising', 'border', 'streaked', 'Pole', 'hammock', 'elderly', 'receive', 'Expedition', 'humanities', 'inhabitants', 'mortally', 'BACON', 'forgets', 'becomes', 'wherein', 'forgive', 'Hudson', 'sill', 'penny', 'severe', 'canoe', 'treated', 'Vishnu', 'transports', 'Enter', 'ingeniously', 'hull', 'resolves', 'afflicted', 'Kee', 'falling', 'knock', 'lunatic', 'pennons', 'succor', 'sacramental', 'commodores', 'Their', 'grounded', 'flowed', 'perilously', 'recollection', 'cream', 'substantial', 'Bernard', 'parsley', 'AT', 'peacefully', 'generalizing', 'amount', 'passionlessness', 'fading', 'beggars', 'costliest', 'Parliament', 'shrivelled', 'gastric', 'Halting', 'locality', 'chilly', 'warringly', 'incorporated', 'godhead', 'nimble', 'staved', 'dallied', 'stolidity', 'students', 'Stir', 'rainy', 'artful', 'diddled', 'contest', 'Jollily', 'wanting', 'copper', 'forecastles', 'printed', 'superiors', 'creeds', 'glowing', 'untouched', 'perish', 'exasperations', 'royals', 'funeral', 'sashless', 'credulous', 'slung', 'bitingly', 'slits', 'Already', 'superadd', 'sphere', 'monstrousest', 'Returning', 'cerebellum', 'solitudes', 'impotence', 'slips', 'whim', 'swell', 'gradations', 'O', 'tucking', 'towering', 'people', 'brings', 'statistically', 'forswears', 'Spitzbergen', 'cannot', 'symptoms', 'refer', 'skrimshander', 'rechristened', 'dention', 'Whosoever', 'quiescent', 'Anvil', 'sapling', 'drawn', 'gunwale', 'houseless', 'aggregate', 'door', 'beset', 'lurches', 'underived', 'particles', 'hieroglyphical', 'reverential', 'circumnavigation', 'an', 'volley', 'Wondrous', 'puts', 'procure', 'asked', 'published', 'planing', 'infliction', 'working', 'Certainly', 'BENCH', 'yourselves', 'perchance', 'thankless', 'royalties', 'nailest', 'spontaneously', 'wigwams', 'accommodated', 'mayest', 'arch', 'aint', 'Close', 'Doubloon', 'weltering', 'Raise', 'tilt', 'respond', 'Algerine', 'deftly', 'infected', 'Nimble', '16', 'Soloma', 'shaft', 'executioner', 'panting', 'Grounds', 'fullest', \"',\", 'distinctly', 'unyielding', 'injury', 'End', 'calculate', 'insensibly', 'few', 'infatuated', 'Thirty', 'visual', 'Icelandic', 'Deity', 'scrolls', 'soars', 'lucifer', 'ren', ':--', 'waste', 'reply', 'MONTGOMERY', 'help', 'plans', 'zay', 'Paint', 'strangest', 'suspends', 'commandment', 'warning', 'cursed', 'partnership', 'northward', 'terra', 'cheerfulness', 'smaller', 'wildness', 'interruption', 'watery', 'theory', 'brimmed', 'devil', 'Dutchman', 'stiffest', 'stairs', 'Few', 'features', 'ratification', 'sex', 'locker', 'cooled', 'Flip', 'SNEEZING', 'WALLER', 'write', 'settled', 'excellent', 'beam', 'rainbows', 'pertinacious', 'sling', 'integral', 'interesting', 'bark', 'supervision', 'filled', 'Whales', 'detail', 'recorded', 'century', 'Westers', 'tokens', 'mansion', 'dying', 'Bungle', 'anonymous', 'wilfulness', 'whosoever', 'boy', 'jeopardize', 'elusive', 'fact', 'borders', 'combinations', 'exactitude', 'nowhere', 'oblivious', 'Philip', 'contracted', 'MAT', 'satisfied', 'immensity', 'trampling', 'vermillion', 'abstraction', 'AND', 'afford', 'sets', 'shore', 'Crack', 'exploding', 'keenest', 'takes', 'screwed', 'ENTER', 'Albert', 'Seeva', 'spent', 'sooty', 'immensely', 'mischief', 'formally', 'Orientals', 'napkins', 'wast', 'renouncing', 'Manhattoes', 'cleats', 'orthodox', 'ornamented', 'harsh', 'craters', 'raises', 'ascendency', 'paddled', 'associations', 'running', 'Log', 'screwing', 'hurt', 'Senor', 'slopes', 'Next', 'legerdemain', 'palace', 'fearful', 'streaming', 'musket', 'gushing', 'decide', 'If', 'steak', 'fawned', 'whiskey', 'abominable', 'generously', 'supernaturalism', 'commonalty', \"?'--'\", 'moderns', 'Bring', 'fail', 'tri', 'unceasing', 'Three', 'chuckle', 'unfathomable', 'upwardly', 'former', 'Give', 'squaw', 'chapters', 'announced', 'whereas', 'CIRCUMNAVIGATION', 'supposed', 'plains', 'gang', 'Cachalot', 'garden', 'falsely', 'investigation', 'minutest', 'rim', 'sent', 'mouths', 'COILS', 'deaden', 'operations', 'stalwart', 'murmured', 'Linnaeus', 'partially', 'gaunt', 'brawn', 'narrated', 'mumbling', 'subterraneousness', 'hollowly', 'quoggy', 'sighed', 'challenge', 'sucked', 'wounding', 'dissatisfaction', 'thick', 'necessitates', 'thirteen', 'resentment', 'foggy', 'clearly', '!\"', 'demeanor', 'spicy', 'havens', 'invariably', 'Manchester', 'bricks', 'Crew', 'sway', 'pester', 'eruption', 'strength', 'chowder', 'excludes', 'merrier', 'actuated', 'reasoning', 'annual', 'instantaneously', 'noblemen', 'horrified', 'insurances', 'those', 'Rafters', '92', 'Platonian', 'continuation', 'neighbors', 'offers', 'Feet', 'unawares', 'pauses', 'comest', 'paves', 'inseparable', 'portable', 'SHIP', 'deliriums', 'Cut', 'evenly', 'haunt', 'camel', 'Lazarus', 'plan', 'Commanded', 'adoration', 'notched', 'ottomans', 'eloped', 'swaths', 'dripping', 'longed', 'Cape', 'princes', 'wedded', 'frequency', 'Shall', 'principles', 'stumbled', 'lighter', 'cringing', 'deceived', 'delivery', 'brag', 'Julys', 'blaze', 'backwardly', 'Tumble', 'engraving', 'Sideways', 'long', 'insufferable', 'perry', 'society', 'butcher', 'indolently', 'Pythagoras', 'moisture', 'thanked', 'Towards', 'banked', 'wrest', 'wedge', 'Lion', 'Prophet', 'twisting', 'designation', 'troubledly', 'jacks', 'amazement', 'regularity', 'Leo', 'nill', 'breeds', 'wrapt', 'alarm', 'rebelling', 'renegades', 'multitudinous', 'assure', 'coral', 'rudely', 'oaks', 'doubtless', 'dromedary', 'peasants', 'fence', 'hairs', 'spheres', 'abided', 'caught', 'darbies', 'wanings', 'Turn', 'weekly', 'jammed', 'muffle', 'pagans', 'aloof', 'trumpet', 'intimation', 'pegging', 'overlays', 'mannikin', 'dislodged', 'cymballing', 'frequent', 'dancing', 'marvelling', 'Supplied', 'condensation', 'quilted', 'palmed', 'Diaz', 'conventional', 'groans', 'bodices', 'bent', 'undulates', 'portly', 'VOYAGER', 'ordinary', 'jails', 'incompetence', 'sheath', 'heroically', 'instigation', 'watered', 'laborious', '000', 'MULTUM', 'seemly', 'repetitions', 'sheaved', 'grizzled', 'THE', 'stowed', 'startlingly', 'caves', 'Cough', 'wheel', 'unseamanlike', 'affectionate', 'lieu', 'Usher', 'somnambulisms', 'liv', 'surrounded', 'respect', 'creature', 'impeding', 'individualizing', 'Caught', 'cursing', 'Wave', 'durable', 'unfold', 'gaze', 'baron', 'Wa', 'glittered', 'pen', 'nonsense', 'polish', 'turtle', 'Ray', 'breaching', ')', 'APOLOGY', 'looker', 'seamless', 'gnomon', 'Away', 'besmoked', 'devoutly', 'application', 'narrative', 'arranging', 'stoutly', 'Fore', 'recrossing', 'retires', 'preferred', 'birch', 'Meantime', 'securing', 'goodly', 'Simeon', 'assuaging', 'mourning', 'wakes', 'obstructed', 'tedious', 'crescent', 'possessed', 'Bosom', 'handedness', 'deprecating', 'Least', 'miller', 'caressed', 'Clam', 'cord', 'optically', 'shudder', 'Guernseyman', 'flank', 'eleven', 'essences', 'petrified', 'exacted', 'preternaturalness', 'dived', 'HOLY', 'seeming', 'creditors', 'These', 'constantly', 'Squeeze', 'worn', 'couch', 'motions', 'harem', 'poor', 'caudam', 'sturgeon', 'adjoining', 'detected', 'ringbolts', 'breasted', 'beings', 'Carthage', 'individuals', 'mockingly', 'Inert', 'marble', 'topmost', 'elephants', 'numbers', 'attraction', 'ON', 'azure', 'fitfully', 'funereal', 'transferred', 'piping', 'vagrant', 'crash', 'Therefore', 'filling', 'sends', 'buries', 'blunder', 'intrepid', 'homeward', 'deliriously', 'RECLINING', 'vomit', 'industry', 'vesper', 'mutual', 'be', 'whatever', 'skrimmage', 'cautiously', 'suffusingly', 'resign', 'killers', 'represents', 'jeer', 'fate', 'unprecedented', 'Satan', 'illimitable', 'VERSION', 'rumbled', 'shun', 'waiter', 'Power', 'foundations', 'Bears', 'upliftings', 'Fogo', 'shoeless', 'pleadings', 'twilights', 'freighted', 'unworthy', 'HANGING', 'arching', 'uncompromised', 'y', 'endearments', 'MOUTHED', 'equally', 'goal', 'skip', 'widening', 'wards', 'gobern', 'minute', 'bellows', 'LONDON', 'farings', 'lends', '2', 'polar', 'floor', 'show', 'marshals', 'Fellow', 'contusions', 'players', 'discomforts', 'chances', 'donkey', 'outlets', 'bottomless', 'mastications', 'coyings', 'genus', 'uninjured', 'history', 'shipmate', 'ash', 'vitiated', 'intending', 'knowledge', 'presentations', '1821', 'supine', 'crippled', 'shrines', 'pounded', 'openmouthed', 'herself', 'flags', 'tantamount', 'fabric', 'isolation', 'brood', 'keels', 'contented', 'horrors', 'clad', 'provision', 'colony', 'leaves', 'whiteness', 'TERROREM', 'mangrove', 'livers', 'Ahaz', 'Alps', 'adventure', 'advent', 'enlarge', 'cook', 'VOYAGE', 'trifles', 'Valparaiso', 'advocate', 'visits', 'arrive', 'detached', 'festivities', 'curve', 'Dut', 'lunging', 'swerved', 'inheritor', 'undeliverable', 'abbreviate', 'propose', 'elaborately', 'epidemic', 'pent', 'unclouded', 'jib', 'undulations', 'lilies', 'Canallers', 'CONTINUES', 'Job', 'listlessness', 'invert', 'efficient', 'ecliptics', 'Entreaties', 'disasters', 'social', 'punch', 'illumination', 'fitness', 'truth', 'companied', 'heavily', 'beloved', 'heaving', 'incessant', 'mystery', 'cage', 'Pope', 'preeminence', 'dejected', 'recluse', 'something', 'accompanying', 'did', 'betake', 'baleen', 'confidently', 'ISHMAEL', 'divined', 'uniform', 'duty', 'lins', 'pronounced', 'manipulator', 'ale', 'statistics', 'hintings', 'preliminaries', 'trophies', 'priest', 'shells', 'SULKY', 'braided', 'Tahitian', '85', 'cooling', 'So', 'by', 'eloquently', 'Come', 'sees', 'slantingly', 'FORESAIL', 'maelstrom', 'chin', 'BALLENA', 'clock', 'impregnably', 'subtleties', 'Omen', 'backwards', 'highwaymen', 'mighty', 'LEATHER', 'BY', 'gudgeons', 'appropriated', 'horseman', 'paw', 'acquaintances', 'pluck', 'latitudes', 'link', 'misfortunes', 'forgot', 'saws', 'hie', 'squattings', 'Scragg', 'kick', 'coffin', '---,', 'sympathies', 'parchment', 'serious', 'endued', 'Hem', 'flap', 'pawn', 'delicacy', 'SIXTH', 'undigested', 'growth', 'hangs', 'candid', 'tally', 'unsetting', 'destiny', 'bleeding', 'Flukes', 'unverdured', 'wavy', 'Being', 'Phrenologist', 'leech', 'Equality', 'marches', 'Immense', 'conflicts', 'sinister', 'wanderer', 'penetrate', 'burrower', 'numbed', '!)\"', 'salutation', 'Stoics', 'DEVIL', 'developments', 'Swedes', 'humor', 'YARD', 'ticking', 'resorting', 'barrel', 'mermaid', 'incarcerated', 'quill', 'Beloved', 'killer', 'risked', 'wall', 'clothes', 'swimming', 'Heads', 'Hugest', 'lakes', 'kiss', 'bristles', 'Alarmed', 'Pip', 'Third', 'eatable', 'commissioned', 'downward', 'chatting', 'Deliverer', 'emergencies', 'WALLEN', 'corkscrewed', '105', 'waistcoat', 'pall', 'mystifications', 'casements', 'merest', 'wages', 'afflictions', 'unmatched', 'aspects', 'repentant', 'triumphant', 'Assaulted', 'stalls', 'States', 'tranquilly', 'badger', 'undashed', 'Strictly', 'scuttling', 'cockpits', 'excite', 'instructions', 'humility', 'recognise', 'Coleridge', 'tearingly', 'stretching', 'valiant', 'discretion', 'earthquakes', 'happy', 'corporeally', ');', 'Europa', 'Rabelais', 'Jacob', 'Crying', 'goin', 'cheeked', 'indefiniteness', 'want', 'holy', 'Deacon', 'substituting', 'pulpy', 'Slave', 'stockinged', 'rally', 'sobbing', 'queens', 'Pretty', 'immense', '38', 'Seat', 'crammed', 'exists', 'surmise', 'sighs', 'globe', 'NATURALIST', 'stepmother', 'antediluvian', 'noses', 'overmuch', 'positive', 'acquiescence', 'interrogatively', 'reigns', 'repassing', 'England', 'fiends', 'immortals', 'arterial', 'unintegral', 'Stripped', 'conspicuously', 'doleful', 'stage', 'Dog', 'wantonness', 'jugglers', 'invisibly', 'demonstrable', 'picked', 'reckless', 'expose', 'Um', 'pants', 'Grand', 'ferrule', 'judgmatically', 'occupying', 'shout', 'enjoined', 'crown', 'aground', 'huskily', 'unpitying', 'intolerable', 'toughness', 'pilot', '1842', 'repartees', 'cherish', 'avers', 'boiling', 'welcome', 'hundreds', 'thin', 'eyest', 'implements', 'begging', 'Himself', 'comet', 'crab', 'pity', 'outraged', 'decay', 'Priest', 'smoothed', 'rear', 'fear', '120', 'Wellington', 'softness', 'dreadnaught', 'heterogeneously', 'proclamation', 'insanity', 'Ultimately', 'cleanse', 'secretly', 'backstays', 'malefactors', 'footed', 'bundle', 'unwilted', 'staring', 'breathe', '*', 'bread', 'insulting', 'murderers', 'accompanied', 'legitimately', 'buttoned', 'bulks', 'sight', 'convulsive', 'gentleness', 'creeping', 'awfulness', 'acquaintance', 'bruised', 'truly', 'pulling', 'activity', 'bowl', 'marchant', 'umbrellas', 'ruffled', 'jealously', 'fatherless', 'crutch', 'becharmed', 'tradition', 'tissues', 'oakum', 'feebly', 'establishment', 'wants', 'anomalous', 'equatorial', 'hogs', 'extremes', 'dull', 'cuttle', 'masters', 'antlers', 'belfry', 'panelled', 'entrenchments', 'fountain', 'neighbour', 'revealing', 'vomited', 'nervously', 'French', 'mattrass', 'pelt', 'bedarned', 'grease', 'defiance', 'catching', 'triply', 'RESUMING', 'Very', 'arises', 'warmly', 'toilet', 'Arkansas', 'shivers', 'Better', 'incense', 'Alexanders', 'facts', 'interflow', 'nautilus', 'pallor', 'isinglass', 'diabolical', 'supernal', 'joining', 'maim', 'united', 'baffle', 'adopt', 'governed', 'odor', 'beverage', 'sentimental', 'Skin', 'withered', 'impetus', 'bought', 'spluttering', 'Anne', 'arched', 'Greenland', 'Charity', 'insider', 'Thee', 'whelm', 'enhance', 'chaps', 'letting', 'Jupiter', 'wedged', 'themselves', 'St', 'sublime', 'obstacle', 'managed', 'natural', 'preservers', 'fits', 'thereof', 'FLASHES', 'withstanding', 'skrimshandering', 'mould', 'chassee', 'straining', 'SPANISH', 'barbed', 'shameful', 'vengeance', 'TRUE', 'Joppa', 'accomplished', 'primogenitures', 'laughing', 'limped', 'sprung', 'mustering', 'efficiency', 'Wonder', 'haters', 'Fashioned', 'shared', 'sterned', 'professed', 'bannisters', 'feasting', 'surtout', 'prodigiously', 'Carrol', 'gorings', 'mist', 'file', 'humbug', 'muzzle', 'keeled', 'shoes', 'WINDOW', 'terrors', 'intensity', 'Ocean', 'military', 'unneeded', 'soundings', 'Forming', 'wearied', 'Chace', 'loath', 'cocoanut', 'foreseen', 'quarts', 'unfailing', 'Betty', 'threshold', 'Ganders', 'beauty', 'reversing', 'Sikoke', 'scornest', 'slappin', 'Albino', 'housed', 'only', 'illustrates', 'went', 'darkly', 'sweatings', 'distinct', 'slew', 'brisk', 'postman', 'VOICE', 'jump', 'seminal', 'lard', 'condensed', 'report', 'strewn', 'localness', 'obtruding', 'ire', 'not', 'guise', 'cellar', 'profit', 'Frankfort', 'dumb', 'visible', 'damned', 'mouth', 'Exploring', 'Blanket', '41', 'unlacing', 'estimate', 'Thy', 'professors', 'nostrils', 'broke', 'Pushing', 'boards', 'roof', 'season', 'wander', 'funereally', 'browsing', 'oarsmen', 'contributes', 'stuffed', 'whistle', 'comprises', 'march', 'curled', 'surmisings', 'bust', 'dauntless', 'impregnable', 'stowing', 'Ten', 'Mrs', 'pupils', 'Peru', 'alleged', 'HOMEWARD', 'sprout', 'rowing', 'unnecessary', 'tinge', 'hist', 'tear', 'crack', 'children', 'blinding', 'histories', 'tutored', 'hideously', 'prevail', 'Quito', 'corresponding', 'technical', 'Cetacea', 'scouts', 'corporeal', 'explanation', 'mosses', 'mayst', 'stating', 'cape', 'ring', 'carries', 'ghostliness', 'Fain', 'communicating', 'convince', 'truths', 'finer', 'Copenhagen', 'Pusie', 'overseeing', 'climate', 'beater', 'regal', 'shifting', 'Capting', '1668', 'arrowy', 'effaced', 'phrenologists', 'QUITO', 'hast', 'Fishiest', 'binnacle', 'whereupon', 'considerably', 'cavity', 'chess', 'CANNY', 'fancy', 'withdraws', 'sympathetically', 'well', 'lowers', 'mistrust', 'keystone', 'inclosed', 'panels', 'lurching', 'boon', 'poop', 'trope', 'expressive', 'whirling', 'chased', 'Cleopatra', 'middling', 'coronation', 'Whole', 'scarf', 'hardest', 'babes', 'sellin', 'personal', 'Baling', 'woollen', 'befallen', 'Chartering', 'Dampier', 'Steed', 'project', 'leaning', 'wights', 'forges', 'prescient', 'folder', 'CHEEVER', 'crisp', 'desolation', 'lamentable', 'imputed', 'Manxman', 'Egyptians', 'besieged', 'daintiness', 'humorously', 'Johnson', 'cherished', 'wring', 'skins', 'infinitely', 'lets', 'dish', 'Acushnet', 'extant', 'silently', 'winsome', 'suicide', 'flitting', 'daughters', 'totalities', 'quarto', 'divides', 'prehensile', 'unerringly', 'Astir', 'vigorous', 'piously', 'depth', 'skirra', 'steed', 'Boone', 'colleges', 'bursting', 'doctors', 'radiance', '35', 'manufacturer', 'musked', 'screaming', 'fruits', 'prescribed', 'cloths', 'never', 'sack', 'adds', 'passant', 'Isles', 'parti', 'intercedings', 'Constable', 'tacks', 'Welding', 'outspreadingly', 'axis', 'tents', 'post', 'geese', 'helmsman', 'trover', 'Huge', 'Belated', 'rod', 'sacrifice', 'thirstily', 'available', 'Remark', 'praying', 'gesture', 'exotic', '69', 'wallowing', 'slighter', 'tendrils', 'say', 'inserted', 'mending', 'seizure', 'spreading', 'PREBLE', 'Honourary', 'spiral', 'doomed', 'Sixteen', 'feud', 'patchwork', 'operates', 'unto', 'wouldst', 'sleeper', 'LEAP', 'Constantine', 'spectre', 'fleece', 'duellist', 'West', 'gathered', 'Virgin', 'smeer', 'indiscreet', 'direction', 'issue', 'ober', 'expressed', 'dolphins', 'nightly', 'faithfully', 'ATTACKED', 'fitting', 'North', 'uncompleted', 'fifty', 'pious', 'GREEK', 'adornment', 'approaches', 'awaiting', 'TAKING', 'symbolize', 'celerity', 'unsheathes', 'beech', 'stranger', 'splash', 'Duke', 'combining', 'soliloquizing', 'weakened', 'crept', 'deceitfully', 'romantic', 'phantoms', 'piling', 'egotistical', '64', 'calm', 'unmisgiving', 'faces', 'gamy', 'stave', 'vertebra', 'cranial', 'inexorable', 'bailer', 'bedwards', 'insure', 'enabled', 'spliced', 'wreck', 'concealed', 'tinkers', 'rowed', 'Baltic', 'mumblings', 'unscientific', 'Philologically', 'shiningly', 'Shaster', 'M', 'commonplaces', 'resisted', 'clamor', 'LEG', 'flipped', 'glossy', 'honest', 'recently', '1775', 'ethereal', 'forgotten', 'revulsion', 'pain', 'cow', 'cougar', 'Upper', 'arrow', 'rare', 'thumbs', 'drilled', 'mizentop', '58', 'Wherein', 'strenuous', 'fossil', 'unshorn', 'System', 'bosom', 'Lost', 'whaling', 'buttons', 'jack', 'stig', 'complained', 'frugal', 'slipping', 'cent', 'SLABS', 'belted', 'tasselled', 'gift', 'pry', 'Indians', 'thoughted', 'Science', 'celebrity', 'figured', 'touching', 'unfavourable', 'Murray', 'presently', 'Hemp', 'balloon', 'recalled', 'waves', 'George', 'gifts', 'glancing', 'Folio', 'pendants', 'ISAIAH', 'sultanically', 'Tertiary', 'sweeping', 'eager', 'Aquarius', 'anomalously', 'sailor', 'utilitarian', 'noticed', 'silence', '74', 'counsel', 'shipyards', 'try', 'poniard', 'habitually', 'Desmarest', 'erected', 'rush', 'honours', 'latter', 'vacation', 'nice', 'topic', 'Bestow', 'purporting', 'indispensableness', 'returns', 'pronged', 'cudgelling', 'guiltiness', 'cetology', 'hell', 'laughed', 'capturing', 'DAM', 'bay', 'stretched', 'difference', 'signals', 'gloating', 'flourished', 'looming', 'spires', 'capacious', 'Elbe', 'diameter', 'fixing', 'belief', 'contrived', 'soundest', 'Blackstone', 'devoured', 'sailmakers', 'controls', 'spiles', 'Chief', 'oddly', 'bakers', 'building', 'sleeping', 'enters', 'tens', 'EDMUND', 'toy', 'Hercules', 'bachelor', 'affecting', 'Pandects', 'master', 'bloody', 'occurrence', 'companionway', 'head', 'ISOLATO', 'devouring', 'involuntarily', 'pains', 'stamp', 'dreaminess', 'surcoat', 'serfs', 'subtle', 'unchallenged', 'frighten', 'Lake', 'Scandinavian', 'screamed', 'ANCHORS', 'excavation', 'lastly', 'boys', 'feeders', 'Gardiner', 'In', 'outermost', 'Coming', ',\"--', 'reiterating', 'dents', 'insultest', 'constraint', 'Nearly', 'lure', 'mother', 'dubiously', 'battering', 'Cutter', 'damply', 'cleat', 'foul', 'immovable', 'stampedoes', 'innuendoes', 'LYING', 'changed', 'witnessing', 'headed', 'fortitude', 'Gabriel', 'untraceable', 'Moving', 'seniors', 'breasts', 'GATHER', 'Michael', 'scepticism', 'rails', 'opposing', 'Lionel', 'predestinating', 'soft', 'carry', 'carpenter', 'crotchets', 'bethought', 'licensed', 'disappears', 'college', 'sexes', 'plaguey', 'adoring', 'butter', 'Regarded', 'Tut', 'stammer', 'reefing', 'shovel', 'menaced', 'rustles', 'jocularly', 'sweethearts', 'diverting', 'OBED', 'Siam', 'vowing', 'doors', 'plebeian', 'feverishly', 'carcases', 'sordid', 'visit', 'summits', 'befall', 'atheism', 'hoops', 'negative', 'repent', 'bowsman', 'grandmother', 'adhesiveness', 'landscape', 'lung', 'hid', 'jure', 'boa', 'Senators', 'ribby', 'abatement', 'alluding', 'spangling', 'delirium', 'beads', 'Alive', 'fastener', 'necessaries', 'spread', 'occupation', 'devilish', 'monomaniac', 'Descending', 'quadruped', 'pitched', 'Snap', 'Canaller', 'bags', 'Biographical', 'shrieking', 'settling', 'undisputed', 'entablatures', 'immortal', 'science', 'crusader', 'immaculate', 'fiddler', 'salt', 'thoughtfulness', 'flailing', 'divineness', 'reappeared', 'PROGRESS', 'Hist', 'victoriously', 'prove', 'invincible', 'mown', 'remained', 'pulse', 'shaded', 'banquet', 'Avast', '122', 'calculated', 'Tic', 'even', 'Crusaders', 'stains', 'fidelity', 'cowards', 'bowings', 'presence', 'flogged', 'draughts', 'marksmen', 'lament', 'vagueness', 'limit', 'Presbyterians', 'suffusing', 'Congo', 'ob', 'Polynesia', 'Didst', 'Ellenborough', 'hooks', 'shallowest', 'foam', 'stirring', 'Stretched', 'shadows', 'alb', 'surprised', 'odds', 'County', 'observers', 'grandissimus', 'knives', 'betrayed', 'DISSECTION', 'verdant', 'When', 'bass', 'expense', 'timely', 'eastern', 'Terrible', 'leisure', 'Your', 'originated', 'bayonet', 'disturb', 'Grace', 'dearly', 'incorruption', 'treasures', 'crests', 'brats', 'smelt', 'knots', 'like', 'Carpenter', 'Suddenly', 'gasped', 'wills', 'ribs', 'little', 'trick', 'blurred', 'AGAINST', 'hole', 'remounting', 'blunted', 'ONLY', 'ostrich', 'Bibles', 'Medes', 'cutting', 'next', 'roundly', 'banners', 'tilting', 'fearlessly', 'ashore', 'lazily', 'desirable', 'Insurance', 'glare', 'feast', 'interpreting', 'transparently', 'EXCHANGING', 'rivers', 'Northern', 'buoy', 'Consequently', 'bouncing', 'flavor', 'stiver', 'treacheries', 'conceive', 'mainly', 'shouldering', 'magnificence', 'disincline', 'Impenetrable', 'pinched', 'jetting', 'convictions', 'shop', 'madden', 'denominate', 'glue', 'unassured', 'Fourth', 'managers', 'weaver', 'lighted', 'grab', 'beaches', 'indignant', 'socially', 'depreciates', 'aglow', 'exclamation', 'truce', 'Stepping', 'Jerk', 'Daboll', 'blanks', 'Thinks', 'Divine', '77', 'fitted', 'eternal', 'Growlands', 'stigma', 'hemp', 'flashings', 'operator', 'flagon', 'blandness', 'succeed', 'images', 'rehearsed', 'background', 'giant', 'pledge', 'revolvingly', 'manoeuvres', 'turkeys', 'Rock', 'Durer', 'temple', 'Wrinkled', 'is', 'biting', 'impresses', 'enigmatical', 'collaring', 'Zealanders', 'prose', 'brooding', 'Krusenstern', 'gin', 'grieved', 'Coast', 'valley', 'swimmer', 'leavings', 'SIR', 'ran', 'BATTLE', 'qualified', 'penetrated', 'widow', 'coronations', '135', 'frock', 'flouts', 'fleetness', 'awls', 'comforted', 'goney', 'talking', 'Huzza', 'own', 'pedlars', 'dash', 'circulate', 'Top', 'quenchless', 'capture', 'Blast', 'earnestness', 'Mean', 'artificial', 'pass', 'almost', 'flaxen', 'fringed', 'washed', 'Virginia', 'pamphlets', 'stormy', 'appearance', 'ISLAND', 'cross', 'tiered', 'ark', 'slatternly', 'perquisites', 'Sydney', 'graduates', 'bears', 'bounder', 'clearest', 'narrower', 'careful', 'Removing', 'Immortal', 'arrested', 'ahoy', 'knocked', 'climbs', 'splinters', 'fourths', 'tunic', 'Eh', 'hiding', 'dissimilar', 'wisely', 'luridly', 'cost', 'life', 'human', 'shilling', 'visions', 'pecked', 'wonderments', 'adequate', 'instinctively', 'unrecking', 'Typhoons', 'demoniac', 'struggle', 'swap', 'forms', 'indigenous', 'watcher', 'Justice', 'lightest', 'given', 'pertaining', 'lion', 'unaccountably', 'standers', 'nourishment', 'pike', 'skilful', 'tropics', '114', 'contradict', 'hot', 'surest', 'Cleveland', 'SINGING', 'balls', 'advert', 'depending', 'Buckets', 'during', 'WHALESHIPS', 'cradle', 'rickety', 'leaned', '98', 'Day', 'collected', 'stark', 'shoal', 'uncounted', 'delirious', 'slumberers', 'safety', 'Purchas', 'Mastodon', 'Supposing', 'GRAND', 'replacing', 'extracting', 'therefore', 'lives', 'saved', 'renowned', 'mustered', 'dragging', 'wriggles', 'soliloquizer', 'structural', '115', 'rapscallions', 'swooping', 'amplified', 'failures', 'songster', 'parents', 'maritime', 'slumbering', 'accumulating', 'Hoot', 'suffused', 'fleets', 'thereby', 'tending', 'Cousin', 'slices', 'languishing', 'Harvard', 'agrees', 'abstemious', '40', 'ideal', 'denizen', 'invocation', 'Lamp', 'nick', 'missing', 'thrusting', 'exhaust', 'hour', 'house', 'promises', 'restlessness', 'stiff', 'leaped', 'whalebone', 'cuts', 'Trap', 'Saladin', 'mutations', '59', 'collateral', 'peddling', 'scars', 'LARGE', 'firewood', 'peculiar', 'grog', 'tail', 'elected', 'shady', 'grown', 'Spring', 'neighborhood', 'subaltern', 'momentarily', 'outrage', 'bleaching', 'blazing', 'Sleep', 'track', 'whit', 'instant', 'aroma', 'overflowed', 'map', 'lord', 'hush', 'wantest', 'claps', 'SEEN', 'clapping', 'involutions', 'connected', 'geometrical', 'solicitude', 'days', 'asunder', 'below', 'Scotch', 'rock', 'Burke', 'tumble', 'improving', 'rushes', 'Jordan', 'entangled', 'against', 'consequences', 'superficial', 'inestimable', 'created', 'peltry', 'ghastliness', 'sofas', 'top', 'highness', 'sting', 'Killed', 'Bildad', 'envelope', 'peculiarly', 'dial', 'doubted', 'mummeries', 'princely', 'Heed', 'timeliest', 'banned', 'waked', 'globular', 'Himmalehs', 'duke', 'blank', 'MOUNTED', 'banker', 'wonted', 'Passion', 'THUS', 'jeeringly', 'forty', 'humbly', 'together', '1807', 'thro', 'deprecatory', 'planet', 'Benjamin', 'testified', 'Beneath', 'distracted', 'defilements', 'courting', 'viciously', 'fertilely', 'lacquered', 'intertwisting', 'tags', 'centre', 'amain', 'Hiding', 'investigations', 'mockery', 'porch', 'unharmed', 'ostentatiously', 'Fleece', 'After', 'bodied', 'abstracted', 'weeps', 'saints', 'troublesome', 'bustle', 'vacuity', 'hauled', 'grow', 'suck', 'pallid', 'frontier', 'Korah', 'starved', 'heave', 'organizations', 'shrieks', 'sustained', 'bring', 'overbalance', 'revelry', 'tempted', 'bamboozle', 'flash', 'faithful', 'An', 'rallied', 'deeper', 'cold', 'effeminacy', 'obligations', 'Put', 'piteous', 'sconces', 'Assyrian', 'grant', 'overtaking', 'affinities', 'matches', 'Face', 'conceited', 'fruition', 'CARPENTER', 'PROFANE', 'overtakes', 'depended', 'crumpled', 'soot', 'steeped', 'Hallo', 'set', 'adorning', 'skirting', 'convolutions', 'brained', 'somewhat', 'soak', 'flooded', 'fleshy', 'square', 'shaking', 'everybody', 'againe', 'Much', 'clothing', 'profundity', 'scrubbed', 'Pequod', '1695', 'zone', 'deplored', 'autumnal', 'dedication', 'slate', 'Thought', 'shrinked', 'Cross', 'stokers', 'strong', 'galliot', 'would', 'thee', 'Hackluyt', 'inches', 'FULLLER', 'Brahmins', 'surveyor', 'wished', 'tackles', 'permitted', 'judgment', 'merits', 'manhood', 'ardour', 'crimsoned', 'warriors', 'Spread', 'breezing', 'gizzard', 'heavy', 'Mysticetus', 'jovial', 'confines', 'Orient', 'teach', 'victor', 'Parallel', 'couriers', 'realizing', 'Philistine', 'hearts', 'picking', 'LASCAR', 'vindictiveness', 'Uppermost', 'enrolled', 'omen', 'relapses', 'Funeral', 'fist', 'Ho', 'EX', 'situation', 'patronise', 'Dance', 'marine', 'perennial', 'passionate', 'aesthetically', 'OFF', 'SCUTTLE', 'dedicates', 'Missouri', 'fancied', 'dilapidated', 'snaps', 'pleasuring', 'Stop', 'magnetizing', 'Ferdinando', 'maternal', 'unsubstantial', 'prolongingly', 'nuts', 'spirits', 'killed', 'disintegrate', 'luggers', 'Sorrows', 'knobbed', 'firmaments', 'hermit', 'indomitable', 'invited', 'peep', 'Detached', 'metropolitan', 'interpenetrate', 'unappeasedly', 'paced', 'today', 'longest', 'sultanism', 'dishonour', 'lofty', 'normal', 'depose', 'procuring', 'skewer', 'cheered', 'imperative', 'defined', 'painfulness', 'gaff', 'Wretched', 'worthy', 'weakling', 'shy', 'territorial', 'later', 'affording', 'elements', 'edition', 'tap', 'brandy', 'cibil', 'begrimed', 'centuries', 'outstrip', 'irresistibly', 'violently', 'analogy', '.)', 'credulities', 'dinnerless', 'exchange', 'orthodoxy', 'seemed', 'Sw', 'midday', 'valleys', 'oval', 'wallowed', 'follow', 'insular', 'profoundest', 'unflinching', 'unmomentous', 'statements', 'aorta', 'waving', 'Tolland', 'footman', 'ferule', 'tie', 'basement', 'surpasses', 'Burtons', 'brotherhood', 'broods', 'contact', 'inquiries', 'magnanimity', 'stout', 'consisting', 'assertion', 'Table', 'laced', 'overshoes', 'food', 'wise', 'Catskill', 'Assuming', 'perceptibly', ';\"--', 'surgeons', 'Dash', 'voracious', 'Lose', 'admonishing', 'recondite', 'disgorge', 'washing', 'envious', 'flattering', 'involved', 'looks', 'touchy', 'insulated', 'ever', 'snuffing', 'planted', 'governor', 'vowed', 'Likewise', 'villainies', 'need', 'discreet', 'manifested', 'PALEY', 'compactness', 'suspended', 'twisk', 'climes', 'FIFE', 'sequel', 'oilpainting', 'worked', 'spines', 'loftiest', 'affidavit', 'ridiculous', 'mouthed', 'Schmerenburgh', 'implicit', 'feathering', 'Siamese', 'auspices', 'kicks', 'Bulwarks', 'patrolling', 'unreasonable', 'cellars', 'Straightway', 'intended', 'obliterated', 'Humpback', 'firmness', 'detestation', 'ordained', 'condemning', 'exertions', 'frayed', 'Fedallah', 'seducing', 'sieve', 'promise', 'brass', 'colder', 'happening', 'successful', 'seats', 'Indiamen', 'sharpened', 'tranquillities', 'frogs', 'contradicted', 'fur', 'paints', 'breeching', 'Butchers', 'anxiety', 'thrashing', 'Davis', 'idleness', 'estimated', 'perceiving', 'harmoniously', 'Mendanna', 'tongue', 'bolder', 'faculties', 'authentic', 'concentration', 'mum', 'dat', 'pitches', 'Shooting', 'fairer', 'am', 'intrepidity', 'Pascal', 'duff', 'Bachelor', 'book', 'happens', 'masoned', 'hate', 'shyness', 'cursings', 'plays', 'religion', 'preside', 'stealing', 'pose', 'egress', 'unreasoning', 'forlornness', 'Just', 'greenish', 'riveted', 'destitute', 'icebound', 'transcendent', 'dazzling', 'rocket', 'grasps', 'rival', 'poetical', 'guarding', 'sheaths', 'poverty', 'burial', 'fetch', 'tu', 'piazza', 'buttoning', 'Mind', 'privateers', 'Winnebago', 'owns', 'Pedestrians', 'establishing', 'Regarding', 'MISSIONARY', 'swayed', 'twists', 'Any', 'Birmah', 'Almighty', 'joke', 'outbranching', 'properties', 'Feegee', '1492', 'TEENTH', 'compact', 'inwards', 'Greenwich', 'assassins', 'setting', 'circumambient', 'Battery', 'derisive', 'partaking', 'spiralise', 'Orion', 'Names', 'banteringly', 'shoved', 'glittering', 'robbers', 'careless', '5TH', 'undiscriminating', 'fierce', 'Loftiest', 'Arctic', 'knife', 'lies', 'ding', 'vigilance', 'ours', 'muscles', 'foretell', 'swallowed', 'pulpits', 'Bashaw', 'houses', 'deformed', '\"--', 'injustice', 'kiln', 'quadrant', 'During', 'said', 'reverenced'])"
      ]
     },
     "execution_count": 37,
     "metadata": {},
     "output_type": "execute_result"
    }
   ],
   "source": [
    "vocabulary1"
   ]
  },
  {
   "cell_type": "code",
   "execution_count": 41,
   "metadata": {},
   "outputs": [
    {
     "data": {
      "image/png": "[encoded data removed]",
      "text/plain": [
       "<matplotlib.figure.Figure at 0x640a390>"
      ]
     },
     "metadata": {},
     "output_type": "display_data"
    }
   ],
   "source": [
    "#找出前10個最常用的詞，並畫圖\n",
    "fdist1.plot(10,cumulative=True)"
   ]
  },
  {
   "cell_type": "code",
   "execution_count": 45,
   "metadata": {},
   "outputs": [],
   "source": [
    "V = set(text1)\n"
   ]
  },
  {
   "cell_type": "code",
   "execution_count": 46,
   "metadata": {},
   "outputs": [],
   "source": [
    "long_words = [w for w in V if len(w) > 15]"
   ]
  },
  {
   "cell_type": "code",
   "execution_count": 47,
   "metadata": {},
   "outputs": [
    {
     "data": {
      "text/plain": [
       "['CIRCUMNAVIGATION',\n",
       " 'Physiognomically',\n",
       " 'apprehensiveness',\n",
       " 'cannibalistically',\n",
       " 'characteristically',\n",
       " 'circumnavigating',\n",
       " 'circumnavigation',\n",
       " 'circumnavigations',\n",
       " 'comprehensiveness',\n",
       " 'hermaphroditical',\n",
       " 'indiscriminately',\n",
       " 'indispensableness',\n",
       " 'irresistibleness',\n",
       " 'physiognomically',\n",
       " 'preternaturalness',\n",
       " 'responsibilities',\n",
       " 'simultaneousness',\n",
       " 'subterraneousness',\n",
       " 'supernaturalness',\n",
       " 'superstitiousness',\n",
       " 'uncomfortableness',\n",
       " 'uncompromisedness',\n",
       " 'undiscriminating',\n",
       " 'uninterpenetratingly']"
      ]
     },
     "execution_count": 47,
     "metadata": {},
     "output_type": "execute_result"
    }
   ],
   "source": [
    "sorted(long_words)"
   ]
  },
  {
   "cell_type": "code",
   "execution_count": 48,
   "metadata": {
    "collapsed": true
   },
   "outputs": [],
   "source": [
    "fdist5 = FreqDist(text5)"
   ]
  },
  {
   "cell_type": "code",
   "execution_count": 49,
   "metadata": {},
   "outputs": [
    {
     "data": {
      "text/plain": [
       "['#14-19teens',\n",
       " '#talkcity_adults',\n",
       " '((((((((((',\n",
       " '........',\n",
       " 'Question',\n",
       " 'actually',\n",
       " 'anything',\n",
       " 'computer',\n",
       " 'cute.-ass',\n",
       " 'everyone',\n",
       " 'football',\n",
       " 'innocent',\n",
       " 'listening',\n",
       " 'remember',\n",
       " 'seriously',\n",
       " 'something',\n",
       " 'together',\n",
       " 'tomorrow',\n",
       " 'watching']"
      ]
     },
     "execution_count": 49,
     "metadata": {},
     "output_type": "execute_result"
    }
   ],
   "source": [
    "sorted([w for w in set(text5) if len(w) >7 and fdist5[w] >7])"
   ]
  },
  {
   "cell_type": "code",
   "execution_count": 52,
   "metadata": {},
   "outputs": [
    {
     "data": {
      "text/plain": [
       "<generator object bigrams at 0x0643B4E0>"
      ]
     },
     "execution_count": 52,
     "metadata": {},
     "output_type": "execute_result"
    }
   ],
   "source": [
    "bigrams(['more','is','said','than','done'])"
   ]
  },
  {
   "cell_type": "code",
   "execution_count": 53,
   "metadata": {},
   "outputs": [
    {
     "name": "stdout",
     "output_type": "stream",
     "text": [
      "United States; fellow citizens; four years; years ago; Federal\n",
      "Government; General Government; American people; Vice President; Old\n",
      "World; Almighty God; Fellow citizens; Chief Magistrate; Chief Justice;\n",
      "God bless; every citizen; Indian tribes; public debt; one another;\n",
      "foreign nations; political parties\n"
     ]
    }
   ],
   "source": [
    "#找出雙連詞\n",
    "text4.collocations()"
   ]
  },
  {
   "cell_type": "code",
   "execution_count": 56,
   "metadata": {},
   "outputs": [
    {
     "name": "stdout",
     "output_type": "stream",
     "text": [
      "[1, 4, 4, 2, 6, 8, 4, 1, 9, 1]\n"
     ]
    }
   ],
   "source": [
    "#找出詞的長度\n",
    "print ([len(w) for w in text1][:10])"
   ]
  },
  {
   "cell_type": "code",
   "execution_count": 57,
   "metadata": {
    "collapsed": true
   },
   "outputs": [],
   "source": [
    "#找出詞的長度\n",
    "fdist_len = FreqDist([len(w) for w in text1][:10])\n"
   ]
  },
  {
   "cell_type": "code",
   "execution_count": 58,
   "metadata": {},
   "outputs": [
    {
     "data": {
      "text/plain": [
       "FreqDist({1: 3, 2: 1, 4: 3, 6: 1, 8: 1, 9: 1})"
      ]
     },
     "execution_count": 58,
     "metadata": {},
     "output_type": "execute_result"
    }
   ],
   "source": [
    "fdist_len"
   ]
  },
  {
   "cell_type": "code",
   "execution_count": 59,
   "metadata": {},
   "outputs": [
    {
     "data": {
      "text/plain": [
       "dict_keys([1, 2, 4, 6, 8, 9])"
      ]
     },
     "execution_count": 59,
     "metadata": {},
     "output_type": "execute_result"
    }
   ],
   "source": [
    "fdist_len.keys()"
   ]
  },
  {
   "cell_type": "code",
   "execution_count": 64,
   "metadata": {},
   "outputs": [
    {
     "data": {
      "text/plain": [
       "dict_items([(1, 3), (2, 1), (4, 3), (6, 1), (8, 1), (9, 1)])"
      ]
     },
     "execution_count": 64,
     "metadata": {},
     "output_type": "execute_result"
    }
   ],
   "source": [
    "#訶被使用的次數\n",
    "fdist_len.items()"
   ]
  },
  {
   "cell_type": "code",
   "execution_count": 61,
   "metadata": {},
   "outputs": [
    {
     "data": {
      "text/plain": [
       "1"
      ]
     },
     "execution_count": 61,
     "metadata": {},
     "output_type": "execute_result"
    }
   ],
   "source": [
    "#最常使用的詞\n",
    "fdist_len.max()"
   ]
  },
  {
   "cell_type": "code",
   "execution_count": 62,
   "metadata": {},
   "outputs": [
    {
     "data": {
      "text/plain": [
       "3"
      ]
     },
     "execution_count": 62,
     "metadata": {},
     "output_type": "execute_result"
    }
   ],
   "source": [
    "#顯示1的次數\n",
    "fdist_len[1]"
   ]
  },
  {
   "cell_type": "code",
   "execution_count": 63,
   "metadata": {},
   "outputs": [
    {
     "data": {
      "text/plain": [
       "0.3"
      ]
     },
     "execution_count": 63,
     "metadata": {},
     "output_type": "execute_result"
    }
   ],
   "source": [
    "#顯示百分比\n",
    "fdist_len.freq(1)"
   ]
  },
  {
   "cell_type": "code",
   "execution_count": null,
   "metadata": {
    "collapsed": true
   },
   "outputs": [],
   "source": []
  }
 ],
 "metadata": {
  "kernelspec": {
   "display_name": "Python 3",
   "language": "python",
   "name": "python3"
  },
  "language_info": {
   "codemirror_mode": {
    "name": "ipython",
    "version": 3
   },
   "file_extension": ".py",
   "mimetype": "text/x-python",
   "name": "python",
   "nbconvert_exporter": "python",
   "pygments_lexer": "ipython3",
   "version": "3.5.2"
  }
 },
 "nbformat": 4,
 "nbformat_minor": 1
}
