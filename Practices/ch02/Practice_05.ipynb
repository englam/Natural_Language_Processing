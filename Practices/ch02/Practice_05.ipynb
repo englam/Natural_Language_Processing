{
 "cells": [
  {
   "cell_type": "code",
   "execution_count": 1,
   "metadata": {
    "collapsed": true
   },
   "outputs": [],
   "source": [
    "from nltk.corpus import inaugural\n",
    "import nltk"
   ]
  },
  {
   "cell_type": "code",
   "execution_count": 19,
   "metadata": {},
   "outputs": [],
   "source": [
    "cfd = nltk.ConditionalFreqDist((target, fileid[:5]) \n",
    "                               for fileid in inaugural.fileids() \n",
    "                               for w in inaugural.words(fileid) \n",
    "                               for target in ['america','citizen']\n",
    "                               if w.lower().startswith(target))"
   ]
  },
  {
   "cell_type": "code",
   "execution_count": 17,
   "metadata": {},
   "outputs": [
    {
     "data": {
      "text/plain": [
       "ConditionalFreqDist(nltk.probability.FreqDist,\n",
       "                    {'america': FreqDist({'1789': 2,\n",
       "                               '1793': 1,\n",
       "                               '1797': 8,\n",
       "                               '1805': 1,\n",
       "                               '1813': 1,\n",
       "                               '1817': 1,\n",
       "                               '1821': 2,\n",
       "                               '1833': 2,\n",
       "                               '1837': 2,\n",
       "                               '1841': 7,\n",
       "                               '1849': 2,\n",
       "                               '1853': 2,\n",
       "                               '1857': 3,\n",
       "                               '1861': 2,\n",
       "                               '1865': 1,\n",
       "                               '1877': 1,\n",
       "                               '1881': 2,\n",
       "                               '1885': 4,\n",
       "                               '1889': 6,\n",
       "                               '1893': 9,\n",
       "                               '1897': 9,\n",
       "                               '1901': 7,\n",
       "                               '1909': 12,\n",
       "                               '1917': 4,\n",
       "                               '1921': 24,\n",
       "                               '1925': 11,\n",
       "                               '1929': 12,\n",
       "                               '1933': 2,\n",
       "                               '1937': 5,\n",
       "                               '1941': 12,\n",
       "                               '1945': 2,\n",
       "                               '1949': 4,\n",
       "                               '1953': 6,\n",
       "                               '1957': 7,\n",
       "                               '1961': 7,\n",
       "                               '1965': 10,\n",
       "                               '1969': 10,\n",
       "                               '1973': 23,\n",
       "                               '1977': 5,\n",
       "                               '1981': 16,\n",
       "                               '1985': 21,\n",
       "                               '1989': 11,\n",
       "                               '1993': 33,\n",
       "                               '1997': 31,\n",
       "                               '2001': 20,\n",
       "                               '2005': 30,\n",
       "                               '2009': 15}),\n",
       "                     'citizen': FreqDist({'1789': 5,\n",
       "                               '1793': 1,\n",
       "                               '1797': 6,\n",
       "                               '1801': 7,\n",
       "                               '1805': 10,\n",
       "                               '1809': 1,\n",
       "                               '1813': 4,\n",
       "                               '1817': 14,\n",
       "                               '1821': 15,\n",
       "                               '1825': 3,\n",
       "                               '1829': 2,\n",
       "                               '1833': 3,\n",
       "                               '1837': 7,\n",
       "                               '1841': 38,\n",
       "                               '1845': 11,\n",
       "                               '1849': 2,\n",
       "                               '1853': 4,\n",
       "                               '1857': 7,\n",
       "                               '1861': 7,\n",
       "                               '1869': 5,\n",
       "                               '1873': 3,\n",
       "                               '1877': 9,\n",
       "                               '1881': 9,\n",
       "                               '1885': 13,\n",
       "                               '1889': 12,\n",
       "                               '1893': 10,\n",
       "                               '1897': 10,\n",
       "                               '1901': 2,\n",
       "                               '1905': 1,\n",
       "                               '1909': 6,\n",
       "                               '1917': 3,\n",
       "                               '1921': 6,\n",
       "                               '1925': 5,\n",
       "                               '1929': 12,\n",
       "                               '1933': 1,\n",
       "                               '1937': 2,\n",
       "                               '1941': 1,\n",
       "                               '1945': 1,\n",
       "                               '1949': 1,\n",
       "                               '1953': 7,\n",
       "                               '1961': 5,\n",
       "                               '1965': 4,\n",
       "                               '1969': 1,\n",
       "                               '1973': 1,\n",
       "                               '1981': 3,\n",
       "                               '1985': 6,\n",
       "                               '1989': 3,\n",
       "                               '1993': 2,\n",
       "                               '1997': 10,\n",
       "                               '2001': 11,\n",
       "                               '2005': 7,\n",
       "                               '2009': 2})})"
      ]
     },
     "execution_count": 17,
     "metadata": {},
     "output_type": "execute_result"
    }
   ],
   "source": [
    "#顯示特定詞出現在特定時間的 次數\n",
    "cfd"
   ]
  },
  {
   "cell_type": "code",
   "execution_count": 3,
   "metadata": {},
   "outputs": [
    {
     "name": "stdout",
     "output_type": "stream",
     "text": [
      "1789-Washington.txt\n",
      "1793-Washington.txt\n",
      "1797-Adams.txt\n",
      "1801-Jefferson.txt\n",
      "1805-Jefferson.txt\n",
      "1809-Madison.txt\n",
      "1813-Madison.txt\n",
      "1817-Monroe.txt\n",
      "1821-Monroe.txt\n",
      "1825-Adams.txt\n",
      "1829-Jackson.txt\n",
      "1833-Jackson.txt\n",
      "1837-VanBuren.txt\n",
      "1841-Harrison.txt\n",
      "1845-Polk.txt\n",
      "1849-Taylor.txt\n",
      "1853-Pierce.txt\n",
      "1857-Buchanan.txt\n",
      "1861-Lincoln.txt\n",
      "1865-Lincoln.txt\n",
      "1869-Grant.txt\n",
      "1873-Grant.txt\n",
      "1877-Hayes.txt\n",
      "1881-Garfield.txt\n",
      "1885-Cleveland.txt\n",
      "1889-Harrison.txt\n",
      "1893-Cleveland.txt\n",
      "1897-McKinley.txt\n",
      "1901-McKinley.txt\n",
      "1905-Roosevelt.txt\n",
      "1909-Taft.txt\n",
      "1913-Wilson.txt\n",
      "1917-Wilson.txt\n",
      "1921-Harding.txt\n",
      "1925-Coolidge.txt\n",
      "1929-Hoover.txt\n",
      "1933-Roosevelt.txt\n",
      "1937-Roosevelt.txt\n",
      "1941-Roosevelt.txt\n",
      "1945-Roosevelt.txt\n",
      "1949-Truman.txt\n",
      "1953-Eisenhower.txt\n",
      "1957-Eisenhower.txt\n",
      "1961-Kennedy.txt\n",
      "1965-Johnson.txt\n",
      "1969-Nixon.txt\n",
      "1973-Nixon.txt\n",
      "1977-Carter.txt\n",
      "1981-Reagan.txt\n",
      "1985-Reagan.txt\n",
      "1989-Bush.txt\n",
      "1993-Clinton.txt\n",
      "1997-Clinton.txt\n",
      "2001-Bush.txt\n",
      "2005-Bush.txt\n",
      "2009-Obama.txt\n"
     ]
    }
   ],
   "source": [
    "for fileid in inaugural.fileids():\n",
    "    print (fileid)"
   ]
  },
  {
   "cell_type": "code",
   "execution_count": 6,
   "metadata": {},
   "outputs": [
    {
     "name": "stdout",
     "output_type": "stream",
     "text": [
      "['My', 'fellow', 'citizens', ':', 'I', 'stand', 'here', ...]\n"
     ]
    }
   ],
   "source": [
    "print (inaugural.words('2009-Obama.txt'))"
   ]
  },
  {
   "cell_type": "code",
   "execution_count": 5,
   "metadata": {},
   "outputs": [
    {
     "name": "stdout",
     "output_type": "stream",
     "text": [
      "2009-Obama.txt\n"
     ]
    }
   ],
   "source": [
    "print (fileid)"
   ]
  },
  {
   "cell_type": "code",
   "execution_count": 38,
   "metadata": {},
   "outputs": [
    {
     "data": {
      "text/plain": [
       "ConditionalFreqDist(nltk.probability.FreqDist,\n",
       "                    {'america': FreqDist({'1789-': 2,\n",
       "                               '1793-': 1,\n",
       "                               '1797-': 8,\n",
       "                               '1805-': 1,\n",
       "                               '1813-': 1,\n",
       "                               '1817-': 1,\n",
       "                               '1821-': 2,\n",
       "                               '1833-': 2,\n",
       "                               '1837-': 2,\n",
       "                               '1841-': 7,\n",
       "                               '1849-': 2,\n",
       "                               '1853-': 2,\n",
       "                               '1857-': 3,\n",
       "                               '1861-': 2,\n",
       "                               '1865-': 1,\n",
       "                               '1877-': 1,\n",
       "                               '1881-': 2,\n",
       "                               '1885-': 4,\n",
       "                               '1889-': 6,\n",
       "                               '1893-': 9,\n",
       "                               '1897-': 9,\n",
       "                               '1901-': 7,\n",
       "                               '1909-': 12,\n",
       "                               '1917-': 4,\n",
       "                               '1921-': 24,\n",
       "                               '1925-': 11,\n",
       "                               '1929-': 12,\n",
       "                               '1933-': 2,\n",
       "                               '1937-': 5,\n",
       "                               '1941-': 12,\n",
       "                               '1945-': 2,\n",
       "                               '1949-': 4,\n",
       "                               '1953-': 6,\n",
       "                               '1957-': 7,\n",
       "                               '1961-': 7,\n",
       "                               '1965-': 10,\n",
       "                               '1969-': 10,\n",
       "                               '1973-': 23,\n",
       "                               '1977-': 5,\n",
       "                               '1981-': 16,\n",
       "                               '1985-': 21,\n",
       "                               '1989-': 11,\n",
       "                               '1993-': 33,\n",
       "                               '1997-': 31,\n",
       "                               '2001-': 20,\n",
       "                               '2005-': 30,\n",
       "                               '2009-': 15}),\n",
       "                     'citizen': FreqDist({'1789-': 5,\n",
       "                               '1793-': 1,\n",
       "                               '1797-': 6,\n",
       "                               '1801-': 7,\n",
       "                               '1805-': 10,\n",
       "                               '1809-': 1,\n",
       "                               '1813-': 4,\n",
       "                               '1817-': 14,\n",
       "                               '1821-': 15,\n",
       "                               '1825-': 3,\n",
       "                               '1829-': 2,\n",
       "                               '1833-': 3,\n",
       "                               '1837-': 7,\n",
       "                               '1841-': 38,\n",
       "                               '1845-': 11,\n",
       "                               '1849-': 2,\n",
       "                               '1853-': 4,\n",
       "                               '1857-': 7,\n",
       "                               '1861-': 7,\n",
       "                               '1869-': 5,\n",
       "                               '1873-': 3,\n",
       "                               '1877-': 9,\n",
       "                               '1881-': 9,\n",
       "                               '1885-': 13,\n",
       "                               '1889-': 12,\n",
       "                               '1893-': 10,\n",
       "                               '1897-': 10,\n",
       "                               '1901-': 2,\n",
       "                               '1905-': 1,\n",
       "                               '1909-': 6,\n",
       "                               '1917-': 3,\n",
       "                               '1921-': 6,\n",
       "                               '1925-': 5,\n",
       "                               '1929-': 12,\n",
       "                               '1933-': 1,\n",
       "                               '1937-': 2,\n",
       "                               '1941-': 1,\n",
       "                               '1945-': 1,\n",
       "                               '1949-': 1,\n",
       "                               '1953-': 7,\n",
       "                               '1961-': 5,\n",
       "                               '1965-': 4,\n",
       "                               '1969-': 1,\n",
       "                               '1973-': 1,\n",
       "                               '1981-': 3,\n",
       "                               '1985-': 6,\n",
       "                               '1989-': 3,\n",
       "                               '1993-': 2,\n",
       "                               '1997-': 10,\n",
       "                               '2001-': 11,\n",
       "                               '2005-': 7,\n",
       "                               '2009-': 2})})"
      ]
     },
     "execution_count": 38,
     "metadata": {},
     "output_type": "execute_result"
    }
   ],
   "source": [
    "cfd"
   ]
  },
  {
   "cell_type": "code",
   "execution_count": 39,
   "metadata": {},
   "outputs": [
    {
     "name": "stdout",
     "output_type": "stream",
     "text": [
      "        1917- \n",
      "america     4 \n",
      "citizen     3 \n"
     ]
    }
   ],
   "source": [
    "#顯示特定日期的方式\n",
    "cfd.tabulate(samples=['1917-'])"
   ]
  },
  {
   "cell_type": "code",
   "execution_count": 40,
   "metadata": {},
   "outputs": [
    {
     "name": "stdout",
     "output_type": "stream",
     "text": [
      "        Monday \n",
      "america      0 \n",
      "citizen      0 \n"
     ]
    }
   ],
   "source": [
    "cfd.tabulate(samples=['Monday'])"
   ]
  },
  {
   "cell_type": "code",
   "execution_count": null,
   "metadata": {
    "collapsed": true
   },
   "outputs": [],
   "source": []
  }
 ],
 "metadata": {
  "kernelspec": {
   "display_name": "Python 3",
   "language": "python",
   "name": "python3"
  },
  "language_info": {
   "codemirror_mode": {
    "name": "ipython",
    "version": 3
   },
   "file_extension": ".py",
   "mimetype": "text/x-python",
   "name": "python",
   "nbconvert_exporter": "python",
   "pygments_lexer": "ipython3",
   "version": "3.5.2"
  }
 },
 "nbformat": 4,
 "nbformat_minor": 2
}
